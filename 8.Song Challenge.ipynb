{
 "cells": [
  {
   "cell_type": "markdown",
   "metadata": {},
   "source": [
    "### You are the fifth employee at company XYZ. The good news is that if the company becomes big, you will become very rich with the stocks. The bad news is that, at such an early stage, the data is usually very messy. All their data is stored in json files.\n",
    "\n",
    "### The company CEO asked you very specific questions:\n",
    "\n",
    "#### (1) What are the top 3 and the bottom 3 states in terms of number of users?\n",
    "\n",
    "#### (2) What are the top 3 and the bottom 3 states in terms of user engagement? You can choose how to mathematically define user engagement. What the CEO cares about here is in which states users are using the product a lot/very little.\n",
    "\n",
    "#### (3) The CEO wants to send a gift to the first user who signed-up for each state. That is, the first user who signed-up from California, from Oregon, etc. Can you give him a list of those users?\n",
    "\n",
    "#### (4) Build a function that takes as an input any of the songs in the data and returns the most likely song to be listened next. That is, if, for instance, a user is currently listening to \"Eight Days A Week\", which song has the highest probability of being played right after it by the same user? This is going to be v1 of a song recommendation model.\n",
    "\n",
    "#### (5) How would you set up a test to check whether your model works well and is improving engagement?"
   ]
  },
  {
   "cell_type": "markdown",
   "metadata": {},
   "source": [
    "### Load the package would be used"
   ]
  },
  {
   "cell_type": "code",
   "execution_count": 1,
   "metadata": {},
   "outputs": [],
   "source": [
    "import numpy as np\n",
    "import pandas as pd\n",
    "pd.set_option(\"display.max_columns\", 10)\n",
    "pd.set_option(\"display.width\", 350)\n",
    "\n",
    "import seaborn as sns\n",
    "import matplotlib.pyplot as plt\n",
    "\n",
    "import random"
   ]
  },
  {
   "cell_type": "markdown",
   "metadata": {},
   "source": [
    "### Read in the data set"
   ]
  },
  {
   "cell_type": "code",
   "execution_count": 2,
   "metadata": {},
   "outputs": [],
   "source": [
    "dat = pd.read_json(\"../Datasets/song.json\")"
   ]
  },
  {
   "cell_type": "markdown",
   "metadata": {},
   "source": [
    "### Look into dataset"
   ]
  },
  {
   "cell_type": "code",
   "execution_count": 3,
   "metadata": {},
   "outputs": [
    {
     "name": "stdout",
     "output_type": "stream",
     "text": [
      "(4000, 6)\n",
      "<bound method DataFrame.info of               id  user_id  user_state user_sign_up_date                            song_played          time_played\n",
      "0     GOQMMKSQQH      122   Louisiana        2015-05-16                               Hey Jude  2015-06-11 21:51:35\n",
      "1     HWKKBQKNWI        3        Ohio        2015-05-01                     We Can Work It Out  2015-06-06 16:49:19\n",
      "2     DKQSXVNJDH       35  New Jersey        2015-05-04                   Back In the U.S.S.R.  2015-06-14 02:11:29\n",
      "3     HLHRIDQTUW      126    Illinois        2015-05-16                        P.s. I Love You  2015-06-08 12:26:10\n",
      "4     SUKJCSBCYW        6  New Jersey        2015-05-01  Sgt. Pepper's Lonely Hearts Club Band  2015-06-28 14:57:00\n",
      "...          ...      ...         ...               ...                                    ...                  ...\n",
      "3995  MKVEXMRJGF      122   Louisiana        2015-05-16                       Paperback Writer  2015-06-03 08:26:26\n",
      "3996  HMBEUWPBQI       76    New York        2015-05-08              Reprise / Day in the Life  2015-06-14 15:46:04\n",
      "3997  KIYDZUFUJN       68     Florida        2015-05-08                               Get Back  2015-06-13 13:13:11\n",
      "3998  BZNJXQSTTL      138     Alabama        2015-05-17                                  Help!  2015-06-01 17:01:40\n",
      "3999  LXJTCLWRUV      188    New York        2015-05-20                               Birthday  2015-06-25 18:13:41\n",
      "\n",
      "[4000 rows x 6 columns]>\n",
      "True\n"
     ]
    }
   ],
   "source": [
    "print(dat.shape)\n",
    "print(dat.info)\n",
    "print(len(dat[\"id\"]) == len(pd.unique(dat[\"id\"])))"
   ]
  },
  {
   "cell_type": "code",
   "execution_count": 4,
   "metadata": {},
   "outputs": [
    {
     "data": {
      "text/html": [
       "<div>\n",
       "<style scoped>\n",
       "    .dataframe tbody tr th:only-of-type {\n",
       "        vertical-align: middle;\n",
       "    }\n",
       "\n",
       "    .dataframe tbody tr th {\n",
       "        vertical-align: top;\n",
       "    }\n",
       "\n",
       "    .dataframe thead th {\n",
       "        text-align: right;\n",
       "    }\n",
       "</style>\n",
       "<table border=\"1\" class=\"dataframe\">\n",
       "  <thead>\n",
       "    <tr style=\"text-align: right;\">\n",
       "      <th></th>\n",
       "      <th>id</th>\n",
       "      <th>user_id</th>\n",
       "      <th>user_state</th>\n",
       "      <th>user_sign_up_date</th>\n",
       "      <th>song_played</th>\n",
       "      <th>time_played</th>\n",
       "    </tr>\n",
       "  </thead>\n",
       "  <tbody>\n",
       "    <tr>\n",
       "      <th>0</th>\n",
       "      <td>GOQMMKSQQH</td>\n",
       "      <td>122</td>\n",
       "      <td>Louisiana</td>\n",
       "      <td>2015-05-16</td>\n",
       "      <td>Hey Jude</td>\n",
       "      <td>2015-06-11 21:51:35</td>\n",
       "    </tr>\n",
       "    <tr>\n",
       "      <th>1</th>\n",
       "      <td>HWKKBQKNWI</td>\n",
       "      <td>3</td>\n",
       "      <td>Ohio</td>\n",
       "      <td>2015-05-01</td>\n",
       "      <td>We Can Work It Out</td>\n",
       "      <td>2015-06-06 16:49:19</td>\n",
       "    </tr>\n",
       "    <tr>\n",
       "      <th>2</th>\n",
       "      <td>DKQSXVNJDH</td>\n",
       "      <td>35</td>\n",
       "      <td>New Jersey</td>\n",
       "      <td>2015-05-04</td>\n",
       "      <td>Back In the U.S.S.R.</td>\n",
       "      <td>2015-06-14 02:11:29</td>\n",
       "    </tr>\n",
       "    <tr>\n",
       "      <th>3</th>\n",
       "      <td>HLHRIDQTUW</td>\n",
       "      <td>126</td>\n",
       "      <td>Illinois</td>\n",
       "      <td>2015-05-16</td>\n",
       "      <td>P.s. I Love You</td>\n",
       "      <td>2015-06-08 12:26:10</td>\n",
       "    </tr>\n",
       "    <tr>\n",
       "      <th>4</th>\n",
       "      <td>SUKJCSBCYW</td>\n",
       "      <td>6</td>\n",
       "      <td>New Jersey</td>\n",
       "      <td>2015-05-01</td>\n",
       "      <td>Sgt. Pepper's Lonely Hearts Club Band</td>\n",
       "      <td>2015-06-28 14:57:00</td>\n",
       "    </tr>\n",
       "  </tbody>\n",
       "</table>\n",
       "</div>"
      ],
      "text/plain": [
       "           id  user_id  user_state user_sign_up_date                            song_played         time_played\n",
       "0  GOQMMKSQQH      122   Louisiana        2015-05-16                               Hey Jude 2015-06-11 21:51:35\n",
       "1  HWKKBQKNWI        3        Ohio        2015-05-01                     We Can Work It Out 2015-06-06 16:49:19\n",
       "2  DKQSXVNJDH       35  New Jersey        2015-05-04                   Back In the U.S.S.R. 2015-06-14 02:11:29\n",
       "3  HLHRIDQTUW      126    Illinois        2015-05-16                        P.s. I Love You 2015-06-08 12:26:10\n",
       "4  SUKJCSBCYW        6  New Jersey        2015-05-01  Sgt. Pepper's Lonely Hearts Club Band 2015-06-28 14:57:00"
      ]
     },
     "execution_count": 4,
     "metadata": {},
     "output_type": "execute_result"
    }
   ],
   "source": [
    "dat[\"user_sign_up_date\"] = pd.to_datetime(dat[\"user_sign_up_date\"])\n",
    "dat[\"time_played\"] = pd.to_datetime(dat[\"time_played\"])\n",
    "dat.head()"
   ]
  },
  {
   "cell_type": "markdown",
   "metadata": {},
   "source": [
    "#### (1) What are the top 3 and the bottom 3 states in terms of number of users?"
   ]
  },
  {
   "cell_type": "code",
   "execution_count": 5,
   "metadata": {},
   "outputs": [
    {
     "name": "stdout",
     "output_type": "stream",
     "text": [
      "    user_state  user_id\n",
      "25    New York       23\n",
      "4   California       21\n",
      "35       Texas       15\n",
      "     user_state  user_id\n",
      "2       Arizona        1\n",
      "24   New Mexico        1\n",
      "6   Connecticut        1\n"
     ]
    }
   ],
   "source": [
    "grp_state = dat[[\"user_state\", \"user_id\"]].groupby(\"user_state\")[\"user_id\"].nunique().reset_index()\n",
    "print(grp_state.sort_values(by = [\"user_id\"], ascending = False)[0:3])\n",
    "print(grp_state.sort_values(by = [\"user_id\"])[0:3])"
   ]
  },
  {
   "cell_type": "markdown",
   "metadata": {},
   "source": [
    "### (2) What are the top 3 and the bottom 3 states in terms of user engagement? You can choose how to mathematically define user engagement. What the CEO cares about here is in which states users are using the product a lot/very little."
   ]
  },
  {
   "cell_type": "code",
   "execution_count": 6,
   "metadata": {},
   "outputs": [
    {
     "data": {
      "text/plain": [
       "{'whiskers': [<matplotlib.lines.Line2D at 0x11c8053d0>,\n",
       "  <matplotlib.lines.Line2D at 0x11c805730>],\n",
       " 'caps': [<matplotlib.lines.Line2D at 0x11c805a60>,\n",
       "  <matplotlib.lines.Line2D at 0x11c895100>],\n",
       " 'boxes': [<matplotlib.lines.Line2D at 0x11c8053a0>],\n",
       " 'medians': [<matplotlib.lines.Line2D at 0x11c895430>],\n",
       " 'fliers': [<matplotlib.lines.Line2D at 0x11c805340>],\n",
       " 'means': []}"
      ]
     },
     "execution_count": 6,
     "metadata": {},
     "output_type": "execute_result"
    },
    {
     "data": {
      "image/png": "[encoded data removed]",
      "text/plain": [
       "<Figure size 432x288 with 1 Axes>"
      ]
     },
     "metadata": {
      "needs_background": "light"
     },
     "output_type": "display_data"
    }
   ],
   "source": [
    "boxplot, ax = plt.subplots()\n",
    "ax.set_title(\"User #\")\n",
    "ax.boxplot(grp_state[\"user_id\"], vert = False)"
   ]
  },
  {
   "cell_type": "code",
   "execution_count": 7,
   "metadata": {},
   "outputs": [],
   "source": [
    "grp_state_over3 = grp_state[grp_state[\"user_id\"] >= 3]\n",
    "song_over3 = dat[dat[\"user_state\"].isin(grp_state_over3[\"user_state\"])]"
   ]
  },
  {
   "cell_type": "code",
   "execution_count": 8,
   "metadata": {},
   "outputs": [
    {
     "name": "stdout",
     "output_type": "stream",
     "text": [
      "        user_state         id\n",
      "13     Mississippi  28.333333\n",
      "21  South Carolina  28.333333\n",
      "7         Kentucky  26.000000\n",
      "       user_state         id\n",
      "12      Minnesota  10.500000\n",
      "24  West Virginia  12.666667\n",
      "6         Indiana  13.750000\n"
     ]
    }
   ],
   "source": [
    "song_over3 = pd.DataFrame(song_over3)\n",
    "grp_engage = song_over3[[\"id\", \"user_state\", \"user_id\"]].groupby([\"user_state\", \"user_id\"])[\"id\"].count().reset_index()\n",
    "grp_avg_engage = grp_engage[[\"id\", \"user_state\"]].groupby(\"user_state\")[\"id\"].mean().reset_index()\n",
    "print(grp_avg_engage.sort_values(by = [\"id\"], ascending = False)[0:3])\n",
    "print(grp_avg_engage.sort_values(by = [\"id\"])[0:3])"
   ]
  },
  {
   "cell_type": "markdown",
   "metadata": {},
   "source": [
    "#### (3) The CEO wants to send a gift to the first user who signed-up for each state. That is, the first user who signed-up from California, from Oregon, etc. Can you give him a list of those users?"
   ]
  },
  {
   "cell_type": "code",
   "execution_count": 9,
   "metadata": {},
   "outputs": [
    {
     "name": "stdout",
     "output_type": "stream",
     "text": [
      "41\n",
      "51\n"
     ]
    }
   ],
   "source": [
    "grp_uni_first = dat[[\"user_state\", \"user_sign_up_date\", \"user_id\"]].groupby(\"user_state\")[\"user_sign_up_date\"].min().reset_index()\n",
    "grp_first = pd.merge(dat, grp_uni_first, on = [\"user_state\", \"user_sign_up_date\"])[[\"user_state\", \"user_sign_up_date\", \"user_id\"]].drop_duplicates([\"user_id\"])\n",
    "print(len(grp_uni_first))\n",
    "print(len(grp_first))"
   ]
  },
  {
   "cell_type": "markdown",
   "metadata": {},
   "source": [
    "#### (4) Build a function that takes as an input any of the songs in the data and returns the most likely song to be listened next. That is, if, for instance, a user is currently listening to \"Eight Days A Week\", which song has the highest probability of being played right after it by the same user? This is going to be v1 of a song recommendation model.\n",
    "\n",
    "##### Step 1: Build a data set where for each user and song, it gives the next song listened to; order the data set by user_id and the time_played"
   ]
  },
  {
   "cell_type": "code",
   "execution_count": 10,
   "metadata": {},
   "outputs": [],
   "source": [
    "user_song = dat[[\"user_id\", \"time_played\", \"song_played\"]].sort_values(by = [\"user_id\", \"time_played\"])\n",
    "user_song = user_song.reset_index(drop = True)"
   ]
  },
  {
   "cell_type": "markdown",
   "metadata": {},
   "source": [
    "##### Step 2: Construct the recommendation system whose input is any of the songs in the data and the output is the most likely song to be listened next."
   ]
  },
  {
   "cell_type": "code",
   "execution_count": 11,
   "metadata": {},
   "outputs": [],
   "source": [
    "def song_recommend(song_df, song_listened_now): \n",
    "    \"\"\"The function has two arguments:\"\"\"\n",
    "    \"\"\"song_df is the data frame including user_id, song_played and the timestamp.\"\"\"\n",
    "    \"\"\"song_listened_now is any of the songs in the data frame\"\"\"\n",
    "    if (song_listened_now not in song_df[[\"song_played\"]].values):\n",
    "        print(\"Error: The song is not in the system \\n Input another song @_@\")\n",
    "    else:\n",
    "        song_next = song_df.loc[song_df.loc[song_df[\"song_played\"] == song_listened_now].index + 1]\n",
    "        fil = song_next[song_next[\"user_id\"].isin(song_df[song_df[\"song_played\"] == song_listened_now][\"user_id\"])]\n",
    "        song_next_freq = fil[[\"song_played\", \"time_played\"]].groupby(\"song_played\")[\"time_played\"].count().reset_index()\n",
    "        song_next_freq_sort = song_next_freq.sort_values(by = \"time_played\", ascending = False)\n",
    "        song_next_freq_sort = song_next_freq_sort.reset_index(drop = True)\n",
    "        \"\"\"To see if tied tops exist; if so, generate a random number to give a recommendation\"\"\"\n",
    "        n_tops = sum(song_next_freq_sort[0:1][\"time_played\"].isin(song_next_freq[\"time_played\"]))\n",
    "        sample = random.randrange(n_tops)\n",
    "        return(song_next_freq_sort[\"song_played\"][sample])"
   ]
  },
  {
   "cell_type": "markdown",
   "metadata": {},
   "source": [
    "##### Step 3: Test the algorithm"
   ]
  },
  {
   "cell_type": "code",
   "execution_count": 12,
   "metadata": {},
   "outputs": [
    {
     "data": {
      "text/plain": [
       "'Come Together'"
      ]
     },
     "execution_count": 12,
     "metadata": {},
     "output_type": "execute_result"
    }
   ],
   "source": [
    "song_recommend(song_df = user_song, song_listened_now = \"Eight Days A Week\")"
   ]
  },
  {
   "cell_type": "code",
   "execution_count": 13,
   "metadata": {},
   "outputs": [
    {
     "name": "stdout",
     "output_type": "stream",
     "text": [
      "Error: The song is not in the system \n",
      " Input another song @_@\n"
     ]
    }
   ],
   "source": [
    "song_recommend(song_df = user_song, song_listened_now = \"Eight Days a Week\")"
   ]
  },
  {
   "cell_type": "code",
   "execution_count": null,
   "metadata": {},
   "outputs": [],
   "source": []
  },
  {
   "cell_type": "code",
   "execution_count": null,
   "metadata": {},
   "outputs": [],
   "source": []
  }
 ],
 "metadata": {
  "kernelspec": {
   "display_name": "Python 3",
   "language": "python",
   "name": "python3"
  },
  "language_info": {
   "codemirror_mode": {
    "name": "ipython",
    "version": 3
   },
   "file_extension": ".py",
   "mimetype": "text/x-python",
   "name": "python",
   "nbconvert_exporter": "python",
   "pygments_lexer": "ipython3",
   "version": "3.8.1"
  }
 },
 "nbformat": 4,
 "nbformat_minor": 2
}
