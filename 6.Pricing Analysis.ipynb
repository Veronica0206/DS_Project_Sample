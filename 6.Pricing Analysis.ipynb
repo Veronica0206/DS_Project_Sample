{
 "cells": [
  {
   "cell_type": "markdown",
   "metadata": {},
   "source": [
    "### Company XYZ sells software for $\\$$39. Since revenue has been flat for some time, the VP of Product has decided to run a test increasing the price. She hopes that this would increase revenue. In the experiment, 66\\% of the users have seen the old price ($\\$$39), while a random sample of 33\\% users a higher price ($\\$$59).\n",
    "\n",
    "### The test has been running for some time, and the VP of Product is interested in understanding how it went and whether it would make sense to increase the price for all the users. Especially he asked you the following questions:\n",
    "\n",
    "#### (1) Should the company sell its software for $\\$$39 or $\\$$59?\n",
    "\n",
    "#### (2) The VP of Product is interested in having a holistic view into user behavior, especially focusing on actionable insights that might increase conversion rate. What are your main findings looking at the data?\n",
    "\n",
    "#### (3) [Bonus] The VP of Product feels that the test has been running for too long and he should have been able to get statistically significant results in a shorter time. Do you agree with her intuition? After how many days you would have stopped the test? Please, explain why."
   ]
  },
  {
   "cell_type": "markdown",
   "metadata": {},
   "source": [
    "### Load the package would be used"
   ]
  },
  {
   "cell_type": "code",
   "execution_count": 1,
   "metadata": {},
   "outputs": [],
   "source": [
    "import pandas as pd\n",
    "pd.set_option(\"display.max_columns\", 10)\n",
    "pd.set_option(\"display.width\", 350)\n",
    "\n",
    "from scipy import stats\n",
    "\n",
    "import matplotlib.pyplot as plt\n",
    "from matplotlib import rcParams\n",
    "rcParams.update({\"figure.autolayout\": True})\n",
    "import seaborn as sns\n",
    "sns.set(style = \"white\")\n",
    "sns.set(style = \"whitegrid\", color_codes = True)\n",
    "\n",
    "import descartes\n",
    "import geopandas as gpd\n",
    "from geopandas import GeoDataFrame\n",
    "from mpl_toolkits.basemap import Basemap\n",
    "from shapely.geometry import Point, Polygon\n",
    "\n",
    "import gmaps\n",
    "import gmaps.datasets\n",
    "gmaps.configure(api_key = \"AI.............................\")\n",
    "\n",
    "import statsmodels.stats.api as sms"
   ]
  },
  {
   "cell_type": "markdown",
   "metadata": {},
   "source": [
    "### Read in the data set"
   ]
  },
  {
   "cell_type": "code",
   "execution_count": 2,
   "metadata": {},
   "outputs": [],
   "source": [
    "user = pd.read_csv(\"../Datasets/Pricing_Test/user_table.csv\")\n",
    "test0 = pd.read_csv(\"../Datasets/Pricing_Test/test_results.csv\")"
   ]
  },
  {
   "cell_type": "markdown",
   "metadata": {},
   "source": [
    "### Look into data"
   ]
  },
  {
   "cell_type": "code",
   "execution_count": 3,
   "metadata": {},
   "outputs": [
    {
     "name": "stdout",
     "output_type": "stream",
     "text": [
      "(275616, 5)\n",
      "(316800, 8)\n",
      "<bound method NDFrame.head of         user_id         city country    lat    long\n",
      "0        510335      Peabody     USA  42.53  -70.97\n",
      "1         89568         Reno     USA  39.54 -119.82\n",
      "2        434134       Rialto     USA  34.11 -117.39\n",
      "3        289769  Carson City     USA  39.15 -119.74\n",
      "4        939586      Chicago     USA  41.84  -87.68\n",
      "...         ...          ...     ...    ...     ...\n",
      "275611   485975      Atlanta     USA  33.76  -84.42\n",
      "275612    35479  Los Angeles     USA  34.11 -118.41\n",
      "275613   516519      Chicago     USA  41.84  -87.68\n",
      "275614   984877        Tampa     USA  27.96  -82.48\n",
      "275615   232078  Springfield     USA  44.05 -122.98\n",
      "\n",
      "[275616 rows x 5 columns]>\n",
      "<bound method NDFrame.head of         user_id            timestamp           source  device operative_system  test  price  converted\n",
      "0        604839  2015-05-08 03:38:34     ads_facebook  mobile              iOS     0     39          0\n",
      "1        624057  2015-05-10 21:08:46       seo-google  mobile          android     0     39          0\n",
      "2        317970  2015-04-04 15:01:23         ads-bing  mobile          android     0     39          0\n",
      "3        685636  2015-05-07 07:26:01   direct_traffic  mobile              iOS     1     59          0\n",
      "4        820854  2015-05-24 11:04:40     ads_facebook     web              mac     0     39          0\n",
      "...         ...                  ...              ...     ...              ...   ...    ...        ...\n",
      "316795    17427  2015-04-11 09:29:15     ads_facebook     web          windows     0     39          0\n",
      "316796   687787  2015-03-16 23:31:55   direct_traffic     web          windows     0     39          0\n",
      "316797   618863  2015-04-11 01:35:19       ads-google     web              mac     0     39          0\n",
      "316798   154636  2015-05-14 05:46:42  friend_referral  mobile          android     0     39          0\n",
      "316799   832372  2015-03-08 17:12:33     ads_facebook  mobile          android     1     59          0\n",
      "\n",
      "[316800 rows x 8 columns]>\n",
      "<bound method DataFrame.info of         user_id         city country    lat    long\n",
      "0        510335      Peabody     USA  42.53  -70.97\n",
      "1         89568         Reno     USA  39.54 -119.82\n",
      "2        434134       Rialto     USA  34.11 -117.39\n",
      "3        289769  Carson City     USA  39.15 -119.74\n",
      "4        939586      Chicago     USA  41.84  -87.68\n",
      "...         ...          ...     ...    ...     ...\n",
      "275611   485975      Atlanta     USA  33.76  -84.42\n",
      "275612    35479  Los Angeles     USA  34.11 -118.41\n",
      "275613   516519      Chicago     USA  41.84  -87.68\n",
      "275614   984877        Tampa     USA  27.96  -82.48\n",
      "275615   232078  Springfield     USA  44.05 -122.98\n",
      "\n",
      "[275616 rows x 5 columns]>\n",
      "<bound method DataFrame.info of         user_id            timestamp           source  device operative_system  test  price  converted\n",
      "0        604839  2015-05-08 03:38:34     ads_facebook  mobile              iOS     0     39          0\n",
      "1        624057  2015-05-10 21:08:46       seo-google  mobile          android     0     39          0\n",
      "2        317970  2015-04-04 15:01:23         ads-bing  mobile          android     0     39          0\n",
      "3        685636  2015-05-07 07:26:01   direct_traffic  mobile              iOS     1     59          0\n",
      "4        820854  2015-05-24 11:04:40     ads_facebook     web              mac     0     39          0\n",
      "...         ...                  ...              ...     ...              ...   ...    ...        ...\n",
      "316795    17427  2015-04-11 09:29:15     ads_facebook     web          windows     0     39          0\n",
      "316796   687787  2015-03-16 23:31:55   direct_traffic     web          windows     0     39          0\n",
      "316797   618863  2015-04-11 01:35:19       ads-google     web              mac     0     39          0\n",
      "316798   154636  2015-05-14 05:46:42  friend_referral  mobile          android     0     39          0\n",
      "316799   832372  2015-03-08 17:12:33     ads_facebook  mobile          android     1     59          0\n",
      "\n",
      "[316800 rows x 8 columns]>\n",
      "True\n",
      "True\n"
     ]
    }
   ],
   "source": [
    "print(user.shape)\n",
    "print(test0.shape)\n",
    "\n",
    "print(user.head)\n",
    "print(test0.head)\n",
    "\n",
    "print(user.info)\n",
    "print(test0.info)\n",
    "\n",
    "print(len(user[\"user_id\"]) == len(pd.unique(user[\"user_id\"])))\n",
    "print(len(test0[\"user_id\"]) == len(pd.unique(test0[\"user_id\"])))"
   ]
  },
  {
   "cell_type": "markdown",
   "metadata": {},
   "source": [
    "### Data cleaning and data processing\n",
    "\n",
    "#### For the test table, we need to check if the price of all tested users is $\\$$59 and that of all controlled users is $\\$$39."
   ]
  },
  {
   "cell_type": "code",
   "execution_count": 4,
   "metadata": {},
   "outputs": [
    {
     "data": {
      "text/html": [
       "<div>\n",
       "<style scoped>\n",
       "    .dataframe tbody tr th:only-of-type {\n",
       "        vertical-align: middle;\n",
       "    }\n",
       "\n",
       "    .dataframe tbody tr th {\n",
       "        vertical-align: top;\n",
       "    }\n",
       "\n",
       "    .dataframe thead th {\n",
       "        text-align: right;\n",
       "    }\n",
       "</style>\n",
       "<table border=\"1\" class=\"dataframe\">\n",
       "  <thead>\n",
       "    <tr style=\"text-align: right;\">\n",
       "      <th>test</th>\n",
       "      <th>0</th>\n",
       "      <th>1</th>\n",
       "    </tr>\n",
       "    <tr>\n",
       "      <th>price</th>\n",
       "      <th></th>\n",
       "      <th></th>\n",
       "    </tr>\n",
       "  </thead>\n",
       "  <tbody>\n",
       "    <tr>\n",
       "      <th>39</th>\n",
       "      <td>202517</td>\n",
       "      <td>155</td>\n",
       "    </tr>\n",
       "    <tr>\n",
       "      <th>59</th>\n",
       "      <td>210</td>\n",
       "      <td>113918</td>\n",
       "    </tr>\n",
       "  </tbody>\n",
       "</table>\n",
       "</div>"
      ],
      "text/plain": [
       "test        0       1\n",
       "price                \n",
       "39     202517     155\n",
       "59        210  113918"
      ]
     },
     "execution_count": 4,
     "metadata": {},
     "output_type": "execute_result"
    }
   ],
   "source": [
    "pd.crosstab(test0.price, test0.test, margins = False) "
   ]
  },
  {
   "cell_type": "markdown",
   "metadata": {},
   "source": [
    "#### Only retain valid records"
   ]
  },
  {
   "cell_type": "code",
   "execution_count": 5,
   "metadata": {},
   "outputs": [
    {
     "name": "stderr",
     "output_type": "stream",
     "text": [
      "<ipython-input-5-684197fbd4aa>:2: SettingWithCopyWarning: \n",
      "A value is trying to be set on a copy of a slice from a DataFrame.\n",
      "Try using .loc[row_indexer,col_indexer] = value instead\n",
      "\n",
      "See the caveats in the documentation: http://pandas.pydata.org/pandas-docs/stable/user_guide/indexing.html#returning-a-view-versus-a-copy\n",
      "  test[\"revenue\"] = test[\"price\"] * test[\"converted\"]\n"
     ]
    },
    {
     "data": {
      "text/plain": [
       "['user_id',\n",
       " 'timestamp',\n",
       " 'source',\n",
       " 'device',\n",
       " 'operative_system',\n",
       " 'test',\n",
       " 'price',\n",
       " 'converted',\n",
       " 'revenue',\n",
       " 'city',\n",
       " 'country',\n",
       " 'lat',\n",
       " 'long']"
      ]
     },
     "execution_count": 5,
     "metadata": {},
     "output_type": "execute_result"
    }
   ],
   "source": [
    "test = test0[((test0[\"price\"] == 39) & (test0[\"test\"] == 0)) | ((test0[\"price\"] == 59) & (test0[\"test\"] == 1))]\n",
    "test[\"revenue\"] = test[\"price\"] * test[\"converted\"]\n",
    "dat = test.merge(user, on = [\"user_id\"], how = \"left\")\n",
    "list(dat.columns)"
   ]
  },
  {
   "cell_type": "markdown",
   "metadata": {},
   "source": [
    "#### (1) Should the company sell its software for $\\$$39 or $\\$$59?\n",
    "\n",
    "Data Visualization: Before conducting A/B test, we prefer first examine if the randomization is valid."
   ]
  },
  {
   "cell_type": "markdown",
   "metadata": {},
   "source": [
    "#### Source\n",
    "\n",
    "##### Conversion Rate"
   ]
  },
  {
   "cell_type": "code",
   "execution_count": 6,
   "metadata": {},
   "outputs": [
    {
     "data": {
      "text/plain": [
       "(array([ 0,  1,  2,  3,  4,  5,  6,  7,  8,  9, 10, 11]),\n",
       " <a list of 12 Text xticklabel objects>)"
      ]
     },
     "execution_count": 6,
     "metadata": {},
     "output_type": "execute_result"
    },
    {
     "data": {
      "image/png": "[encoded data removed]",
      "text/plain": [
       "<Figure size 864x432 with 1 Axes>"
      ]
     },
     "metadata": {},
     "output_type": "display_data"
    }
   ],
   "source": [
    "grp_source = dat[[\"test\", \"source\", \"converted\"]].groupby([\"test\", \"source\"]).mean().reset_index()\n",
    "plt.figure(figsize = [12, 6])\n",
    "sns.barplot(x = \"source\", y = \"converted\", hue = \"test\", data = grp_source, palette = \"PuBuGn\")\n",
    "plt.title(\"Conversion Rate by Source\", fontsize = 16)\n",
    "plt.xlabel(\"Source\", fontsize = 12)\n",
    "plt.ylabel(\"Conversion Rate\", fontsize = 12)\n",
    "plt.xticks(rotation = 45)"
   ]
  },
  {
   "cell_type": "markdown",
   "metadata": {},
   "source": [
    "##### Revenue"
   ]
  },
  {
   "cell_type": "code",
   "execution_count": 7,
   "metadata": {},
   "outputs": [
    {
     "data": {
      "text/plain": [
       "(array([ 0,  1,  2,  3,  4,  5,  6,  7,  8,  9, 10, 11]),\n",
       " <a list of 12 Text xticklabel objects>)"
      ]
     },
     "execution_count": 7,
     "metadata": {},
     "output_type": "execute_result"
    },
    {
     "data": {
      "image/png": "[encoded data removed]",
      "text/plain": [
       "<Figure size 864x432 with 1 Axes>"
      ]
     },
     "metadata": {},
     "output_type": "display_data"
    }
   ],
   "source": [
    "rev_source = dat[[\"test\", \"source\", \"revenue\"]].groupby([\"test\", \"source\"]).mean().reset_index()\n",
    "plt.figure(figsize = [12, 6])\n",
    "sns.barplot(x = \"source\", y = \"revenue\", hue = \"test\", data = rev_source, palette = \"PuBuGn\")\n",
    "plt.title(\"revenue by Source\", fontsize = 16)\n",
    "plt.xlabel(\"Source\", fontsize = 12)\n",
    "plt.ylabel(\"Revenue\", fontsize = 12)\n",
    "plt.xticks(rotation = 45)"
   ]
  },
  {
   "cell_type": "markdown",
   "metadata": {},
   "source": [
    "#### Operating System\n",
    "\n",
    "##### Conversion Rate"
   ]
  },
  {
   "cell_type": "code",
   "execution_count": 8,
   "metadata": {},
   "outputs": [
    {
     "data": {
      "text/plain": [
       "(array([0, 1, 2, 3, 4, 5]), <a list of 6 Text xticklabel objects>)"
      ]
     },
     "execution_count": 8,
     "metadata": {},
     "output_type": "execute_result"
    },
    {
     "data": {
      "image/png": "[encoded data removed]",
      "text/plain": [
       "<Figure size 864x432 with 1 Axes>"
      ]
     },
     "metadata": {},
     "output_type": "display_data"
    }
   ],
   "source": [
    "grp_os = dat[[\"test\", \"operative_system\", \"converted\"]].groupby([\"test\", \"operative_system\"]).mean().reset_index()\n",
    "plt.figure(figsize = [12, 6])\n",
    "sns.barplot(x = \"operative_system\", y = \"converted\", hue = \"test\", data = grp_os, palette = \"PuBuGn\")\n",
    "plt.title(\"Conversion Rate by Operating System\", fontsize = 16)\n",
    "plt.xlabel(\"Operating System\", fontsize = 12)\n",
    "plt.ylabel(\"Conversion Rate\", fontsize = 12)\n",
    "plt.xticks(rotation = 45)"
   ]
  },
  {
   "cell_type": "markdown",
   "metadata": {},
   "source": [
    "##### Revenue"
   ]
  },
  {
   "cell_type": "code",
   "execution_count": 9,
   "metadata": {},
   "outputs": [
    {
     "data": {
      "text/plain": [
       "(array([0, 1, 2, 3, 4, 5]), <a list of 6 Text xticklabel objects>)"
      ]
     },
     "execution_count": 9,
     "metadata": {},
     "output_type": "execute_result"
    },
    {
     "data": {
      "image/png": "[encoded data removed]",
      "text/plain": [
       "<Figure size 864x432 with 1 Axes>"
      ]
     },
     "metadata": {},
     "output_type": "display_data"
    }
   ],
   "source": [
    "rev_os = dat[[\"test\", \"operative_system\", \"revenue\"]].groupby([\"test\", \"operative_system\"]).mean().reset_index()\n",
    "plt.figure(figsize = [12, 6])\n",
    "sns.barplot(x = \"operative_system\", y = \"revenue\", hue = \"test\", data = rev_os, palette = \"PuBuGn\")\n",
    "plt.title(\"revenue by Operating System\", fontsize = 16)\n",
    "plt.xlabel(\"Operating System\", fontsize = 12)\n",
    "plt.ylabel(\"Revenue\", fontsize = 12)\n",
    "plt.xticks(rotation = 45)"
   ]
  },
  {
   "cell_type": "markdown",
   "metadata": {},
   "source": [
    "#### Device\n",
    "\n",
    "##### Conversion Rate"
   ]
  },
  {
   "cell_type": "code",
   "execution_count": 10,
   "metadata": {},
   "outputs": [
    {
     "data": {
      "text/plain": [
       "(array([0, 1]), <a list of 2 Text xticklabel objects>)"
      ]
     },
     "execution_count": 10,
     "metadata": {},
     "output_type": "execute_result"
    },
    {
     "data": {
      "image/png": "[encoded data removed]",
      "text/plain": [
       "<Figure size 864x432 with 1 Axes>"
      ]
     },
     "metadata": {},
     "output_type": "display_data"
    }
   ],
   "source": [
    "grp_device = dat[[\"test\", \"device\", \"converted\"]].groupby([\"test\", \"device\"]).mean().reset_index()\n",
    "plt.figure(figsize = [12, 6])\n",
    "sns.barplot(x = \"device\", y = \"converted\", hue = \"test\", data = grp_device, palette = \"PuBuGn\")\n",
    "plt.title(\"Conversion Rate by Device\", fontsize = 16)\n",
    "plt.xlabel(\"Device\", fontsize = 12)\n",
    "plt.ylabel(\"Conversion Rate\", fontsize = 12)\n",
    "plt.xticks(rotation = 45)"
   ]
  },
  {
   "cell_type": "markdown",
   "metadata": {},
   "source": [
    "##### Revenue"
   ]
  },
  {
   "cell_type": "code",
   "execution_count": 11,
   "metadata": {},
   "outputs": [
    {
     "data": {
      "text/plain": [
       "(array([0, 1]), <a list of 2 Text xticklabel objects>)"
      ]
     },
     "execution_count": 11,
     "metadata": {},
     "output_type": "execute_result"
    },
    {
     "data": {
      "image/png": "[encoded data removed]",
      "text/plain": [
       "<Figure size 864x432 with 1 Axes>"
      ]
     },
     "metadata": {},
     "output_type": "display_data"
    }
   ],
   "source": [
    "rev_device = dat[[\"test\", \"device\", \"revenue\"]].groupby([\"test\", \"device\"]).mean().reset_index()\n",
    "plt.figure(figsize = [12, 6])\n",
    "sns.barplot(x = \"device\", y = \"revenue\", hue = \"test\", data = rev_device, palette = \"PuBuGn\")\n",
    "plt.title(\"Revenue by Device\", fontsize = 16)\n",
    "plt.xlabel(\"Device\", fontsize = 12)\n",
    "plt.ylabel(\"Revenue\", fontsize = 12)\n",
    "plt.xticks(rotation = 45)"
   ]
  },
  {
   "cell_type": "markdown",
   "metadata": {},
   "source": [
    "#### Location\n",
    "\n",
    "##### Conversion Rate"
   ]
  },
  {
   "cell_type": "code",
   "execution_count": 12,
   "metadata": {},
   "outputs": [
    {
     "data": {
      "application/vnd.jupyter.widget-view+json": {
       "model_id": "6d9f5d745dbc4154ba5622d7aad913af",
       "version_major": 2,
       "version_minor": 0
      },
      "text/plain": [
       "Figure(layout=FigureLayout(border='1px solid black', height='600px', padding='1px', width='1200px'))"
      ]
     },
     "metadata": {},
     "output_type": "display_data"
    }
   ],
   "source": [
    "dat_rmNA = dat[[\"lat\", \"long\", \"converted\", \"revenue\"]].dropna()\n",
    "locations = dat_rmNA[[\"lat\", \"long\"]]\n",
    "grp_weights = dat_rmNA[\"converted\"]\n",
    "rev_weights = dat_rmNA[\"revenue\"]\n",
    "figure_layout = {\n",
    "    \"width\": \"1200px\",\n",
    "    \"height\": \"600px\",\n",
    "    \"border\": \"1px solid black\",\n",
    "    \"padding\": \"1px\"\n",
    "}\n",
    "grp_fig = gmaps.figure(center = (37, -100), zoom_level = 8, layout = figure_layout)\n",
    "grp_fig.add_layer(gmaps.heatmap_layer(locations, weights = grp_weights))\n",
    "grp_fig"
   ]
  },
  {
   "cell_type": "code",
   "execution_count": 13,
   "metadata": {},
   "outputs": [
    {
     "data": {
      "application/vnd.jupyter.widget-view+json": {
       "model_id": "5b8da6e5bcce4a6a8f6ae7403f9ea734",
       "version_major": 2,
       "version_minor": 0
      },
      "text/plain": [
       "Figure(layout=FigureLayout(border='1px solid black', height='600px', padding='1px', width='1200px'))"
      ]
     },
     "metadata": {},
     "output_type": "display_data"
    }
   ],
   "source": [
    "grp_fig = gmaps.figure(center = (37, -100), zoom_level = 8, layout = figure_layout)\n",
    "grp_fig.add_layer(gmaps.heatmap_layer(locations, weights = rev_weights))\n",
    "grp_fig"
   ]
  },
  {
   "cell_type": "markdown",
   "metadata": {},
   "source": [
    "A/B test"
   ]
  },
  {
   "cell_type": "code",
   "execution_count": 14,
   "metadata": {},
   "outputs": [],
   "source": [
    "dat_noLinux = dat[dat[\"operative_system\"] != \"linux\"]"
   ]
  },
  {
   "cell_type": "markdown",
   "metadata": {},
   "source": [
    "#### Overall/Country\n",
    "\n",
    "##### Conversion Rate"
   ]
  },
  {
   "cell_type": "code",
   "execution_count": 15,
   "metadata": {},
   "outputs": [
    {
     "name": "stdout",
     "output_type": "stream",
     "text": [
      "         p_value  conversion_test  conversion_control\n",
      "country                                              \n",
      "USA            0         0.015716            0.019809\n"
     ]
    },
    {
     "name": "stderr",
     "output_type": "stream",
     "text": [
      "<ipython-input-15-8aa3fa6ee120>:1: FutureWarning: using a dict on a Series for aggregation\n",
      "is deprecated and will be removed in a future version. Use                 named aggregation instead.\n",
      "\n",
      "    >>> grouper.agg(name_1=func_1, name_2=func_2)\n",
      "\n",
      "  country_converted = dat_noLinux.groupby([\"country\"])[\"converted\"].agg({\n"
     ]
    }
   ],
   "source": [
    "country_converted = dat_noLinux.groupby([\"country\"])[\"converted\"].agg({\n",
    "    \"p_value\": lambda x: stats.ttest_ind(x[dat_noLinux[\"test\"] == 1], x[dat_noLinux[\"test\"] == 0], equal_var = False).pvalue,\n",
    "    \"conversion_test\": lambda x: x[dat_noLinux[\"test\"] == 1].mean(),\n",
    "    \"conversion_control\": lambda x: x[dat_noLinux[\"test\"] == 0].mean()\n",
    "}).reindex([\"p_value\", \"conversion_test\", \"conversion_control\"], axis = 1)\n",
    "print(country_converted.sort_values(by = [\"p_value\"]))"
   ]
  },
  {
   "cell_type": "markdown",
   "metadata": {},
   "source": [
    "##### Revenue"
   ]
  },
  {
   "cell_type": "code",
   "execution_count": 16,
   "metadata": {},
   "outputs": [
    {
     "name": "stderr",
     "output_type": "stream",
     "text": [
      "<ipython-input-16-1c6d6b81fc2e>:1: FutureWarning: using a dict on a Series for aggregation\n",
      "is deprecated and will be removed in a future version. Use                 named aggregation instead.\n",
      "\n",
      "    >>> grouper.agg(name_1=func_1, name_2=func_2)\n",
      "\n",
      "  country_revenue = dat_noLinux.groupby([\"country\"])[\"revenue\"].agg({\n"
     ]
    },
    {
     "name": "stdout",
     "output_type": "stream",
     "text": [
      "         p_value  conversion_test  conversion_control\n",
      "country                                              \n",
      "USA            0         0.927254            0.772563\n"
     ]
    }
   ],
   "source": [
    "country_revenue = dat_noLinux.groupby([\"country\"])[\"revenue\"].agg({\n",
    "    \"p_value\": lambda x: stats.ttest_ind(x[dat_noLinux[\"test\"] == 1], x[dat_noLinux[\"test\"] == 0], equal_var = False).pvalue,\n",
    "    \"conversion_test\": lambda x: x[dat_noLinux[\"test\"] == 1].mean(),\n",
    "    \"conversion_control\": lambda x: x[dat_noLinux[\"test\"] == 0].mean()\n",
    "}).reindex([\"p_value\", \"conversion_test\", \"conversion_control\"], axis = 1)\n",
    "print(country_revenue.sort_values(by = [\"p_value\"]))"
   ]
  },
  {
   "cell_type": "markdown",
   "metadata": {},
   "source": [
    "#### Source\n",
    "\n",
    "##### Conversion Rate"
   ]
  },
  {
   "cell_type": "code",
   "execution_count": 17,
   "metadata": {},
   "outputs": [
    {
     "name": "stderr",
     "output_type": "stream",
     "text": [
      "<ipython-input-17-785b8bf8ef79>:1: FutureWarning: using a dict on a Series for aggregation\n",
      "is deprecated and will be removed in a future version. Use                 named aggregation instead.\n",
      "\n",
      "    >>> grouper.agg(name_1=func_1, name_2=func_2)\n",
      "\n",
      "  converted_source = dat_noLinux.groupby([\"source\"])[\"converted\"].agg({\n"
     ]
    },
    {
     "name": "stdout",
     "output_type": "stream",
     "text": [
      "                      p_value  conversion_test  conversion_control\n",
      "source                                                            \n",
      "ads_facebook     1.430107e-07         0.017133            0.023736\n",
      "direct_traffic   3.376515e-04         0.010276            0.013538\n",
      "seo-yahoo        2.671745e-03         0.010643            0.019539\n",
      "seo-bing         7.850955e-03         0.013631            0.030211\n",
      "ads-bing         8.397473e-03         0.009691            0.013512\n",
      "friend_referral  1.058047e-02         0.034535            0.041593\n",
      "seo_facebook     2.993895e-02         0.013841            0.017667\n",
      "ads-google       3.267788e-02         0.020020            0.022656\n",
      "ads-yahoo        3.864071e-02         0.011339            0.017053\n",
      "ads_other        5.216659e-02         0.012570            0.015305\n",
      "seo-other        6.233042e-02         0.012700            0.017547\n",
      "seo-google       4.770153e-01         0.016220            0.017484\n"
     ]
    }
   ],
   "source": [
    "converted_source = dat_noLinux.groupby([\"source\"])[\"converted\"].agg({\n",
    "    \"p_value\": lambda x: stats.ttest_ind(x[dat_noLinux[\"test\"] == 1], x[dat_noLinux[\"test\"] == 0], equal_var = False).pvalue,\n",
    "    \"conversion_test\": lambda x: x[dat_noLinux[\"test\"] == 1].mean(),\n",
    "    \"conversion_control\": lambda x: x[dat_noLinux[\"test\"] == 0].mean()\n",
    "}).reindex([\"p_value\", \"conversion_test\", \"conversion_control\"], axis = 1)\n",
    "print(converted_source.sort_values(by = [\"p_value\"]))"
   ]
  },
  {
   "cell_type": "markdown",
   "metadata": {},
   "source": [
    "##### Revenue"
   ]
  },
  {
   "cell_type": "code",
   "execution_count": 18,
   "metadata": {},
   "outputs": [
    {
     "name": "stderr",
     "output_type": "stream",
     "text": [
      "<ipython-input-18-f514f49f0bba>:1: FutureWarning: using a dict on a Series for aggregation\n",
      "is deprecated and will be removed in a future version. Use                 named aggregation instead.\n",
      "\n",
      "    >>> grouper.agg(name_1=func_1, name_2=func_2)\n",
      "\n",
      "  revenue_source = dat_noLinux.groupby([\"source\"])[\"revenue\"].agg({\n"
     ]
    },
    {
     "name": "stdout",
     "output_type": "stream",
     "text": [
      "                  p_value  conversion_test  conversion_control\n",
      "source                                                        \n",
      "ads-google       0.000004         1.181176            0.883590\n",
      "seo-google       0.003250         0.956997            0.681873\n",
      "friend_referral  0.003735         2.037538            1.622121\n",
      "ads_other        0.047900         0.741604            0.596876\n",
      "direct_traffic   0.094873         0.606298            0.527976\n",
      "seo_facebook     0.159930         0.816636            0.688994\n",
      "ads_facebook     0.185446         1.010860            0.925710\n",
      "seo-bing         0.217067         0.804213            1.178248\n",
      "seo-yahoo        0.363602         0.627916            0.762038\n",
      "ads-bing         0.545854         0.571762            0.526954\n",
      "seo-other        0.625350         0.749320            0.684328\n",
      "ads-yahoo        0.977630         0.668983            0.665053\n"
     ]
    }
   ],
   "source": [
    "revenue_source = dat_noLinux.groupby([\"source\"])[\"revenue\"].agg({\n",
    "    \"p_value\": lambda x: stats.ttest_ind(x[dat_noLinux[\"test\"] == 1], x[dat_noLinux[\"test\"] == 0], equal_var = False).pvalue,\n",
    "    \"conversion_test\": lambda x: x[dat_noLinux[\"test\"] == 1].mean(),\n",
    "    \"conversion_control\": lambda x: x[dat_noLinux[\"test\"] == 0].mean()\n",
    "}).reindex([\"p_value\", \"conversion_test\", \"conversion_control\"], axis = 1)\n",
    "print(revenue_source.sort_values(by = [\"p_value\"]))"
   ]
  },
  {
   "cell_type": "markdown",
   "metadata": {},
   "source": [
    "#### Operating System\n",
    "\n",
    "##### Conversion Rate"
   ]
  },
  {
   "cell_type": "code",
   "execution_count": 19,
   "metadata": {},
   "outputs": [
    {
     "name": "stderr",
     "output_type": "stream",
     "text": [
      "<ipython-input-19-d1eb96b34fd9>:1: FutureWarning: using a dict on a Series for aggregation\n",
      "is deprecated and will be removed in a future version. Use                 named aggregation instead.\n",
      "\n",
      "    >>> grouper.agg(name_1=func_1, name_2=func_2)\n",
      "\n",
      "  os_converted = dat_noLinux.groupby([\"operative_system\"])[\"converted\"].agg({\n"
     ]
    },
    {
     "name": "stdout",
     "output_type": "stream",
     "text": [
      "                       p_value  conversion_test  conversion_control\n",
      "operative_system                                                   \n",
      "windows           7.354231e-09         0.014009            0.018704\n",
      "android           7.947210e-06         0.012363            0.016336\n",
      "iOS               2.320936e-04         0.019994            0.023595\n",
      "mac               3.308660e-02         0.021240            0.025451\n",
      "other             9.954733e-02         0.011060            0.014025\n"
     ]
    }
   ],
   "source": [
    "os_converted = dat_noLinux.groupby([\"operative_system\"])[\"converted\"].agg({\n",
    "    \"p_value\": lambda x: stats.ttest_ind(x[dat_noLinux[\"test\"] == 1], x[dat_noLinux[\"test\"] == 0], equal_var = False).pvalue,\n",
    "    \"conversion_test\": lambda x: x[dat_noLinux[\"test\"] == 1].mean(),\n",
    "    \"conversion_control\": lambda x: x[dat_noLinux[\"test\"] == 0].mean()\n",
    "}).reindex([\"p_value\", \"conversion_test\", \"conversion_control\"], axis = 1)\n",
    "print(os_converted.sort_values(by = [\"p_value\"]))"
   ]
  },
  {
   "cell_type": "markdown",
   "metadata": {},
   "source": [
    "##### Revenue"
   ]
  },
  {
   "cell_type": "code",
   "execution_count": 20,
   "metadata": {},
   "outputs": [
    {
     "name": "stderr",
     "output_type": "stream",
     "text": [
      "<ipython-input-20-c9f8aaa26466>:1: FutureWarning: using a dict on a Series for aggregation\n",
      "is deprecated and will be removed in a future version. Use                 named aggregation instead.\n",
      "\n",
      "    >>> grouper.agg(name_1=func_1, name_2=func_2)\n",
      "\n",
      "  os_revenue = dat_noLinux.groupby([\"operative_system\"])[\"revenue\"].agg({\n"
     ]
    },
    {
     "name": "stdout",
     "output_type": "stream",
     "text": [
      "                       p_value  conversion_test  conversion_control\n",
      "operative_system                                                   \n",
      "iOS               3.619264e-07         1.179648            0.920201\n",
      "mac               1.146011e-02         1.253157            0.992597\n",
      "windows           1.949366e-02         0.826534            0.729443\n",
      "android           4.394503e-02         0.729405            0.637088\n",
      "other             2.575224e-01         0.652563            0.546990\n"
     ]
    }
   ],
   "source": [
    "os_revenue = dat_noLinux.groupby([\"operative_system\"])[\"revenue\"].agg({\n",
    "    \"p_value\": lambda x: stats.ttest_ind(x[dat_noLinux[\"test\"] == 1], x[dat_noLinux[\"test\"] == 0], equal_var = False).pvalue,\n",
    "    \"conversion_test\": lambda x: x[dat_noLinux[\"test\"] == 1].mean(),\n",
    "    \"conversion_control\": lambda x: x[dat_noLinux[\"test\"] == 0].mean()\n",
    "}).reindex([\"p_value\", \"conversion_test\", \"conversion_control\"], axis = 1)\n",
    "print(os_revenue.sort_values(by = [\"p_value\"]))"
   ]
  },
  {
   "cell_type": "markdown",
   "metadata": {},
   "source": [
    "#### Device\n",
    "\n",
    "##### Conversion Rate"
   ]
  },
  {
   "cell_type": "code",
   "execution_count": 21,
   "metadata": {},
   "outputs": [
    {
     "name": "stderr",
     "output_type": "stream",
     "text": [
      "<ipython-input-21-167e33aef669>:1: FutureWarning: using a dict on a Series for aggregation\n",
      "is deprecated and will be removed in a future version. Use                 named aggregation instead.\n",
      "\n",
      "    >>> grouper.agg(name_1=func_1, name_2=func_2)\n",
      "\n",
      "  device_converted = dat_noLinux.groupby([\"device\"])[\"converted\"].agg({\n"
     ]
    },
    {
     "name": "stdout",
     "output_type": "stream",
     "text": [
      "        p_value  conversion_test  conversion_control\n",
      "device                                              \n",
      "mobile        0         0.016146            0.019872\n",
      "web           0         0.015360            0.020064\n"
     ]
    }
   ],
   "source": [
    "device_converted = dat_noLinux.groupby([\"device\"])[\"converted\"].agg({\n",
    "    \"p_value\": lambda x: stats.ttest_ind(x[dat_noLinux[\"test\"] == 1], x[dat_noLinux[\"test\"] == 0], equal_var = False).pvalue,\n",
    "    \"conversion_test\": lambda x: x[dat_noLinux[\"test\"] == 1].mean(),\n",
    "    \"conversion_control\": lambda x: x[dat_noLinux[\"test\"] == 0].mean()\n",
    "}).reindex([\"p_value\", \"conversion_test\", \"conversion_control\"], axis = 1)\n",
    "print(device_converted.sort_values(by = [\"p_value\"]))"
   ]
  },
  {
   "cell_type": "markdown",
   "metadata": {},
   "source": [
    "##### Revenue"
   ]
  },
  {
   "cell_type": "code",
   "execution_count": 22,
   "metadata": {},
   "outputs": [
    {
     "name": "stderr",
     "output_type": "stream",
     "text": [
      "<ipython-input-22-ff4b5ae1ccfe>:1: FutureWarning: using a dict on a Series for aggregation\n",
      "is deprecated and will be removed in a future version. Use                 named aggregation instead.\n",
      "\n",
      "    >>> grouper.agg(name_1=func_1, name_2=func_2)\n",
      "\n",
      "  device_revenue = dat_noLinux.groupby([\"device\"])[\"revenue\"].agg({\n"
     ]
    },
    {
     "name": "stdout",
     "output_type": "stream",
     "text": [
      "             p_value  conversion_test  conversion_control\n",
      "device                                                   \n",
      "mobile  7.010981e-08         0.952624            0.775017\n",
      "web     1.485049e-03         0.906235            0.782498\n"
     ]
    }
   ],
   "source": [
    "device_revenue = dat_noLinux.groupby([\"device\"])[\"revenue\"].agg({\n",
    "    \"p_value\": lambda x: stats.ttest_ind(x[dat_noLinux[\"test\"] == 1], x[dat_noLinux[\"test\"] == 0], equal_var = False).pvalue,\n",
    "    \"conversion_test\": lambda x: x[dat_noLinux[\"test\"] == 1].mean(),\n",
    "    \"conversion_control\": lambda x: x[dat_noLinux[\"test\"] == 0].mean()\n",
    "}).reindex([\"p_value\", \"conversion_test\", \"conversion_control\"], axis = 1)\n",
    "print(device_revenue.sort_values(by = [\"p_value\"]))"
   ]
  },
  {
   "cell_type": "markdown",
   "metadata": {},
   "source": [
    "#### City\n",
    "\n",
    "##### Conversion Rate"
   ]
  },
  {
   "cell_type": "code",
   "execution_count": 23,
   "metadata": {},
   "outputs": [
    {
     "name": "stderr",
     "output_type": "stream",
     "text": [
      "<ipython-input-23-0a08bf83c452>:1: FutureWarning: using a dict on a Series for aggregation\n",
      "is deprecated and will be removed in a future version. Use                 named aggregation instead.\n",
      "\n",
      "    >>> grouper.agg(name_1=func_1, name_2=func_2)\n",
      "\n",
      "  city_converted = dat_noLinux.groupby([\"city\"])[\"converted\"].agg({\n",
      "/Library/Frameworks/Python.framework/Versions/3.8/lib/python3.8/site-packages/numpy/core/fromnumeric.py:3583: RuntimeWarning: Degrees of freedom <= 0 for slice\n",
      "  return _methods._var(a, axis=axis, dtype=dtype, out=out, ddof=ddof,\n",
      "/Library/Frameworks/Python.framework/Versions/3.8/lib/python3.8/site-packages/numpy/core/_methods.py:209: RuntimeWarning: invalid value encountered in double_scalars\n",
      "  ret = ret.dtype.type(ret / rcount)\n"
     ]
    },
    {
     "name": "stdout",
     "output_type": "stream",
     "text": [
      "                   p_value  conversion_test  conversion_control\n",
      "city                                                           \n",
      "Lincoln           0.000854              0.0            0.029333\n",
      "Aurora            0.000857              0.0            0.027848\n",
      "Port Saint Lucie  0.001429              0.0            0.046296\n",
      "Joliet            0.001466              0.0            0.033784\n",
      "Corpus Christi    0.004547              0.0            0.020253\n",
      "...                    ...              ...                 ...\n",
      "Whittier               NaN              0.0            0.000000\n",
      "Wilson                 NaN              0.0            0.000000\n",
      "Wyoming                NaN              0.0            0.000000\n",
      "Yorba Linda            NaN              0.0            0.000000\n",
      "Yuba City              NaN              0.0            0.000000\n",
      "\n",
      "[923 rows x 3 columns]\n"
     ]
    }
   ],
   "source": [
    "city_converted = dat_noLinux.groupby([\"city\"])[\"converted\"].agg({\n",
    "    \"p_value\": lambda x: stats.ttest_ind(x[dat_noLinux[\"test\"] == 1], x[dat_noLinux[\"test\"] == 0], equal_var = False).pvalue,\n",
    "    \"conversion_test\": lambda x: x[dat_noLinux[\"test\"] == 1].mean(),\n",
    "    \"conversion_control\": lambda x: x[dat_noLinux[\"test\"] == 0].mean()\n",
    "}).reindex([\"p_value\", \"conversion_test\", \"conversion_control\"], axis = 1)\n",
    "print(city_converted.sort_values(by = [\"p_value\"]))"
   ]
  },
  {
   "cell_type": "markdown",
   "metadata": {},
   "source": [
    "##### Revenue"
   ]
  },
  {
   "cell_type": "code",
   "execution_count": 24,
   "metadata": {},
   "outputs": [
    {
     "name": "stderr",
     "output_type": "stream",
     "text": [
      "<ipython-input-24-725bb4cb9ea8>:1: FutureWarning: using a dict on a Series for aggregation\n",
      "is deprecated and will be removed in a future version. Use                 named aggregation instead.\n",
      "\n",
      "    >>> grouper.agg(name_1=func_1, name_2=func_2)\n",
      "\n",
      "  city_revenue = dat_noLinux.groupby([\"city\"])[\"revenue\"].agg({\n"
     ]
    },
    {
     "name": "stdout",
     "output_type": "stream",
     "text": [
      "                   p_value  conversion_test  conversion_control\n",
      "city                                                           \n",
      "Lincoln           0.000854              0.0            1.144000\n",
      "Aurora            0.000857              0.0            1.086076\n",
      "Port Saint Lucie  0.001429              0.0            1.805556\n",
      "Joliet            0.001466              0.0            1.317568\n",
      "Corpus Christi    0.004547              0.0            0.789873\n",
      "...                    ...              ...                 ...\n",
      "Whittier               NaN              0.0            0.000000\n",
      "Wilson                 NaN              0.0            0.000000\n",
      "Wyoming                NaN              0.0            0.000000\n",
      "Yorba Linda            NaN              0.0            0.000000\n",
      "Yuba City              NaN              0.0            0.000000\n",
      "\n",
      "[923 rows x 3 columns]\n"
     ]
    }
   ],
   "source": [
    "city_revenue = dat_noLinux.groupby([\"city\"])[\"revenue\"].agg({\n",
    "    \"p_value\": lambda x: stats.ttest_ind(x[dat_noLinux[\"test\"] == 1], x[dat_noLinux[\"test\"] == 0], equal_var = False).pvalue,\n",
    "    \"conversion_test\": lambda x: x[dat_noLinux[\"test\"] == 1].mean(),\n",
    "    \"conversion_control\": lambda x: x[dat_noLinux[\"test\"] == 0].mean()\n",
    "}).reindex([\"p_value\", \"conversion_test\", \"conversion_control\"], axis = 1)\n",
    "print(city_revenue.sort_values(by = [\"p_value\"]))"
   ]
  },
  {
   "cell_type": "markdown",
   "metadata": {},
   "source": [
    "#### (2) The VP of Product is interested in having a holistic view into user behavior, especially focusing on actionable insights that might increase conversion rate. What are your main findings looking at the data?\n",
    "\n",
    "See my R solutions"
   ]
  },
  {
   "cell_type": "markdown",
   "metadata": {},
   "source": [
    "#### (3) [Bonus] The VP of Product feels that the test has been running for too long and he should have been able to get statistically significant results in a shorter time. Do you agree with her intuition? After how many days you would have stopped the test? Please, explain why.\n",
    "\n",
    "Calculate sample size."
   ]
  },
  {
   "cell_type": "code",
   "execution_count": null,
   "metadata": {},
   "outputs": [],
   "source": []
  }
 ],
 "metadata": {
  "kernelspec": {
   "display_name": "Python 3",
   "language": "python",
   "name": "python3"
  },
  "language_info": {
   "codemirror_mode": {
    "name": "ipython",
    "version": 3
   },
   "file_extension": ".py",
   "mimetype": "text/x-python",
   "name": "python",
   "nbconvert_exporter": "python",
   "pygments_lexer": "ipython3",
   "version": "3.8.1"
  }
 },
 "nbformat": 4,
 "nbformat_minor": 2
}
