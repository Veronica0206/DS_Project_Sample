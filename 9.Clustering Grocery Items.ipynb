{
 "cells": [
  {
   "cell_type": "markdown",
   "metadata": {},
   "source": [
    "### Company XYZ is an online grocery store. In the current version of the website, they have manually grouped the items into a few categories based on their experience. However, they now have a lot of data about user purchase history. Therefore, they would like to put the data into use! This is what they asked you to do:\n",
    "\n",
    "#### (1) The company founder wants to meet with some of the best customers to go through a focus group with them. You are asked to send the ID of the following customers to the founder:\n",
    "##### the customer who bought the most items overall in her lifetime\n",
    "##### for each item, the customer who bought that product the most\n",
    "#### (2) Cluster items based on user co-purchase history. That is, create clusters of products that have the highest probability of being bought together. The goal of this is to replace the old/manually created categories with these new ones. Each item can belong to just one cluster."
   ]
  },
  {
   "cell_type": "markdown",
   "metadata": {},
   "source": [
    "### Load the package would be used"
   ]
  },
  {
   "cell_type": "code",
   "execution_count": 1,
   "metadata": {},
   "outputs": [
    {
     "name": "stdout",
     "output_type": "stream",
     "text": [
      "Populating the interactive namespace from numpy and matplotlib\n"
     ]
    }
   ],
   "source": [
    "import numpy as np\n",
    "import pandas as pd\n",
    "pd.set_option(\"display.max_columns\", 10)\n",
    "pd.set_option(\"display.width\", 350)\n",
    "\n",
    "import seaborn as sns\n",
    "import matplotlib.pyplot as plt\n",
    "from matplotlib.colors import rgb2hex, colorConverter\n",
    "\n",
    "from collections import defaultdict\n",
    "from scipy.spatial.distance import pdist, squareform\n",
    "import scipy.cluster.hierarchy as sch\n",
    "from scipy.cluster.hierarchy import linkage, dendrogram, set_link_color_palette\n",
    "\n",
    "\n",
    "%pylab inline"
   ]
  },
  {
   "cell_type": "markdown",
   "metadata": {},
   "source": [
    "### Read in the data set"
   ]
  },
  {
   "cell_type": "code",
   "execution_count": 2,
   "metadata": {},
   "outputs": [],
   "source": [
    "purchase = pd.read_csv(\"../Datasets/grocery/purchase_history.csv\")\n",
    "item = pd.read_csv(\"../Datasets/grocery/item_to_id.csv\")"
   ]
  },
  {
   "cell_type": "markdown",
   "metadata": {},
   "source": [
    "### Look into dataset"
   ]
  },
  {
   "cell_type": "code",
   "execution_count": 3,
   "metadata": {},
   "outputs": [
    {
     "name": "stdout",
     "output_type": "stream",
     "text": [
      "(39474, 2)\n",
      "(48, 2)\n",
      "<bound method NDFrame.head of        user_id                                                 id\n",
      "0       222087                                              27,26\n",
      "1      1343649                                            6,47,17\n",
      "2       404134                       18,12,23,22,27,43,38,20,35,1\n",
      "3      1110200                                 9,23,2,20,26,47,37\n",
      "4       224107  31,18,5,13,1,21,48,16,26,2,44,32,20,37,42,35,4...\n",
      "...        ...                                                ...\n",
      "39469   704794                                      48,42,44,10,2\n",
      "39470    31237              23,21,26,27,41,9,47,43,20,40,16,24,46\n",
      "39471   724925              3,39,28,4,1,43,47,27,18,25,44,10,30,2\n",
      "39472   651509                           13,39,20,32,37,1,3,18,34\n",
      "39473   517744                    39,40,20,3,10,42,38,43,28,25,13\n",
      "\n",
      "[39474 rows x 2 columns]>\n",
      "<bound method NDFrame.head of             Item_name  Item_id\n",
      "0              coffee       43\n",
      "1                 tea       23\n",
      "2               juice       38\n",
      "3                soda        9\n",
      "4     sandwich loaves       39\n",
      "5        dinner rolls       37\n",
      "6           tortillas       34\n",
      "7              bagels       13\n",
      "8   canned vegetables       28\n",
      "9     spaghetti sauce       26\n",
      "10            ketchup       41\n",
      "11            cheeses       21\n",
      "12               eggs       14\n",
      "13               milk       16\n",
      "14             yogurt       48\n",
      "15             butter        8\n",
      "16            cereals       11\n",
      "17              flour       30\n",
      "18              sugar        1\n",
      "19              pasta       31\n",
      "20            waffles        5\n",
      "21  frozen vegetables       22\n",
      "22          ice cream       36\n",
      "23            poultry        6\n",
      "24               beef       17\n",
      "25               pork       47\n",
      "26            bananas       46\n",
      "27            berries       40\n",
      "28           cherries       25\n",
      "29         grapefruit       20\n",
      "30             apples       32\n",
      "31           broccoli       44\n",
      "32            carrots       10\n",
      "33        cauliflower       45\n",
      "34          cucumbers       42\n",
      "35            lettuce        2\n",
      "36  laundry detergent       18\n",
      "37       dishwashing        27\n",
      "38       paper towels       24\n",
      "39       toilet paper       33\n",
      "40      aluminum foil       15\n",
      "41      sandwich bags        7\n",
      "42            shampoo       12\n",
      "43               soap       35\n",
      "44          hand soap       29\n",
      "45      shaving cream       19\n",
      "46         baby items        4\n",
      "47          pet items        3>\n",
      "<bound method DataFrame.info of        user_id                                                 id\n",
      "0       222087                                              27,26\n",
      "1      1343649                                            6,47,17\n",
      "2       404134                       18,12,23,22,27,43,38,20,35,1\n",
      "3      1110200                                 9,23,2,20,26,47,37\n",
      "4       224107  31,18,5,13,1,21,48,16,26,2,44,32,20,37,42,35,4...\n",
      "...        ...                                                ...\n",
      "39469   704794                                      48,42,44,10,2\n",
      "39470    31237              23,21,26,27,41,9,47,43,20,40,16,24,46\n",
      "39471   724925              3,39,28,4,1,43,47,27,18,25,44,10,30,2\n",
      "39472   651509                           13,39,20,32,37,1,3,18,34\n",
      "39473   517744                    39,40,20,3,10,42,38,43,28,25,13\n",
      "\n",
      "[39474 rows x 2 columns]>\n",
      "<bound method DataFrame.info of             Item_name  Item_id\n",
      "0              coffee       43\n",
      "1                 tea       23\n",
      "2               juice       38\n",
      "3                soda        9\n",
      "4     sandwich loaves       39\n",
      "5        dinner rolls       37\n",
      "6           tortillas       34\n",
      "7              bagels       13\n",
      "8   canned vegetables       28\n",
      "9     spaghetti sauce       26\n",
      "10            ketchup       41\n",
      "11            cheeses       21\n",
      "12               eggs       14\n",
      "13               milk       16\n",
      "14             yogurt       48\n",
      "15             butter        8\n",
      "16            cereals       11\n",
      "17              flour       30\n",
      "18              sugar        1\n",
      "19              pasta       31\n",
      "20            waffles        5\n",
      "21  frozen vegetables       22\n",
      "22          ice cream       36\n",
      "23            poultry        6\n",
      "24               beef       17\n",
      "25               pork       47\n",
      "26            bananas       46\n",
      "27            berries       40\n",
      "28           cherries       25\n",
      "29         grapefruit       20\n",
      "30             apples       32\n",
      "31           broccoli       44\n",
      "32            carrots       10\n",
      "33        cauliflower       45\n",
      "34          cucumbers       42\n",
      "35            lettuce        2\n",
      "36  laundry detergent       18\n",
      "37       dishwashing        27\n",
      "38       paper towels       24\n",
      "39       toilet paper       33\n",
      "40      aluminum foil       15\n",
      "41      sandwich bags        7\n",
      "42            shampoo       12\n",
      "43               soap       35\n",
      "44          hand soap       29\n",
      "45      shaving cream       19\n",
      "46         baby items        4\n",
      "47          pet items        3>\n",
      "False\n",
      "True\n"
     ]
    }
   ],
   "source": [
    "print(purchase.shape)\n",
    "print(item.shape)\n",
    "\n",
    "print(purchase.head)\n",
    "print(item.head)\n",
    "\n",
    "print(purchase.info)\n",
    "print(item.info)\n",
    "\n",
    "print(len(purchase[\"user_id\"]) == len(pd.unique(purchase[\"user_id\"])))\n",
    "print(len(item[\"Item_id\"]) == len(pd.unique(item[\"Item_id\"])))"
   ]
  },
  {
   "cell_type": "markdown",
   "metadata": {},
   "source": [
    "### Data Processing\n",
    "\n",
    "#### Step 1: Separate the item of purchase history to multiple columns (up to total number of items)"
   ]
  },
  {
   "cell_type": "code",
   "execution_count": 4,
   "metadata": {},
   "outputs": [
    {
     "name": "stdout",
     "output_type": "stream",
     "text": [
      "48\n",
      "[1, 2, 3, 4, 5, 6, 7, 8, 9, 10, 11, 12, 13, 14, 15, 16, 17, 18, 19, 20, 21, 22, 23, 24, 25, 26, 27, 28, 29, 30, 31, 32, 33, 34, 35, 36, 37, 38, 39, 40, 41, 42, 43, 44, 45, 46, 47, 48]\n"
     ]
    }
   ],
   "source": [
    "print(len(pd.unique(item[\"Item_id\"])))\n",
    "print(sorted(item[\"Item_id\"].unique()))"
   ]
  },
  {
   "cell_type": "code",
   "execution_count": 5,
   "metadata": {},
   "outputs": [
    {
     "data": {
      "text/html": [
       "<div>\n",
       "<style scoped>\n",
       "    .dataframe tbody tr th:only-of-type {\n",
       "        vertical-align: middle;\n",
       "    }\n",
       "\n",
       "    .dataframe tbody tr th {\n",
       "        vertical-align: top;\n",
       "    }\n",
       "\n",
       "    .dataframe thead th {\n",
       "        text-align: right;\n",
       "    }\n",
       "</style>\n",
       "<table border=\"1\" class=\"dataframe\">\n",
       "  <thead>\n",
       "    <tr style=\"text-align: right;\">\n",
       "      <th></th>\n",
       "      <th>index</th>\n",
       "      <th>0</th>\n",
       "      <th>1</th>\n",
       "      <th>2</th>\n",
       "      <th>3</th>\n",
       "      <th>...</th>\n",
       "      <th>23</th>\n",
       "      <th>24</th>\n",
       "      <th>25</th>\n",
       "      <th>26</th>\n",
       "      <th>user_id</th>\n",
       "    </tr>\n",
       "  </thead>\n",
       "  <tbody>\n",
       "    <tr>\n",
       "      <th>0</th>\n",
       "      <td>0</td>\n",
       "      <td>27</td>\n",
       "      <td>26</td>\n",
       "      <td>None</td>\n",
       "      <td>None</td>\n",
       "      <td>...</td>\n",
       "      <td>None</td>\n",
       "      <td>None</td>\n",
       "      <td>None</td>\n",
       "      <td>None</td>\n",
       "      <td>222087</td>\n",
       "    </tr>\n",
       "    <tr>\n",
       "      <th>1</th>\n",
       "      <td>1</td>\n",
       "      <td>6</td>\n",
       "      <td>47</td>\n",
       "      <td>17</td>\n",
       "      <td>None</td>\n",
       "      <td>...</td>\n",
       "      <td>None</td>\n",
       "      <td>None</td>\n",
       "      <td>None</td>\n",
       "      <td>None</td>\n",
       "      <td>1343649</td>\n",
       "    </tr>\n",
       "    <tr>\n",
       "      <th>2</th>\n",
       "      <td>2</td>\n",
       "      <td>18</td>\n",
       "      <td>12</td>\n",
       "      <td>23</td>\n",
       "      <td>22</td>\n",
       "      <td>...</td>\n",
       "      <td>None</td>\n",
       "      <td>None</td>\n",
       "      <td>None</td>\n",
       "      <td>None</td>\n",
       "      <td>404134</td>\n",
       "    </tr>\n",
       "    <tr>\n",
       "      <th>3</th>\n",
       "      <td>3</td>\n",
       "      <td>9</td>\n",
       "      <td>23</td>\n",
       "      <td>2</td>\n",
       "      <td>20</td>\n",
       "      <td>...</td>\n",
       "      <td>None</td>\n",
       "      <td>None</td>\n",
       "      <td>None</td>\n",
       "      <td>None</td>\n",
       "      <td>1110200</td>\n",
       "    </tr>\n",
       "    <tr>\n",
       "      <th>4</th>\n",
       "      <td>4</td>\n",
       "      <td>31</td>\n",
       "      <td>18</td>\n",
       "      <td>5</td>\n",
       "      <td>13</td>\n",
       "      <td>...</td>\n",
       "      <td>None</td>\n",
       "      <td>None</td>\n",
       "      <td>None</td>\n",
       "      <td>None</td>\n",
       "      <td>224107</td>\n",
       "    </tr>\n",
       "  </tbody>\n",
       "</table>\n",
       "<p>5 rows × 29 columns</p>\n",
       "</div>"
      ],
      "text/plain": [
       "   index   0   1     2     3  ...    23    24    25    26  user_id\n",
       "0      0  27  26  None  None  ...  None  None  None  None   222087\n",
       "1      1   6  47    17  None  ...  None  None  None  None  1343649\n",
       "2      2  18  12    23    22  ...  None  None  None  None   404134\n",
       "3      3   9  23     2    20  ...  None  None  None  None  1110200\n",
       "4      4  31  18     5    13  ...  None  None  None  None   224107\n",
       "\n",
       "[5 rows x 29 columns]"
      ]
     },
     "execution_count": 5,
     "metadata": {},
     "output_type": "execute_result"
    }
   ],
   "source": [
    "purchase_split = purchase[\"id\"].str.split(\",\", n = 48, expand = True)\n",
    "purchase_split[\"user_id\"] = purchase[\"user_id\"]\n",
    "purchase_split = purchase_split.reset_index()\n",
    "purchase_split.head()"
   ]
  },
  {
   "cell_type": "markdown",
   "metadata": {},
   "source": [
    "#### Step 2: Convert the wide-format purchase history to long-format purchase history, and then remove missing values"
   ]
  },
  {
   "cell_type": "code",
   "execution_count": 6,
   "metadata": {},
   "outputs": [
    {
     "data": {
      "text/html": [
       "<div>\n",
       "<style scoped>\n",
       "    .dataframe tbody tr th:only-of-type {\n",
       "        vertical-align: middle;\n",
       "    }\n",
       "\n",
       "    .dataframe tbody tr th {\n",
       "        vertical-align: top;\n",
       "    }\n",
       "\n",
       "    .dataframe thead th {\n",
       "        text-align: right;\n",
       "    }\n",
       "</style>\n",
       "<table border=\"1\" class=\"dataframe\">\n",
       "  <thead>\n",
       "    <tr style=\"text-align: right;\">\n",
       "      <th></th>\n",
       "      <th>user_id</th>\n",
       "      <th>value</th>\n",
       "    </tr>\n",
       "  </thead>\n",
       "  <tbody>\n",
       "    <tr>\n",
       "      <th>0</th>\n",
       "      <td>222087</td>\n",
       "      <td>27</td>\n",
       "    </tr>\n",
       "    <tr>\n",
       "      <th>1</th>\n",
       "      <td>1343649</td>\n",
       "      <td>6</td>\n",
       "    </tr>\n",
       "    <tr>\n",
       "      <th>2</th>\n",
       "      <td>404134</td>\n",
       "      <td>18</td>\n",
       "    </tr>\n",
       "    <tr>\n",
       "      <th>3</th>\n",
       "      <td>1110200</td>\n",
       "      <td>9</td>\n",
       "    </tr>\n",
       "    <tr>\n",
       "      <th>4</th>\n",
       "      <td>224107</td>\n",
       "      <td>31</td>\n",
       "    </tr>\n",
       "  </tbody>\n",
       "</table>\n",
       "</div>"
      ],
      "text/plain": [
       "   user_id value\n",
       "0   222087    27\n",
       "1  1343649     6\n",
       "2   404134    18\n",
       "3  1110200     9\n",
       "4   224107    31"
      ]
     },
     "execution_count": 6,
     "metadata": {},
     "output_type": "execute_result"
    }
   ],
   "source": [
    "purchase_long = pd.melt(purchase_split, id_vars = [\"index\", \"user_id\"], value_vars = purchase_split.columns[1:28])[[\"user_id\", \"value\"]]\n",
    "purchase_long = purchase_long[[\"user_id\", \"value\"]].dropna()\n",
    "purchase_long.head()"
   ]
  },
  {
   "cell_type": "markdown",
   "metadata": {},
   "source": [
    "#### (1) The company founder wants to meet with some of the best customers to go through a focus group with them. You are asked to send the ID of the following customers to the founder:\n",
    "\n",
    "##### the customer who bought the most items overall in her lifetime"
   ]
  },
  {
   "cell_type": "code",
   "execution_count": 7,
   "metadata": {},
   "outputs": [
    {
     "name": "stdout",
     "output_type": "stream",
     "text": [
      "      user_id  value\n",
      "4445   269335     72\n",
      "6111   367872     70\n",
      "6623   397623     64\n",
      "      user_id  total_item\n",
      "4445   269335          72\n",
      "6111   367872          70\n",
      "6623   397623          64\n"
     ]
    }
   ],
   "source": [
    "##### Method 1:\n",
    "grp_user1 = purchase_long[[\"user_id\", \"value\"]].groupby(\"user_id\").count().reset_index()\n",
    "print(grp_user1.sort_values(by = [\"value\"], ascending = False)[0:3])\n",
    "\n",
    "##### Method 2:\n",
    "purchase_split[\"total_item\"] = purchase_split.drop(columns = [\"index\", \"user_id\"]).count(axis = \"columns\")\n",
    "grp_user2 = purchase_split[[\"user_id\", \"total_item\"]].groupby([\"user_id\"]).sum().reset_index()\n",
    "print(grp_user2.sort_values(by = [\"total_item\"], ascending = False)[0:3])"
   ]
  },
  {
   "cell_type": "markdown",
   "metadata": {},
   "source": [
    "##### for each item, the customer who bought that product the most"
   ]
  },
  {
   "cell_type": "code",
   "execution_count": 8,
   "metadata": {},
   "outputs": [
    {
     "name": "stdout",
     "output_type": "stream",
     "text": [
      "  Item_id  count  user_id Item_name\n",
      "0       1      4    31625     sugar\n",
      "1       1      4    68836     sugar\n",
      "2       1      4   540483     sugar\n",
      "3       1      4  1091637     sugar\n",
      "4       1      4  1301034     sugar\n",
      "5      10      4   618914   carrots\n",
      "6      10      4   743501   carrots\n",
      "7      10      4  1485538   carrots\n",
      "8      11      3   367872   cereals\n",
      "9      11      3   534745   cereals\n"
     ]
    }
   ],
   "source": [
    "grp_item = purchase_long.reset_index().groupby([\"value\", \"user_id\"]).count().reset_index()\n",
    "max_item = grp_item[[\"value\", \"index\"]].groupby(\"value\").max().reset_index().merge(grp_item, on = [\"value\", \"index\"], how = \"left\")\n",
    "max_item = max_item.rename(columns = {\"value\": \"Item_id\", \"index\": \"count\"})\n",
    "max_item[\"Item_id\"] = max_item[\"Item_id\"].astype(str)\n",
    "item[\"Item_id\"] = item[\"Item_id\"].astype(str)\n",
    "max_item_name = max_item.merge(item, on = \"Item_id\", how = \"left\")[0:10]\n",
    "print(max_item_name[0:10])"
   ]
  },
  {
   "cell_type": "markdown",
   "metadata": {},
   "source": [
    "#### (2) Cluster items based on user co-purchase history. That is, create clusters of products that have the highest probability of being bought together. The goal of this is to replace the old/manually created categories with these new ones. Each item can belong to just one cluster."
   ]
  },
  {
   "cell_type": "code",
   "execution_count": 9,
   "metadata": {},
   "outputs": [],
   "source": [
    "purchase_long = purchase_long.rename(columns = {\"value\": \"Item_id\"})\n",
    "purchase_long[\"Item_id\"] = purchase_long[\"Item_id\"].astype(str)\n",
    "purchase_long_name = purchase_long.merge(item, on = \"Item_id\", how = \"left\")\n",
    "purchase_name = pd.crosstab(purchase_long_name.user_id, purchase_long_name.Item_name, margins = False).reset_index()\n",
    "purchase_name = purchase_name.drop(columns = \"user_id\")"
   ]
  },
  {
   "cell_type": "code",
   "execution_count": 10,
   "metadata": {},
   "outputs": [
    {
     "data": {
      "image/png": "[encoded data removed]",
      "text/plain": [
       "<Figure size 1440x720 with 1 Axes>"
      ]
     },
     "metadata": {
      "needs_background": "light"
     },
     "output_type": "display_data"
    }
   ],
   "source": [
    "purchase_name_t = purchase_name.transpose()\n",
    "c_dist = pdist(purchase_name_t)\n",
    "c_link = linkage(purchase_name_t, metric = \"correlation\", method = \"complete\")\n",
    "plt.figure(figsize = (20, 10))\n",
    "B = dendrogram(c_link, labels = list(purchase_name.columns), leaf_rotation = 45., leaf_font_size = 12.)"
   ]
  },
  {
   "cell_type": "code",
   "execution_count": 11,
   "metadata": {},
   "outputs": [],
   "source": [
    "#### Reference: http://datanongrata.com/2019/04/27/67/\n",
    "\n",
    "class Clusters(dict):\n",
    "    def _repr_html_(self):\n",
    "        html = '<table style=\"border: 0;\">'\n",
    "        for c in self:\n",
    "            hx = rgb2hex(colorConverter.to_rgb(c))\n",
    "            html += '<tr style=\"border: 0;\">' \\\n",
    "            '<td style=\"background-color: {0}; ' \\\n",
    "                       'border: 0;\">' \\\n",
    "            '<code style=\"background-color: {0};\">'.format(hx)\n",
    "            html += c + '</code></td>'\n",
    "            html += '<td style=\"border: 0\"><code>' \n",
    "            html += repr(self[c]) + '</code>'\n",
    "            html += '</td></tr>'\n",
    "\n",
    "        html += '</table>'\n",
    "\n",
    "        return html\n",
    "def get_cluster_classes(den, label='ivl'):\n",
    "    cluster_idxs = defaultdict(list)\n",
    "    for c, pi in zip(den['color_list'], den['icoord']):\n",
    "        for leg in pi[1:3]:\n",
    "            i = (leg - 5.0) / 10.0\n",
    "            if abs(i - int(i)) < 1e-5:\n",
    "                cluster_idxs[c].append(int(i))\n",
    "    \n",
    "    cluster_classes = Clusters()\n",
    "    for c, l in cluster_idxs.items():\n",
    "        i_l = [den[label][i] for i in l]\n",
    "        cluster_classes[c] = i_l\n",
    "    \n",
    "    return cluster_classes\n",
    "\n",
    "def get_clust_graph(df, numclust, transpose=False, dataname=None, save=False, xticksize=8):\n",
    "    if transpose==True:\n",
    "        aml=df.transpose()\n",
    "        xl=\"x-axis\"\n",
    "    else:\n",
    "        aml=df\n",
    "        xl=\"y-axis\"\n",
    "    data_dist = pdist(aml.transpose()) # computing the distance\n",
    "    data_link = linkage(data_dist,  metric='correlation', method='complete')#method=\"complete\") # computing the linkage\n",
    "    B=dendrogram(data_link,labels=list(aml.columns),p=numclust, truncate_mode=\"lastp\",get_leaves=True, count_sort='ascending', show_contracted=True)\n",
    "    #myInd = [i for i, c in zip(B['ivl'], B['color_list']) if c=='g']\n",
    "    get_cluster_classes(B)\n",
    "    ax=plt.gca()\n",
    "    ax.tick_params(axis='x', which='major', labelsize=xticksize)\n",
    "    ax.tick_params(axis='y', which='major', labelsize=15)\n",
    "    plt.xlabel(xl)\n",
    "    #plt.set_size_inches(18.5, 10.5)\n",
    "    plt.ylabel('Distance')\n",
    "    plt.suptitle(xl+\" clustering for \"+dataname, fontweight='bold', fontsize=16);\n",
    "    if save:\n",
    "        plt.savefig(str(df.index.name)+str(numclust)+\"tr_\"+str(transpose)+\"dn_\"+str(dataname)+save+'.png')\n",
    "    else:\n",
    "        print(\"Not saving\")\n",
    "    return get_cluster_classes(B)\n",
    "\n",
    "def give_cluster_assigns(df, numclust, tranpose=True):\n",
    "    if transpose==True:\n",
    "        data_dist = pdist(df.transpose())\n",
    "        data_link = linkage(data_dist,  metric='correlation', method='complete')\n",
    "        cluster_assigns=pd.Series(sch.fcluster(data_link, numclust, criterion='maxclust', monocrit=None), index=df.columns)\n",
    "    else:\n",
    "        data_dist = pdist(df)\n",
    "        data_link = linkage(data_dist,  metric='correlation', method='complete')\n",
    "        cluster_assigns=pd.Series(sch.fcluster(data_link, numclust, criterion='maxclust', monocrit=None), index=df.index)\n",
    "    for i in arange(1,numclust+1):\n",
    "        print(\"Cluster \",str(i),\": ( N =\",len(cluster_assigns[cluster_assigns==i].index),\")\", \", \".join(list(cluster_assigns[cluster_assigns==i].index)))"
   ]
  },
  {
   "cell_type": "code",
   "execution_count": 12,
   "metadata": {},
   "outputs": [
    {
     "name": "stdout",
     "output_type": "stream",
     "text": [
      "Not saving\n"
     ]
    },
    {
     "data": {
      "text/html": [
       "<table style=\"border: 0;\"><tr style=\"border: 0;\"><td style=\"background-color: #0000ff; border: 0;\"><code style=\"background-color: #0000ff;\">b</code></td><td style=\"border: 0\"><code>['bananas', 'grapefruit', 'apples', 'berries', 'cherries', 'carrots', 'cauliflower', 'cucumbers', 'broccoli', 'bagels', 'tortillas', 'dinner rolls', 'sandwich loaves', 'pork', 'poultry', 'beef', 'coffee', 'tea', 'juice', 'soda', 'pet items', 'sugar', 'lettuce']</code></td></tr><tr style=\"border: 0;\"><td style=\"background-color: #008000; border: 0;\"><code style=\"background-color: #008000;\">g</code></td><td style=\"border: 0\"><code>['ketchup', 'spaghetti sauce', 'canned vegetables']</code></td></tr><tr style=\"border: 0;\"><td style=\"background-color: #ff0000; border: 0;\"><code style=\"background-color: #ff0000;\">r</code></td><td style=\"border: 0\"><code>['dishwashing\\xa0', 'laundry detergent']</code></td></tr><tr style=\"border: 0;\"><td style=\"background-color: #00bfbf; border: 0;\"><code style=\"background-color: #00bfbf;\">c</code></td><td style=\"border: 0\"><code>['frozen vegetables', 'ice cream']</code></td></tr><tr style=\"border: 0;\"><td style=\"background-color: #bf00bf; border: 0;\"><code style=\"background-color: #bf00bf;\">m</code></td><td style=\"border: 0\"><code>['milk', 'yogurt', 'paper towels', 'toilet paper', 'sandwich bags', 'aluminum foil', 'hand soap', 'shampoo', 'soap', 'shaving cream', 'flour', 'pasta', 'cereals', 'waffles', 'baby items', 'cheeses', 'butter', 'eggs']</code></td></tr></table>"
      ],
      "text/plain": [
       "{'b': ['bananas',\n",
       "  'grapefruit',\n",
       "  'apples',\n",
       "  'berries',\n",
       "  'cherries',\n",
       "  'carrots',\n",
       "  'cauliflower',\n",
       "  'cucumbers',\n",
       "  'broccoli',\n",
       "  'bagels',\n",
       "  'tortillas',\n",
       "  'dinner rolls',\n",
       "  'sandwich loaves',\n",
       "  'pork',\n",
       "  'poultry',\n",
       "  'beef',\n",
       "  'coffee',\n",
       "  'tea',\n",
       "  'juice',\n",
       "  'soda',\n",
       "  'pet items',\n",
       "  'sugar',\n",
       "  'lettuce'],\n",
       " 'g': ['ketchup', 'spaghetti sauce', 'canned vegetables'],\n",
       " 'r': ['dishwashing\\xa0', 'laundry detergent'],\n",
       " 'c': ['frozen vegetables', 'ice cream'],\n",
       " 'm': ['milk',\n",
       "  'yogurt',\n",
       "  'paper towels',\n",
       "  'toilet paper',\n",
       "  'sandwich bags',\n",
       "  'aluminum foil',\n",
       "  'hand soap',\n",
       "  'shampoo',\n",
       "  'soap',\n",
       "  'shaving cream',\n",
       "  'flour',\n",
       "  'pasta',\n",
       "  'cereals',\n",
       "  'waffles',\n",
       "  'baby items',\n",
       "  'cheeses',\n",
       "  'butter',\n",
       "  'eggs']}"
      ]
     },
     "execution_count": 12,
     "metadata": {},
     "output_type": "execute_result"
    },
    {
     "data": {
      "image/png": "[encoded data removed]",
      "text/plain": [
       "<Figure size 432x288 with 1 Axes>"
      ]
     },
     "metadata": {
      "needs_background": "light"
     },
     "output_type": "display_data"
    }
   ],
   "source": [
    "get_clust_graph(purchase_name_t, 193, transpose = True, dataname = \"purchase_name\")"
   ]
  },
  {
   "cell_type": "code",
   "execution_count": null,
   "metadata": {},
   "outputs": [],
   "source": []
  },
  {
   "cell_type": "code",
   "execution_count": null,
   "metadata": {},
   "outputs": [],
   "source": []
  },
  {
   "cell_type": "code",
   "execution_count": null,
   "metadata": {},
   "outputs": [],
   "source": []
  }
 ],
 "metadata": {
  "kernelspec": {
   "display_name": "Python 3",
   "language": "python",
   "name": "python3"
  },
  "language_info": {
   "codemirror_mode": {
    "name": "ipython",
    "version": 3
   },
   "file_extension": ".py",
   "mimetype": "text/x-python",
   "name": "python",
   "nbconvert_exporter": "python",
   "pygments_lexer": "ipython3",
   "version": "3.8.1"
  }
 },
 "nbformat": 4,
 "nbformat_minor": 2
}
