{
 "cells": [
  {
   "cell_type": "markdown",
   "metadata": {},
   "source": [
    "### There has been lots of talking about diversity in the workplace, especially in technology. The Head of HR at your company is very concerned about that and has asked you to analyze internal data about employees and see whether results suggest that the company is treating its employees fairly.\n",
    "### Specifically, she gave you the following tasks:\n",
    "#### (1) In the company there are 6 levels (described below). Identify, for each employee, her corresponding level.\n",
    "- Individual Contributors (IC): they don't manage anyone \n",
    "\n",
    "- Middle Managers (MM): they are the direct bosses of IC \n",
    "\n",
    "- Directors (D): they are the direct bosses of MM\n",
    "\n",
    "- VP: D direct bosses\n",
    "\n",
    "- Executives (E): VP direct bosses\n",
    "\n",
    "- CEO: The direct boss of E.\n",
    "\n",
    "#### (2) How many people each employee manages? You should have a table with employee ids and the number of people managed. Consider that if John directly manages 2 people and these two people manage 5 people each, then we conclude that John manages 12 people.\n",
    "\n",
    "#### (3) Build a model to predict the salary of each employee. Describe the main factors impacting employee salaries. \n",
    "\n",
    "#### (4) Do you think the company has been treating its employees fairly? Do you see any bias? What are the next steps you would suggest to the Head of HR?"
   ]
  },
  {
   "cell_type": "markdown",
   "metadata": {},
   "source": [
    "### Load the package would be used"
   ]
  },
  {
   "cell_type": "code",
   "execution_count": 1,
   "metadata": {},
   "outputs": [],
   "source": [
    "import numpy as np\n",
    "import pandas as pd\n",
    "pd.set_option(\"display.max_columns\", 10)\n",
    "pd.set_option(\"display.width\", 350)\n",
    "\n",
    "import seaborn as sns\n",
    "import matplotlib.pyplot as plt\n",
    "from sklearn.preprocessing import LabelEncoder\n",
    "from sklearn.model_selection import train_test_split\n",
    "from sklearn.metrics import mean_squared_error, r2_score\n",
    "\n",
    "import h2o\n",
    "from h2o.frame import H2OFrame\n",
    "from h2o.estimators.random_forest import H2ORandomForestEstimator\n",
    "from h2o.grid.grid_search import H2OGridSearch"
   ]
  },
  {
   "cell_type": "markdown",
   "metadata": {},
   "source": [
    "### Read in the data set"
   ]
  },
  {
   "cell_type": "code",
   "execution_count": 2,
   "metadata": {},
   "outputs": [],
   "source": [
    "company = pd.read_csv(\"../Datasets/HR/company_hierarchy.csv\")\n",
    "employee = pd.read_csv(\"../Datasets/HR/employee.csv\")"
   ]
  },
  {
   "cell_type": "markdown",
   "metadata": {},
   "source": [
    "### Look into data"
   ]
  },
  {
   "cell_type": "code",
   "execution_count": 3,
   "metadata": {},
   "outputs": [
    {
     "name": "stdout",
     "output_type": "stream",
     "text": [
      "(10000, 6)\n",
      "(10000, 3)\n",
      "<bound method NDFrame.head of       employee_id  signing_bonus    salary degree_level sex  yrs_experience\n",
      "0          138719              0  273000.0       Master   M               2\n",
      "1            3192              0  301000.0     Bachelor   F               1\n",
      "2          114657              0  261000.0       Master   F               2\n",
      "3           29039              0   86000.0  High_School   F               4\n",
      "4          118607              0  126000.0     Bachelor   F               3\n",
      "...           ...            ...       ...          ...  ..             ...\n",
      "9995        55261              0  307000.0     Bachelor   M               4\n",
      "9996        84604              0  302000.0          PhD   M               6\n",
      "9997       193115              1  132000.0     Bachelor   M               4\n",
      "9998        14249              0   77000.0          PhD   M               4\n",
      "9999        72227              0  178000.0       Master   M               1\n",
      "\n",
      "[10000 rows x 6 columns]>\n",
      "<bound method NDFrame.head of       employee_id   boss_id         dept\n",
      "0           46456  175361.0        sales\n",
      "1          104708   29733.0           HR\n",
      "2          120853   41991.0        sales\n",
      "3          142630  171266.0           HR\n",
      "4           72711  198240.0        sales\n",
      "...           ...       ...          ...\n",
      "9995        45022  154703.0  engineering\n",
      "9996       173414  171461.0           HR\n",
      "9997       194688  161727.0  engineering\n",
      "9998        11698   75242.0  engineering\n",
      "9999       144338   55972.0           HR\n",
      "\n",
      "[10000 rows x 3 columns]>\n",
      "<bound method DataFrame.info of       employee_id  signing_bonus    salary degree_level sex  yrs_experience\n",
      "0          138719              0  273000.0       Master   M               2\n",
      "1            3192              0  301000.0     Bachelor   F               1\n",
      "2          114657              0  261000.0       Master   F               2\n",
      "3           29039              0   86000.0  High_School   F               4\n",
      "4          118607              0  126000.0     Bachelor   F               3\n",
      "...           ...            ...       ...          ...  ..             ...\n",
      "9995        55261              0  307000.0     Bachelor   M               4\n",
      "9996        84604              0  302000.0          PhD   M               6\n",
      "9997       193115              1  132000.0     Bachelor   M               4\n",
      "9998        14249              0   77000.0          PhD   M               4\n",
      "9999        72227              0  178000.0       Master   M               1\n",
      "\n",
      "[10000 rows x 6 columns]>\n",
      "<bound method DataFrame.info of       employee_id   boss_id         dept\n",
      "0           46456  175361.0        sales\n",
      "1          104708   29733.0           HR\n",
      "2          120853   41991.0        sales\n",
      "3          142630  171266.0           HR\n",
      "4           72711  198240.0        sales\n",
      "...           ...       ...          ...\n",
      "9995        45022  154703.0  engineering\n",
      "9996       173414  171461.0           HR\n",
      "9997       194688  161727.0  engineering\n",
      "9998        11698   75242.0  engineering\n",
      "9999       144338   55972.0           HR\n",
      "\n",
      "[10000 rows x 3 columns]>\n",
      "True\n",
      "True\n",
      "['employee_id', 'signing_bonus', 'salary', 'degree_level', 'sex', 'yrs_experience']\n",
      "['employee_id', 'boss_id', 'dept']\n"
     ]
    }
   ],
   "source": [
    "print(employee.shape)\n",
    "print(company.shape)\n",
    "\n",
    "print(employee.head)\n",
    "print(company.head)\n",
    "\n",
    "print(employee.info)\n",
    "print(company.info)\n",
    "\n",
    "print(len(employee[\"employee_id\"]) == len(pd.unique(employee[\"employee_id\"])))\n",
    "print(len(company[\"employee_id\"]) == len(pd.unique(company[\"employee_id\"])))\n",
    "\n",
    "print(list(employee.columns))\n",
    "print(list(company.columns))"
   ]
  },
  {
   "cell_type": "markdown",
   "metadata": {},
   "source": [
    "### Data processing"
   ]
  },
  {
   "cell_type": "code",
   "execution_count": 4,
   "metadata": {},
   "outputs": [
    {
     "name": "stdout",
     "output_type": "stream",
     "text": [
      "(10000, 8)\n",
      "<bound method DataFrame.info of       employee_id  signing_bonus    salary degree_level sex  yrs_experience   boss_id         dept\n",
      "0          138719              0  273000.0       Master   M               2   43602.0  engineering\n",
      "1            3192              0  301000.0     Bachelor   F               1   87847.0        sales\n",
      "2          114657              0  261000.0       Master   F               2  180854.0        sales\n",
      "3           29039              0   86000.0  High_School   F               4   88370.0           HR\n",
      "4          118607              0  126000.0     Bachelor   F               3   23565.0        sales\n",
      "...           ...            ...       ...          ...  ..             ...       ...          ...\n",
      "9995        55261              0  307000.0     Bachelor   M               4   81111.0  engineering\n",
      "9996        84604              0  302000.0          PhD   M               6   83032.0    marketing\n",
      "9997       193115              1  132000.0     Bachelor   M               4    8663.0        sales\n",
      "9998        14249              0   77000.0          PhD   M               4  121527.0    marketing\n",
      "9999        72227              0  178000.0       Master   M               1  193518.0        sales\n",
      "\n",
      "[10000 rows x 8 columns]>\n",
      "['employee_id', 'signing_bonus', 'salary', 'degree_level', 'sex', 'yrs_experience', 'boss_id', 'dept']\n",
      "True\n"
     ]
    },
    {
     "data": {
      "text/html": [
       "<div>\n",
       "<style scoped>\n",
       "    .dataframe tbody tr th:only-of-type {\n",
       "        vertical-align: middle;\n",
       "    }\n",
       "\n",
       "    .dataframe tbody tr th {\n",
       "        vertical-align: top;\n",
       "    }\n",
       "\n",
       "    .dataframe thead th {\n",
       "        text-align: right;\n",
       "    }\n",
       "</style>\n",
       "<table border=\"1\" class=\"dataframe\">\n",
       "  <thead>\n",
       "    <tr style=\"text-align: right;\">\n",
       "      <th></th>\n",
       "      <th>employee_id</th>\n",
       "      <th>signing_bonus</th>\n",
       "      <th>salary</th>\n",
       "      <th>degree_level</th>\n",
       "      <th>sex</th>\n",
       "      <th>yrs_experience</th>\n",
       "      <th>boss_id</th>\n",
       "      <th>dept</th>\n",
       "    </tr>\n",
       "  </thead>\n",
       "  <tbody>\n",
       "    <tr>\n",
       "      <th>0</th>\n",
       "      <td>138719</td>\n",
       "      <td>0</td>\n",
       "      <td>273000.0</td>\n",
       "      <td>Master</td>\n",
       "      <td>M</td>\n",
       "      <td>2</td>\n",
       "      <td>43602.0</td>\n",
       "      <td>engineering</td>\n",
       "    </tr>\n",
       "    <tr>\n",
       "      <th>1</th>\n",
       "      <td>3192</td>\n",
       "      <td>0</td>\n",
       "      <td>301000.0</td>\n",
       "      <td>Bachelor</td>\n",
       "      <td>F</td>\n",
       "      <td>1</td>\n",
       "      <td>87847.0</td>\n",
       "      <td>sales</td>\n",
       "    </tr>\n",
       "    <tr>\n",
       "      <th>2</th>\n",
       "      <td>114657</td>\n",
       "      <td>0</td>\n",
       "      <td>261000.0</td>\n",
       "      <td>Master</td>\n",
       "      <td>F</td>\n",
       "      <td>2</td>\n",
       "      <td>180854.0</td>\n",
       "      <td>sales</td>\n",
       "    </tr>\n",
       "    <tr>\n",
       "      <th>3</th>\n",
       "      <td>29039</td>\n",
       "      <td>0</td>\n",
       "      <td>86000.0</td>\n",
       "      <td>High_School</td>\n",
       "      <td>F</td>\n",
       "      <td>4</td>\n",
       "      <td>88370.0</td>\n",
       "      <td>HR</td>\n",
       "    </tr>\n",
       "    <tr>\n",
       "      <th>4</th>\n",
       "      <td>118607</td>\n",
       "      <td>0</td>\n",
       "      <td>126000.0</td>\n",
       "      <td>Bachelor</td>\n",
       "      <td>F</td>\n",
       "      <td>3</td>\n",
       "      <td>23565.0</td>\n",
       "      <td>sales</td>\n",
       "    </tr>\n",
       "  </tbody>\n",
       "</table>\n",
       "</div>"
      ],
      "text/plain": [
       "   employee_id  signing_bonus    salary degree_level sex  yrs_experience   boss_id         dept\n",
       "0       138719              0  273000.0       Master   M               2   43602.0  engineering\n",
       "1         3192              0  301000.0     Bachelor   F               1   87847.0        sales\n",
       "2       114657              0  261000.0       Master   F               2  180854.0        sales\n",
       "3        29039              0   86000.0  High_School   F               4   88370.0           HR\n",
       "4       118607              0  126000.0     Bachelor   F               3   23565.0        sales"
      ]
     },
     "execution_count": 4,
     "metadata": {},
     "output_type": "execute_result"
    }
   ],
   "source": [
    "dat = employee.merge(company, on = \"employee_id\", how = \"inner\")\n",
    "print(dat.shape)\n",
    "print(dat.info)\n",
    "print(list(dat.columns))\n",
    "print(len(dat[\"employee_id\"]) == len(pd.unique(dat[\"employee_id\"])))\n",
    "dat.head()"
   ]
  },
  {
   "cell_type": "code",
   "execution_count": 5,
   "metadata": {},
   "outputs": [
    {
     "name": "stdout",
     "output_type": "stream",
     "text": [
      "degree_level\n",
      "Bachelor       2735\n",
      "High_School    1657\n",
      "Master         2786\n",
      "PhD            2822\n",
      "dtype: int64\n",
      "sex\n",
      "F    3561\n",
      "M    6439\n",
      "dtype: int64\n",
      "dept\n",
      "CEO               1\n",
      "HR             1694\n",
      "engineering    2696\n",
      "marketing      2010\n",
      "sales          3599\n",
      "dtype: int64\n",
      "signing_bonus\n",
      "0    6986\n",
      "1    3014\n",
      "dtype: int64\n"
     ]
    },
    {
     "data": {
      "text/html": [
       "<div>\n",
       "<style scoped>\n",
       "    .dataframe tbody tr th:only-of-type {\n",
       "        vertical-align: middle;\n",
       "    }\n",
       "\n",
       "    .dataframe tbody tr th {\n",
       "        vertical-align: top;\n",
       "    }\n",
       "\n",
       "    .dataframe thead th {\n",
       "        text-align: right;\n",
       "    }\n",
       "</style>\n",
       "<table border=\"1\" class=\"dataframe\">\n",
       "  <thead>\n",
       "    <tr style=\"text-align: right;\">\n",
       "      <th></th>\n",
       "      <th>employee_id</th>\n",
       "      <th>signing_bonus</th>\n",
       "      <th>salary</th>\n",
       "      <th>yrs_experience</th>\n",
       "      <th>boss_id</th>\n",
       "    </tr>\n",
       "  </thead>\n",
       "  <tbody>\n",
       "    <tr>\n",
       "      <th>count</th>\n",
       "      <td>10000.000000</td>\n",
       "      <td>10000.000000</td>\n",
       "      <td>10000.000000</td>\n",
       "      <td>10000.000000</td>\n",
       "      <td>9999.000000</td>\n",
       "    </tr>\n",
       "    <tr>\n",
       "      <th>mean</th>\n",
       "      <td>100001.855800</td>\n",
       "      <td>0.301400</td>\n",
       "      <td>189111.800000</td>\n",
       "      <td>3.875200</td>\n",
       "      <td>103299.980498</td>\n",
       "    </tr>\n",
       "    <tr>\n",
       "      <th>std</th>\n",
       "      <td>57500.488641</td>\n",
       "      <td>0.458889</td>\n",
       "      <td>88973.796898</td>\n",
       "      <td>3.107409</td>\n",
       "      <td>57508.798817</td>\n",
       "    </tr>\n",
       "    <tr>\n",
       "      <th>min</th>\n",
       "      <td>40.000000</td>\n",
       "      <td>0.000000</td>\n",
       "      <td>60000.000000</td>\n",
       "      <td>1.000000</td>\n",
       "      <td>79.000000</td>\n",
       "    </tr>\n",
       "    <tr>\n",
       "      <th>25%</th>\n",
       "      <td>50574.500000</td>\n",
       "      <td>0.000000</td>\n",
       "      <td>110000.000000</td>\n",
       "      <td>2.000000</td>\n",
       "      <td>55883.000000</td>\n",
       "    </tr>\n",
       "    <tr>\n",
       "      <th>50%</th>\n",
       "      <td>99244.500000</td>\n",
       "      <td>0.000000</td>\n",
       "      <td>182000.000000</td>\n",
       "      <td>3.000000</td>\n",
       "      <td>102712.000000</td>\n",
       "    </tr>\n",
       "    <tr>\n",
       "      <th>75%</th>\n",
       "      <td>149748.500000</td>\n",
       "      <td>1.000000</td>\n",
       "      <td>255000.000000</td>\n",
       "      <td>5.000000</td>\n",
       "      <td>152288.000000</td>\n",
       "    </tr>\n",
       "    <tr>\n",
       "      <th>max</th>\n",
       "      <td>199956.000000</td>\n",
       "      <td>1.000000</td>\n",
       "      <td>700000.000000</td>\n",
       "      <td>34.000000</td>\n",
       "      <td>199950.000000</td>\n",
       "    </tr>\n",
       "  </tbody>\n",
       "</table>\n",
       "</div>"
      ],
      "text/plain": [
       "         employee_id  signing_bonus         salary  yrs_experience        boss_id\n",
       "count   10000.000000   10000.000000   10000.000000    10000.000000    9999.000000\n",
       "mean   100001.855800       0.301400  189111.800000        3.875200  103299.980498\n",
       "std     57500.488641       0.458889   88973.796898        3.107409   57508.798817\n",
       "min        40.000000       0.000000   60000.000000        1.000000      79.000000\n",
       "25%     50574.500000       0.000000  110000.000000        2.000000   55883.000000\n",
       "50%     99244.500000       0.000000  182000.000000        3.000000  102712.000000\n",
       "75%    149748.500000       1.000000  255000.000000        5.000000  152288.000000\n",
       "max    199956.000000       1.000000  700000.000000       34.000000  199950.000000"
      ]
     },
     "execution_count": 5,
     "metadata": {},
     "output_type": "execute_result"
    }
   ],
   "source": [
    "print(dat.groupby([\"degree_level\"]).size())\n",
    "print(dat.groupby([\"sex\"]).size())\n",
    "print(dat.groupby([\"dept\"]).size())\n",
    "print(dat.groupby([\"signing_bonus\"]).size())\n",
    "dat.describe()"
   ]
  },
  {
   "cell_type": "code",
   "execution_count": 6,
   "metadata": {},
   "outputs": [
    {
     "data": {
      "text/html": [
       "<div>\n",
       "<style scoped>\n",
       "    .dataframe tbody tr th:only-of-type {\n",
       "        vertical-align: middle;\n",
       "    }\n",
       "\n",
       "    .dataframe tbody tr th {\n",
       "        vertical-align: top;\n",
       "    }\n",
       "\n",
       "    .dataframe thead th {\n",
       "        text-align: right;\n",
       "    }\n",
       "</style>\n",
       "<table border=\"1\" class=\"dataframe\">\n",
       "  <thead>\n",
       "    <tr style=\"text-align: right;\">\n",
       "      <th></th>\n",
       "      <th>employee_id</th>\n",
       "      <th>signing_bonus</th>\n",
       "      <th>salary</th>\n",
       "      <th>degree_level</th>\n",
       "      <th>sex</th>\n",
       "      <th>yrs_experience</th>\n",
       "      <th>boss_id</th>\n",
       "      <th>dept</th>\n",
       "    </tr>\n",
       "  </thead>\n",
       "  <tbody>\n",
       "    <tr>\n",
       "      <th>6367</th>\n",
       "      <td>61554</td>\n",
       "      <td>1</td>\n",
       "      <td>700000.0</td>\n",
       "      <td>PhD</td>\n",
       "      <td>M</td>\n",
       "      <td>7</td>\n",
       "      <td>NaN</td>\n",
       "      <td>CEO</td>\n",
       "    </tr>\n",
       "  </tbody>\n",
       "</table>\n",
       "</div>"
      ],
      "text/plain": [
       "      employee_id  signing_bonus    salary degree_level sex  yrs_experience  boss_id dept\n",
       "6367        61554              1  700000.0          PhD   M               7      NaN  CEO"
      ]
     },
     "execution_count": 6,
     "metadata": {},
     "output_type": "execute_result"
    }
   ],
   "source": [
    "dat[dat[\"boss_id\"].isnull()]"
   ]
  },
  {
   "cell_type": "markdown",
   "metadata": {},
   "source": [
    "#### (1) In the company there are 6 levels (described below). Identify, for each employee, her corresponding level.\n",
    "- Individual Contributors (IC): they don't manage anyone \n",
    "\n",
    "- Middle Managers (MM): they are the direct bosses of IC \n",
    "\n",
    "- Directors (D): they are the direct bosses of MM\n",
    "\n",
    "- VP: D direct bosses\n",
    "\n",
    "- Executives (E): VP direct bosses\n",
    "\n",
    "- CEO: The direct boss of E."
   ]
  },
  {
   "cell_type": "code",
   "execution_count": 7,
   "metadata": {},
   "outputs": [
    {
     "data": {
      "text/plain": [
       "level\n",
       "CEO       1\n",
       "D       160\n",
       "E         4\n",
       "IC     9000\n",
       "MM      800\n",
       "VP       35\n",
       "dtype: int64"
      ]
     },
     "execution_count": 7,
     "metadata": {},
     "output_type": "execute_result"
    }
   ],
   "source": [
    "#### Reference: https://github.com/JifuZhao/DS-Take-Home/blob/master/15.%20Diversity%20in%20the%20Workplace.ipynb\n",
    "levels = [\"CEO\", \"E\", \"VP\", \"D\", \"MM\", \"IC\"]\n",
    "dat.loc[dat[\"dept\"] == \"CEO\", \"level\"] = \"CEO\"\n",
    "\n",
    "for i in range(len(levels) - 1):\n",
    "    boss_level = levels[i]\n",
    "    emplpoyee_level = levels[i + 1]\n",
    "    boss_id = dat[dat[\"level\"] == boss_level][\"employee_id\"]\n",
    "    dat.loc[dat[\"boss_id\"].isin(boss_id), \"level\"] = emplpoyee_level\n",
    "\n",
    "dat.head()\n",
    "dat.groupby([\"level\"]).size()"
   ]
  },
  {
   "cell_type": "markdown",
   "metadata": {},
   "source": [
    "#### (2) How many people each employee manages? You should have a table with employee ids and the number of people managed. Consider that if John directly manages 2 people and these two people manage 5 people each, then we conclude that John manages 12 people."
   ]
  },
  {
   "cell_type": "code",
   "execution_count": 8,
   "metadata": {},
   "outputs": [
    {
     "data": {
      "text/html": [
       "<div>\n",
       "<style scoped>\n",
       "    .dataframe tbody tr th:only-of-type {\n",
       "        vertical-align: middle;\n",
       "    }\n",
       "\n",
       "    .dataframe tbody tr th {\n",
       "        vertical-align: top;\n",
       "    }\n",
       "\n",
       "    .dataframe thead th {\n",
       "        text-align: right;\n",
       "    }\n",
       "</style>\n",
       "<table border=\"1\" class=\"dataframe\">\n",
       "  <thead>\n",
       "    <tr style=\"text-align: right;\">\n",
       "      <th></th>\n",
       "      <th>employee_id</th>\n",
       "      <th>signing_bonus</th>\n",
       "      <th>salary</th>\n",
       "      <th>degree_level</th>\n",
       "      <th>sex</th>\n",
       "      <th>yrs_experience</th>\n",
       "      <th>boss_id</th>\n",
       "      <th>dept</th>\n",
       "      <th>level</th>\n",
       "      <th>count</th>\n",
       "    </tr>\n",
       "  </thead>\n",
       "  <tbody>\n",
       "    <tr>\n",
       "      <th>0</th>\n",
       "      <td>138719</td>\n",
       "      <td>0</td>\n",
       "      <td>273000.0</td>\n",
       "      <td>Master</td>\n",
       "      <td>M</td>\n",
       "      <td>2</td>\n",
       "      <td>43602.0</td>\n",
       "      <td>engineering</td>\n",
       "      <td>IC</td>\n",
       "      <td>0</td>\n",
       "    </tr>\n",
       "    <tr>\n",
       "      <th>1</th>\n",
       "      <td>3192</td>\n",
       "      <td>0</td>\n",
       "      <td>301000.0</td>\n",
       "      <td>Bachelor</td>\n",
       "      <td>F</td>\n",
       "      <td>1</td>\n",
       "      <td>87847.0</td>\n",
       "      <td>sales</td>\n",
       "      <td>IC</td>\n",
       "      <td>0</td>\n",
       "    </tr>\n",
       "    <tr>\n",
       "      <th>2</th>\n",
       "      <td>114657</td>\n",
       "      <td>0</td>\n",
       "      <td>261000.0</td>\n",
       "      <td>Master</td>\n",
       "      <td>F</td>\n",
       "      <td>2</td>\n",
       "      <td>180854.0</td>\n",
       "      <td>sales</td>\n",
       "      <td>IC</td>\n",
       "      <td>0</td>\n",
       "    </tr>\n",
       "    <tr>\n",
       "      <th>3</th>\n",
       "      <td>29039</td>\n",
       "      <td>0</td>\n",
       "      <td>86000.0</td>\n",
       "      <td>High_School</td>\n",
       "      <td>F</td>\n",
       "      <td>4</td>\n",
       "      <td>88370.0</td>\n",
       "      <td>HR</td>\n",
       "      <td>IC</td>\n",
       "      <td>0</td>\n",
       "    </tr>\n",
       "    <tr>\n",
       "      <th>4</th>\n",
       "      <td>118607</td>\n",
       "      <td>0</td>\n",
       "      <td>126000.0</td>\n",
       "      <td>Bachelor</td>\n",
       "      <td>F</td>\n",
       "      <td>3</td>\n",
       "      <td>23565.0</td>\n",
       "      <td>sales</td>\n",
       "      <td>IC</td>\n",
       "      <td>0</td>\n",
       "    </tr>\n",
       "  </tbody>\n",
       "</table>\n",
       "</div>"
      ],
      "text/plain": [
       "   employee_id  signing_bonus    salary degree_level sex  yrs_experience   boss_id         dept level  count\n",
       "0       138719              0  273000.0       Master   M               2   43602.0  engineering    IC      0\n",
       "1         3192              0  301000.0     Bachelor   F               1   87847.0        sales    IC      0\n",
       "2       114657              0  261000.0       Master   F               2  180854.0        sales    IC      0\n",
       "3        29039              0   86000.0  High_School   F               4   88370.0           HR    IC      0\n",
       "4       118607              0  126000.0     Bachelor   F               3   23565.0        sales    IC      0"
      ]
     },
     "execution_count": 8,
     "metadata": {},
     "output_type": "execute_result"
    }
   ],
   "source": [
    "#### Reference: https://github.com/JifuZhao/DS-Take-Home/blob/master/15.%20Diversity%20in%20the%20Workplace.ipynb\n",
    "dat[\"count\"] = 0\n",
    "\n",
    "for i in [\"IC\", \"MM\", \"D\", \"VP\", \"E\"]:\n",
    "    boss_ids = dat[dat[\"level\"] == i][\"boss_id\"]\n",
    "    employee_ids = dat[dat[\"level\"] == i][\"employee_id\"]\n",
    "    for b_id, e_id in zip(boss_ids, employee_ids):\n",
    "        e_counts = int(1 + dat.loc[dat[\"employee_id\"] == e_id, \"count\"])\n",
    "        b_counts = int(dat.loc[dat[\"employee_id\"] == b_id, \"count\"])\n",
    "        dat.loc[dat[\"employee_id\"] == b_id, \"count\"] = e_counts + b_counts\n",
    "dat.head()"
   ]
  },
  {
   "cell_type": "markdown",
   "metadata": {},
   "source": [
    "#### (3) Build a model to predict the salary of each employee. Describe the main factors impacting employee salaries."
   ]
  },
  {
   "cell_type": "code",
   "execution_count": 9,
   "metadata": {},
   "outputs": [
    {
     "data": {
      "text/plain": [
       "Text(0, 0.5, 'Salary')"
      ]
     },
     "execution_count": 9,
     "metadata": {},
     "output_type": "execute_result"
    },
    {
     "data": {
      "image/png": "[encoded data removed]",
      "text/plain": [
       "<Figure size 864x432 with 1 Axes>"
      ]
     },
     "metadata": {
      "needs_background": "light"
     },
     "output_type": "display_data"
    }
   ],
   "source": [
    "grp_degree = dat[[\"degree_level\", \"salary\"]].groupby(\"degree_level\").mean().reset_index()\n",
    "plt.figure(figsize = [12, 6])\n",
    "sns.barplot(x = \"degree_level\", y = \"salary\", data = grp_degree, palette = \"PuBuGn\")\n",
    "plt.title(\"Salary by Degree Level\", fontsize = 16)\n",
    "plt.xlabel(\"Degree Level\", fontsize = 12)\n",
    "plt.ylabel(\"Salary\", fontsize = 12)"
   ]
  },
  {
   "cell_type": "code",
   "execution_count": 10,
   "metadata": {},
   "outputs": [
    {
     "data": {
      "text/plain": [
       "Text(0, 0.5, 'Salary')"
      ]
     },
     "execution_count": 10,
     "metadata": {},
     "output_type": "execute_result"
    },
    {
     "data": {
      "image/png": "[encoded data removed]",
      "text/plain": [
       "<Figure size 864x432 with 1 Axes>"
      ]
     },
     "metadata": {
      "needs_background": "light"
     },
     "output_type": "display_data"
    }
   ],
   "source": [
    "grp_sign_bonus = dat[[\"signing_bonus\", \"salary\"]].groupby(\"signing_bonus\").mean().reset_index()\n",
    "plt.figure(figsize = [12, 6])\n",
    "sns.barplot(x = \"signing_bonus\", y = \"salary\", data = grp_sign_bonus, palette = \"PuBuGn\")\n",
    "plt.title(\"Salary by if Signing Bonus\", fontsize = 16)\n",
    "plt.xlabel(\"Signing Bonus\", fontsize = 12)\n",
    "plt.ylabel(\"Salary\", fontsize = 12)"
   ]
  },
  {
   "cell_type": "code",
   "execution_count": 11,
   "metadata": {},
   "outputs": [
    {
     "data": {
      "text/plain": [
       "Text(0, 0.5, 'Salary')"
      ]
     },
     "execution_count": 11,
     "metadata": {},
     "output_type": "execute_result"
    },
    {
     "data": {
      "image/png": "[encoded data removed]",
      "text/plain": [
       "<Figure size 864x432 with 1 Axes>"
      ]
     },
     "metadata": {
      "needs_background": "light"
     },
     "output_type": "display_data"
    }
   ],
   "source": [
    "grp_sex = dat[[\"sex\", \"salary\"]].groupby(\"sex\").mean().reset_index()\n",
    "plt.figure(figsize = [12, 6])\n",
    "sns.barplot(x = \"sex\", y = \"salary\", data = grp_sex, palette = \"PuBuGn\")\n",
    "plt.title(\"Salary by if Sex\", fontsize = 16)\n",
    "plt.xlabel(\"Sex\", fontsize = 12)\n",
    "plt.ylabel(\"Salary\", fontsize = 12)"
   ]
  },
  {
   "cell_type": "code",
   "execution_count": 12,
   "metadata": {},
   "outputs": [
    {
     "data": {
      "text/plain": [
       "Text(0, 0.5, 'Salary')"
      ]
     },
     "execution_count": 12,
     "metadata": {},
     "output_type": "execute_result"
    },
    {
     "data": {
      "image/png": "[encoded data removed]",
      "text/plain": [
       "<Figure size 864x432 with 1 Axes>"
      ]
     },
     "metadata": {
      "needs_background": "light"
     },
     "output_type": "display_data"
    }
   ],
   "source": [
    "grp_yrs_experience = dat[[\"yrs_experience\", \"salary\"]].groupby(\"yrs_experience\").mean().reset_index()\n",
    "plt.figure(figsize = [12, 6])\n",
    "sns.lineplot(x = \"yrs_experience\", y = \"salary\", data = grp_yrs_experience, palette = \"PuBuGn\")\n",
    "plt.title(\"Salary by Years of Experience\", fontsize = 16)\n",
    "plt.xlabel(\"Years of Experience\", fontsize = 12)\n",
    "plt.ylabel(\"Salary\", fontsize = 12)"
   ]
  },
  {
   "cell_type": "code",
   "execution_count": 13,
   "metadata": {},
   "outputs": [
    {
     "data": {
      "text/plain": [
       "Text(0, 0.5, 'Salary')"
      ]
     },
     "execution_count": 13,
     "metadata": {},
     "output_type": "execute_result"
    },
    {
     "data": {
      "image/png": "[encoded data removed]",
      "text/plain": [
       "<Figure size 864x432 with 1 Axes>"
      ]
     },
     "metadata": {
      "needs_background": "light"
     },
     "output_type": "display_data"
    }
   ],
   "source": [
    "grp_dept = dat[[\"dept\", \"salary\"]].groupby(\"dept\").mean().reset_index()\n",
    "plt.figure(figsize = [12, 6])\n",
    "sns.barplot(x = \"dept\", y = \"salary\", data = grp_dept, palette = \"PuBuGn\")\n",
    "plt.title(\"Salary by Department\", fontsize = 16)\n",
    "plt.xlabel(\"Department\", fontsize = 12)\n",
    "plt.ylabel(\"Salary\", fontsize = 12)"
   ]
  },
  {
   "cell_type": "code",
   "execution_count": 14,
   "metadata": {},
   "outputs": [
    {
     "data": {
      "text/plain": [
       "Text(0, 0.5, 'Salary')"
      ]
     },
     "execution_count": 14,
     "metadata": {},
     "output_type": "execute_result"
    },
    {
     "data": {
      "image/png": "[encoded data removed]",
      "text/plain": [
       "<Figure size 864x432 with 1 Axes>"
      ]
     },
     "metadata": {
      "needs_background": "light"
     },
     "output_type": "display_data"
    }
   ],
   "source": [
    "grp_level = dat[[\"level\", \"salary\"]].groupby(\"level\").mean().reset_index()\n",
    "plt.figure(figsize = [12, 6])\n",
    "sns.barplot(x = \"level\", y = \"salary\", data = grp_level, palette = \"PuBuGn\")\n",
    "plt.title(\"Salary by Level\", fontsize = 16)\n",
    "plt.xlabel(\"Level\", fontsize = 12)\n",
    "plt.ylabel(\"Salary\", fontsize = 12)"
   ]
  },
  {
   "cell_type": "code",
   "execution_count": 15,
   "metadata": {},
   "outputs": [
    {
     "data": {
      "text/plain": [
       "Text(0, 0.5, 'Salary')"
      ]
     },
     "execution_count": 15,
     "metadata": {},
     "output_type": "execute_result"
    },
    {
     "data": {
      "image/png": "[encoded data removed]",
      "text/plain": [
       "<Figure size 864x432 with 1 Axes>"
      ]
     },
     "metadata": {
      "needs_background": "light"
     },
     "output_type": "display_data"
    }
   ],
   "source": [
    "grp_count = dat[[\"count\", \"salary\"]].groupby(\"count\").mean().reset_index()\n",
    "plt.figure(figsize = [12, 6])\n",
    "sns.lineplot(x = \"count\", y = \"salary\", data = grp_count, palette = \"PuBuGn\")\n",
    "plt.title(\"Salary by Count\", fontsize = 16)\n",
    "plt.xlabel(\"Count\", fontsize = 12)\n",
    "plt.ylabel(\"Salary\", fontsize = 12)"
   ]
  },
  {
   "cell_type": "code",
   "execution_count": 16,
   "metadata": {},
   "outputs": [
    {
     "name": "stdout",
     "output_type": "stream",
     "text": [
      "Checking whether there is an H2O instance running at http://localhost:54321 ..... not found.\n",
      "Attempting to start a local H2O server...\n",
      "  Java Version: java version \"12.0.1\" 2019-04-16; Java(TM) SE Runtime Environment (build 12.0.1+12); Java HotSpot(TM) 64-Bit Server VM (build 12.0.1+12, mixed mode, sharing)\n",
      "  Starting server from /Library/Frameworks/Python.framework/Versions/3.8/lib/python3.8/site-packages/h2o/backend/bin/h2o.jar\n",
      "  Ice root: /var/folders/kq/wd0bz4wn3hj9lylc5lbr2h140000gn/T/tmprq3ceyhy\n",
      "  JVM stdout: /var/folders/kq/wd0bz4wn3hj9lylc5lbr2h140000gn/T/tmprq3ceyhy/h2o_veronica_started_from_python.out\n",
      "  JVM stderr: /var/folders/kq/wd0bz4wn3hj9lylc5lbr2h140000gn/T/tmprq3ceyhy/h2o_veronica_started_from_python.err\n",
      "  Server is running at http://127.0.0.1:54321\n",
      "Connecting to H2O server at http://127.0.0.1:54321 ... successful.\n"
     ]
    },
    {
     "data": {
      "text/html": [
       "<div style=\"overflow:auto\"><table style=\"width:50%\"><tr><td>H2O cluster uptime:</td>\n",
       "<td>02 secs</td></tr>\n",
       "<tr><td>H2O cluster timezone:</td>\n",
       "<td>America/New_York</td></tr>\n",
       "<tr><td>H2O data parsing timezone:</td>\n",
       "<td>UTC</td></tr>\n",
       "<tr><td>H2O cluster version:</td>\n",
       "<td>3.28.0.1</td></tr>\n",
       "<tr><td>H2O cluster version age:</td>\n",
       "<td>22 days </td></tr>\n",
       "<tr><td>H2O cluster name:</td>\n",
       "<td>H2O_from_python_veronica_csxwvd</td></tr>\n",
       "<tr><td>H2O cluster total nodes:</td>\n",
       "<td>1</td></tr>\n",
       "<tr><td>H2O cluster free memory:</td>\n",
       "<td>4 Gb</td></tr>\n",
       "<tr><td>H2O cluster total cores:</td>\n",
       "<td>4</td></tr>\n",
       "<tr><td>H2O cluster allowed cores:</td>\n",
       "<td>4</td></tr>\n",
       "<tr><td>H2O cluster status:</td>\n",
       "<td>accepting new members, healthy</td></tr>\n",
       "<tr><td>H2O connection url:</td>\n",
       "<td>http://127.0.0.1:54321</td></tr>\n",
       "<tr><td>H2O connection proxy:</td>\n",
       "<td>{'http': None, 'https': None}</td></tr>\n",
       "<tr><td>H2O internal security:</td>\n",
       "<td>False</td></tr>\n",
       "<tr><td>H2O API Extensions:</td>\n",
       "<td>Amazon S3, XGBoost, Algos, AutoML, Core V3, TargetEncoder, Core V4</td></tr>\n",
       "<tr><td>Python version:</td>\n",
       "<td>3.8.1 final</td></tr></table></div>"
      ],
      "text/plain": [
       "--------------------------  ------------------------------------------------------------------\n",
       "H2O cluster uptime:         02 secs\n",
       "H2O cluster timezone:       America/New_York\n",
       "H2O data parsing timezone:  UTC\n",
       "H2O cluster version:        3.28.0.1\n",
       "H2O cluster version age:    22 days\n",
       "H2O cluster name:           H2O_from_python_veronica_csxwvd\n",
       "H2O cluster total nodes:    1\n",
       "H2O cluster free memory:    4 Gb\n",
       "H2O cluster total cores:    4\n",
       "H2O cluster allowed cores:  4\n",
       "H2O cluster status:         accepting new members, healthy\n",
       "H2O connection url:         http://127.0.0.1:54321\n",
       "H2O connection proxy:       {'http': None, 'https': None}\n",
       "H2O internal security:      False\n",
       "H2O API Extensions:         Amazon S3, XGBoost, Algos, AutoML, Core V3, TargetEncoder, Core V4\n",
       "Python version:             3.8.1 final\n",
       "--------------------------  ------------------------------------------------------------------"
      ]
     },
     "metadata": {},
     "output_type": "display_data"
    },
    {
     "name": "stdout",
     "output_type": "stream",
     "text": [
      "Parse progress: |█████████████████████████████████████████████████████████| 100%\n"
     ]
    },
    {
     "data": {
      "text/html": [
       "<table>\n",
       "<thead>\n",
       "<tr><th>       </th><th>employee_id       </th><th>signing_bonus  </th><th>salary            </th><th>degree_level  </th><th>sex  </th><th>yrs_experience    </th><th>boss_id           </th><th>dept       </th><th>level  </th><th>count             </th></tr>\n",
       "</thead>\n",
       "<tbody>\n",
       "<tr><td>type   </td><td>int               </td><td>enum           </td><td>int               </td><td>enum          </td><td>enum </td><td>int               </td><td>int               </td><td>enum       </td><td>enum   </td><td>int               </td></tr>\n",
       "<tr><td>mins   </td><td>40.0              </td><td>               </td><td>60000.0           </td><td>              </td><td>     </td><td>1.0               </td><td>79.0              </td><td>           </td><td>       </td><td>0.0               </td></tr>\n",
       "<tr><td>mean   </td><td>100001.85580000032</td><td>               </td><td>189111.79999999885</td><td>              </td><td>     </td><td>3.8751999999999995</td><td>103299.98049804989</td><td>           </td><td>       </td><td>4.875399999999999 </td></tr>\n",
       "<tr><td>maxs   </td><td>199956.0          </td><td>               </td><td>700000.0          </td><td>              </td><td>     </td><td>34.0              </td><td>199950.0          </td><td>           </td><td>       </td><td>9999.0            </td></tr>\n",
       "<tr><td>sigma  </td><td>57500.48864100209 </td><td>               </td><td>88973.7968978139  </td><td>              </td><td>     </td><td>3.1074089784024066</td><td>57508.79881677934 </td><td>           </td><td>       </td><td>114.47917986735541</td></tr>\n",
       "<tr><td>zeros  </td><td>0                 </td><td>               </td><td>0                 </td><td>              </td><td>     </td><td>0                 </td><td>0                 </td><td>           </td><td>       </td><td>9001              </td></tr>\n",
       "<tr><td>missing</td><td>0                 </td><td>0              </td><td>0                 </td><td>0             </td><td>0    </td><td>0                 </td><td>1                 </td><td>0          </td><td>0      </td><td>0                 </td></tr>\n",
       "<tr><td>0      </td><td>138719.0          </td><td>0              </td><td>273000.0          </td><td>Master        </td><td>M    </td><td>2.0               </td><td>43602.0           </td><td>engineering</td><td>IC     </td><td>0.0               </td></tr>\n",
       "<tr><td>1      </td><td>3192.0            </td><td>0              </td><td>301000.0          </td><td>Bachelor      </td><td>F    </td><td>1.0               </td><td>87847.0           </td><td>sales      </td><td>IC     </td><td>0.0               </td></tr>\n",
       "<tr><td>2      </td><td>114657.0          </td><td>0              </td><td>261000.0          </td><td>Master        </td><td>F    </td><td>2.0               </td><td>180854.0          </td><td>sales      </td><td>IC     </td><td>0.0               </td></tr>\n",
       "<tr><td>3      </td><td>29039.0           </td><td>0              </td><td>86000.0           </td><td>High_School   </td><td>F    </td><td>4.0               </td><td>88370.0           </td><td>HR         </td><td>IC     </td><td>0.0               </td></tr>\n",
       "<tr><td>4      </td><td>118607.0          </td><td>0              </td><td>126000.0          </td><td>Bachelor      </td><td>F    </td><td>3.0               </td><td>23565.0           </td><td>sales      </td><td>IC     </td><td>0.0               </td></tr>\n",
       "<tr><td>5      </td><td>91334.0           </td><td>0              </td><td>221000.0          </td><td>PhD           </td><td>F    </td><td>2.0               </td><td>62990.0           </td><td>sales      </td><td>IC     </td><td>0.0               </td></tr>\n",
       "<tr><td>6      </td><td>101901.0          </td><td>1              </td><td>194000.0          </td><td>PhD           </td><td>M    </td><td>12.0              </td><td>7558.0            </td><td>engineering</td><td>MM     </td><td>6.0               </td></tr>\n",
       "<tr><td>7      </td><td>171111.0          </td><td>1              </td><td>119000.0          </td><td>Master        </td><td>F    </td><td>1.0               </td><td>30468.0           </td><td>engineering</td><td>IC     </td><td>0.0               </td></tr>\n",
       "<tr><td>8      </td><td>23443.0           </td><td>1              </td><td>217000.0          </td><td>PhD           </td><td>M    </td><td>8.0               </td><td>130585.0          </td><td>sales      </td><td>IC     </td><td>0.0               </td></tr>\n",
       "<tr><td>9      </td><td>24195.0           </td><td>0              </td><td>230000.0          </td><td>Master        </td><td>M    </td><td>4.0               </td><td>1050.0            </td><td>engineering</td><td>IC     </td><td>0.0               </td></tr>\n",
       "</tbody>\n",
       "</table>"
      ]
     },
     "metadata": {},
     "output_type": "display_data"
    }
   ],
   "source": [
    "#### Initialize H2O cluster\n",
    "h2o.init()\n",
    "h2o.remove_all()\n",
    "\n",
    "dat_h2o = H2OFrame(dat)\n",
    "dat_h2o[\"signing_bonus\"] = dat_h2o[\"signing_bonus\"].asfactor()\n",
    "dat_h2o[\"degree_level\"] = dat_h2o[\"degree_level\"].asfactor()\n",
    "dat_h2o[\"sex\"] = dat_h2o[\"sex\"].asfactor()\n",
    "dat_h2o[\"dept\"] = dat_h2o[\"dept\"].asfactor()\n",
    "dat_h2o[\"level\"] = dat_h2o[\"level\"].asfactor()\n",
    "dat_h2o.summary()"
   ]
  },
  {
   "cell_type": "code",
   "execution_count": 17,
   "metadata": {},
   "outputs": [],
   "source": [
    "index = dat_h2o[\"salary\"].stratified_split(test_frac = 0.34, seed = 2019)\n",
    "train_dat = dat_h2o[index == \"train\"]\n",
    "test_dat = dat_h2o[index == \"test\"]\n",
    "X = [\"signing_bonus\", \"degree_level\", \"sex\", \"yrs_experience\", \"dept\", \"level\", \"count\"]\n",
    "Y = \"salary\""
   ]
  },
  {
   "cell_type": "code",
   "execution_count": 18,
   "metadata": {},
   "outputs": [
    {
     "name": "stdout",
     "output_type": "stream",
     "text": [
      "drf Model Build progress: |███████████████████████████████████████████████| 100%\n"
     ]
    }
   ],
   "source": [
    "RF = H2ORandomForestEstimator(balance_classes = False, ntrees = 100, max_depth = 20, \n",
    "                              mtries = -1, seed = 2019, score_each_iteration = True)\n",
    "RF.train(x = X, y = Y, training_frame = train_dat)"
   ]
  },
  {
   "cell_type": "code",
   "execution_count": 19,
   "metadata": {},
   "outputs": [
    {
     "data": {
      "image/png": "[encoded data removed]",
      "text/plain": [
       "<Figure size 1008x720 with 1 Axes>"
      ]
     },
     "metadata": {
      "needs_background": "light"
     },
     "output_type": "display_data"
    }
   ],
   "source": [
    "RF.varimp_plot()"
   ]
  },
  {
   "cell_type": "markdown",
   "metadata": {},
   "source": [
    "#### (4) Do you think the company has been treating its employees fairly? Do you see any bias? What are the next steps you would suggest to the Head of HR?"
   ]
  },
  {
   "cell_type": "code",
   "execution_count": 20,
   "metadata": {},
   "outputs": [
    {
     "data": {
      "text/plain": [
       "Text(0, 0.5, 'Count')"
      ]
     },
     "execution_count": 20,
     "metadata": {},
     "output_type": "execute_result"
    },
    {
     "data": {
      "image/png": "[encoded data removed]",
      "text/plain": [
       "<Figure size 864x432 with 1 Axes>"
      ]
     },
     "metadata": {
      "needs_background": "light"
     },
     "output_type": "display_data"
    }
   ],
   "source": [
    "grp_sex_degree = dat[[\"degree_level\", \"sex\", \"salary\"]].groupby([\"degree_level\", \"sex\"]).count().reset_index()\n",
    "plt.figure(figsize = [12, 6])\n",
    "sns.barplot(x = \"degree_level\", y = \"salary\", hue = \"sex\", data = grp_sex_degree, palette = \"PuBuGn\")\n",
    "plt.title(\"Count by Sex and Degree Level\", fontsize = 16)\n",
    "plt.xlabel(\"Degree Level\", fontsize = 12)\n",
    "plt.ylabel(\"Count\", fontsize = 12)"
   ]
  },
  {
   "cell_type": "code",
   "execution_count": 21,
   "metadata": {},
   "outputs": [
    {
     "data": {
      "text/plain": [
       "Text(0, 0.5, 'Count')"
      ]
     },
     "execution_count": 21,
     "metadata": {},
     "output_type": "execute_result"
    },
    {
     "data": {
      "image/png": "[encoded data removed]",
      "text/plain": [
       "<Figure size 864x432 with 1 Axes>"
      ]
     },
     "metadata": {
      "needs_background": "light"
     },
     "output_type": "display_data"
    }
   ],
   "source": [
    "grp_sex_degree = dat[[\"degree_level\", \"sex\", \"salary\"]].groupby([\"degree_level\", \"sex\"]).count().reset_index()\n",
    "plt.figure(figsize = [12, 6])\n",
    "sns.barplot(x = \"degree_level\", y = \"salary\", hue = \"sex\", data = grp_sex_degree, palette = \"PuBuGn\")\n",
    "plt.title(\"Count by Sex and Degree Level\", fontsize = 16)\n",
    "plt.xlabel(\"Degree Level\", fontsize = 12)\n",
    "plt.ylabel(\"Count\", fontsize = 12)"
   ]
  },
  {
   "cell_type": "code",
   "execution_count": 22,
   "metadata": {},
   "outputs": [
    {
     "data": {
      "text/plain": [
       "Text(0, 0.5, 'Count')"
      ]
     },
     "execution_count": 22,
     "metadata": {},
     "output_type": "execute_result"
    },
    {
     "data": {
      "image/png": "[encoded data removed]",
      "text/plain": [
       "<Figure size 864x432 with 1 Axes>"
      ]
     },
     "metadata": {
      "needs_background": "light"
     },
     "output_type": "display_data"
    }
   ],
   "source": [
    "grp_sex_sign_bonus = dat[[\"signing_bonus\", \"sex\", \"salary\"]].groupby([\"signing_bonus\", \"sex\"]).count().reset_index()\n",
    "plt.figure(figsize = [12, 6])\n",
    "sns.barplot(x = \"signing_bonus\", y = \"salary\", hue = \"sex\", data = grp_sex_sign_bonus, palette = \"PuBuGn\")\n",
    "plt.title(\"Count by Sex and Sign Bonus\", fontsize = 16)\n",
    "plt.xlabel(\"Sign Bonus\", fontsize = 12)\n",
    "plt.ylabel(\"Count\", fontsize = 12)"
   ]
  },
  {
   "cell_type": "code",
   "execution_count": 23,
   "metadata": {},
   "outputs": [
    {
     "data": {
      "text/plain": [
       "Text(0, 0.5, 'Count')"
      ]
     },
     "execution_count": 23,
     "metadata": {},
     "output_type": "execute_result"
    },
    {
     "data": {
      "image/png": "[encoded data removed]",
      "text/plain": [
       "<Figure size 864x432 with 1 Axes>"
      ]
     },
     "metadata": {
      "needs_background": "light"
     },
     "output_type": "display_data"
    }
   ],
   "source": [
    "grp_sex_dept = dat[[\"dept\", \"sex\", \"salary\"]].groupby([\"dept\", \"sex\"]).count().reset_index()\n",
    "plt.figure(figsize = [12, 6])\n",
    "sns.barplot(x = \"dept\", y = \"salary\", hue = \"sex\", data = grp_sex_dept, palette = \"PuBuGn\")\n",
    "plt.title(\"Count by Sex and Department\", fontsize = 16)\n",
    "plt.xlabel(\"Department\", fontsize = 12)\n",
    "plt.ylabel(\"Count\", fontsize = 12)"
   ]
  },
  {
   "cell_type": "code",
   "execution_count": 24,
   "metadata": {},
   "outputs": [
    {
     "data": {
      "text/plain": [
       "Text(0, 0.5, 'Count')"
      ]
     },
     "execution_count": 24,
     "metadata": {},
     "output_type": "execute_result"
    },
    {
     "data": {
      "image/png": "[encoded data removed]",
      "text/plain": [
       "<Figure size 864x432 with 1 Axes>"
      ]
     },
     "metadata": {
      "needs_background": "light"
     },
     "output_type": "display_data"
    }
   ],
   "source": [
    "grp_sex_level = dat[[\"level\", \"sex\", \"salary\"]].groupby([\"level\", \"sex\"]).count().reset_index()\n",
    "plt.figure(figsize = [12, 6])\n",
    "sns.barplot(x = \"level\", y = \"salary\", hue = \"sex\", data = grp_sex_level, palette = \"PuBuGn\")\n",
    "plt.title(\"Count by Sex and Department\", fontsize = 16)\n",
    "plt.xlabel(\"Level\", fontsize = 12)\n",
    "plt.ylabel(\"Count\", fontsize = 12)"
   ]
  },
  {
   "cell_type": "markdown",
   "metadata": {},
   "source": [
    "See my R solution."
   ]
  },
  {
   "cell_type": "code",
   "execution_count": null,
   "metadata": {},
   "outputs": [],
   "source": []
  },
  {
   "cell_type": "code",
   "execution_count": null,
   "metadata": {},
   "outputs": [],
   "source": []
  }
 ],
 "metadata": {
  "kernelspec": {
   "display_name": "Python 3",
   "language": "python",
   "name": "python3"
  },
  "language_info": {
   "codemirror_mode": {
    "name": "ipython",
    "version": 3
   },
   "file_extension": ".py",
   "mimetype": "text/x-python",
   "name": "python",
   "nbconvert_exporter": "python",
   "pygments_lexer": "ipython3",
   "version": "3.8.1"
  }
 },
 "nbformat": 4,
 "nbformat_minor": 4
}
