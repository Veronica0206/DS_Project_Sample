{
 "cells": [
  {
   "cell_type": "markdown",
   "metadata": {},
   "source": [
    "### We got employee data from a few companies. We have data about all employees who joined from 2011/01/24 to 2015/12/13. For each employee, we also know if they are still at the company as of 2015/12/13 or they have quit. Besides that, we have general info about the employee, such as avg salary during her tenure, dept, and yrs of experience.\n",
    "### As said above, and the goal is to predict employee retention and understand its main drivers. Specifically, you should:\n",
    "#### (1) Assume, for each company, that the headcount starts from zero on 2011/01/23. Estimate employee headcount, for each company, on each day, from 2011/01/24 to 2015/12/13. That is, if by 2012/03/02 $2000$ people have joined company 1 and $1000$ of them have already quit, then company headcount on 2012/03/02 for company 1 would be $1000$. You should create a table with 3 columns: day, employee_headcount, company_id.\n",
    "\n",
    "#### (2) What are the main factors that drive employee churn? Do they make sense? Explain your findings.\n",
    "\n",
    "#### (3) If you could add to this data set just one variable that could help explain employee churn, what would that be?"
   ]
  },
  {
   "cell_type": "markdown",
   "metadata": {},
   "source": [
    "### Load the package would be used"
   ]
  },
  {
   "cell_type": "code",
   "execution_count": 1,
   "metadata": {},
   "outputs": [],
   "source": [
    "import pandas as pd\n",
    "pd.set_option(\"display.max_columns\", 10)\n",
    "pd.set_option(\"display.width\", 350)\n",
    "\n",
    "from datetime import datetime, timedelta\n",
    "\n",
    "import matplotlib.pyplot as plt\n",
    "from matplotlib import rcParams\n",
    "rcParams.update({\"figure.autolayout\": True})\n",
    "import seaborn as sns\n",
    "sns.set(style = \"white\")\n",
    "sns.set(style = \"whitegrid\", color_codes = True)\n",
    "\n",
    "import numpy as np\n",
    "\n",
    "import h2o\n",
    "from h2o.frame import H2OFrame\n",
    "from h2o.estimators.gbm import H2OGradientBoostingEstimator\n",
    "from h2o.estimators import H2OIsolationForestEstimator\n",
    "from h2o.tree import H2OTree"
   ]
  },
  {
   "cell_type": "markdown",
   "metadata": {},
   "source": [
    "### Read in the data set"
   ]
  },
  {
   "cell_type": "code",
   "execution_count": 2,
   "metadata": {},
   "outputs": [
    {
     "name": "stdout",
     "output_type": "stream",
     "text": [
      "   employee_id  company_id              dept  seniority    salary   join_date   quit_date\n",
      "0      13021.0           7  customer_service         28   89000.0  2014-03-24  2015-10-30\n",
      "1     825355.0           7         marketing         20  183000.0  2013-04-29  2014-04-04\n",
      "2     927315.0           4         marketing         14  101000.0  2014-10-13         NaN\n",
      "3     662910.0           7  customer_service         20  115000.0  2012-05-14  2013-06-07\n",
      "4     256971.0           2      data_science         23  276000.0  2011-10-17  2014-08-22\n"
     ]
    }
   ],
   "source": [
    "dat0 = pd.read_csv(\"../Datasets/employee_retention_data.csv\")\n",
    "print(dat0.head())"
   ]
  },
  {
   "cell_type": "markdown",
   "metadata": {},
   "source": [
    "### Look into data set"
   ]
  },
  {
   "cell_type": "code",
   "execution_count": 3,
   "metadata": {},
   "outputs": [
    {
     "name": "stdout",
     "output_type": "stream",
     "text": [
      "<class 'pandas.core.frame.DataFrame'>\n",
      "RangeIndex: 24702 entries, 0 to 24701\n",
      "Data columns (total 7 columns):\n",
      "employee_id    24702 non-null float64\n",
      "company_id     24702 non-null int64\n",
      "dept           24702 non-null object\n",
      "seniority      24702 non-null int64\n",
      "salary         24702 non-null float64\n",
      "join_date      24702 non-null object\n",
      "quit_date      13510 non-null object\n",
      "dtypes: float64(2), int64(2), object(3)\n",
      "memory usage: 1.3+ MB\n",
      "None\n",
      "<class 'pandas.core.frame.DataFrame'>\n",
      "RangeIndex: 24702 entries, 0 to 24701\n",
      "Data columns (total 7 columns):\n",
      "employee_id    24702 non-null float64\n",
      "company_id     24702 non-null int64\n",
      "dept           24702 non-null object\n",
      "seniority      24702 non-null int64\n",
      "salary         24702 non-null float64\n",
      "join_date      24702 non-null datetime64[ns]\n",
      "quit_date      13510 non-null datetime64[ns]\n",
      "dtypes: datetime64[ns](2), float64(2), int64(2), object(1)\n",
      "memory usage: 1.3+ MB\n",
      "None\n",
      "          employee_id    company_id              dept     seniority         salary            join_date            quit_date\n",
      "count    24702.000000  24702.000000             24702  24702.000000   24702.000000                24702                13510\n",
      "unique            NaN           NaN                 6           NaN            NaN                  995                  664\n",
      "top               NaN           NaN  customer_service           NaN            NaN  2012-01-03 00:00:00  2015-05-08 00:00:00\n",
      "freq              NaN           NaN              9180           NaN            NaN                  105                  111\n",
      "first             NaN           NaN               NaN           NaN            NaN  2011-01-24 00:00:00  2011-10-13 00:00:00\n",
      "last              NaN           NaN               NaN           NaN            NaN  2015-12-10 00:00:00  2015-12-09 00:00:00\n",
      "mean    501604.403530      3.426969               NaN     14.127803  138183.345478                  NaN                  NaN\n",
      "std     288909.026101      2.700011               NaN      8.089520   76058.184573                  NaN                  NaN\n",
      "min         36.000000      1.000000               NaN      1.000000   17000.000000                  NaN                  NaN\n",
      "25%     250133.750000      1.000000               NaN      7.000000   79000.000000                  NaN                  NaN\n",
      "50%     500793.000000      2.000000               NaN     14.000000  123000.000000                  NaN                  NaN\n",
      "75%     753137.250000      5.000000               NaN     21.000000  187000.000000                  NaN                  NaN\n",
      "max     999969.000000     12.000000               NaN     99.000000  408000.000000                  NaN                  NaN\n"
     ]
    },
    {
     "data": {
      "text/html": [
       "<div>\n",
       "<style scoped>\n",
       "    .dataframe tbody tr th:only-of-type {\n",
       "        vertical-align: middle;\n",
       "    }\n",
       "\n",
       "    .dataframe tbody tr th {\n",
       "        vertical-align: top;\n",
       "    }\n",
       "\n",
       "    .dataframe thead th {\n",
       "        text-align: right;\n",
       "    }\n",
       "</style>\n",
       "<table border=\"1\" class=\"dataframe\">\n",
       "  <thead>\n",
       "    <tr style=\"text-align: right;\">\n",
       "      <th></th>\n",
       "      <th>employee_id</th>\n",
       "      <th>company_id</th>\n",
       "      <th>dept</th>\n",
       "      <th>seniority</th>\n",
       "      <th>salary</th>\n",
       "      <th>join_date</th>\n",
       "      <th>quit_date</th>\n",
       "    </tr>\n",
       "  </thead>\n",
       "  <tbody>\n",
       "    <tr>\n",
       "      <th>0</th>\n",
       "      <td>13021.0</td>\n",
       "      <td>7</td>\n",
       "      <td>customer_service</td>\n",
       "      <td>28</td>\n",
       "      <td>89000.0</td>\n",
       "      <td>2014-03-24</td>\n",
       "      <td>2015-10-30</td>\n",
       "    </tr>\n",
       "    <tr>\n",
       "      <th>1</th>\n",
       "      <td>825355.0</td>\n",
       "      <td>7</td>\n",
       "      <td>marketing</td>\n",
       "      <td>20</td>\n",
       "      <td>183000.0</td>\n",
       "      <td>2013-04-29</td>\n",
       "      <td>2014-04-04</td>\n",
       "    </tr>\n",
       "    <tr>\n",
       "      <th>2</th>\n",
       "      <td>927315.0</td>\n",
       "      <td>4</td>\n",
       "      <td>marketing</td>\n",
       "      <td>14</td>\n",
       "      <td>101000.0</td>\n",
       "      <td>2014-10-13</td>\n",
       "      <td>NaT</td>\n",
       "    </tr>\n",
       "    <tr>\n",
       "      <th>3</th>\n",
       "      <td>662910.0</td>\n",
       "      <td>7</td>\n",
       "      <td>customer_service</td>\n",
       "      <td>20</td>\n",
       "      <td>115000.0</td>\n",
       "      <td>2012-05-14</td>\n",
       "      <td>2013-06-07</td>\n",
       "    </tr>\n",
       "    <tr>\n",
       "      <th>4</th>\n",
       "      <td>256971.0</td>\n",
       "      <td>2</td>\n",
       "      <td>data_science</td>\n",
       "      <td>23</td>\n",
       "      <td>276000.0</td>\n",
       "      <td>2011-10-17</td>\n",
       "      <td>2014-08-22</td>\n",
       "    </tr>\n",
       "  </tbody>\n",
       "</table>\n",
       "</div>"
      ],
      "text/plain": [
       "   employee_id  company_id              dept  seniority    salary  join_date  quit_date\n",
       "0      13021.0           7  customer_service         28   89000.0 2014-03-24 2015-10-30\n",
       "1     825355.0           7         marketing         20  183000.0 2013-04-29 2014-04-04\n",
       "2     927315.0           4         marketing         14  101000.0 2014-10-13        NaT\n",
       "3     662910.0           7  customer_service         20  115000.0 2012-05-14 2013-06-07\n",
       "4     256971.0           2      data_science         23  276000.0 2011-10-17 2014-08-22"
      ]
     },
     "execution_count": 3,
     "metadata": {},
     "output_type": "execute_result"
    }
   ],
   "source": [
    "print(dat0.info())\n",
    "dat0[\"join_date\"] = pd.to_datetime(dat0[\"join_date\"])\n",
    "dat0[\"quit_date\"] = pd.to_datetime(dat0[\"quit_date\"])\n",
    "print(dat0.info())\n",
    "print(dat0.describe(include = \"all\"))\n",
    "dat0.head()"
   ]
  },
  {
   "cell_type": "markdown",
   "metadata": {},
   "source": [
    "### Answer questions"
   ]
  },
  {
   "cell_type": "markdown",
   "metadata": {},
   "source": [
    "#### You should create a table with 3 columns: day, employee_headcount, company_id."
   ]
  },
  {
   "cell_type": "code",
   "execution_count": 4,
   "metadata": {},
   "outputs": [
    {
     "name": "stdout",
     "output_type": "stream",
     "text": [
      "          date  company_id  count\n",
      "4   2011-01-24           1   25.0\n",
      "16  2011-01-25           1   27.0\n",
      "28  2011-01-26           1   29.0\n",
      "40  2011-01-27           1   29.0\n",
      "52  2011-01-28           1   29.0\n",
      "64  2011-01-29           1   29.0\n",
      "76  2011-01-30           1   29.0\n",
      "88  2011-01-31           1   59.0\n",
      "100 2011-02-01           1   66.0\n",
      "112 2011-02-02           1   67.0\n"
     ]
    }
   ],
   "source": [
    "#### Create list of unique dates for the tables\n",
    "unique_dates = pd.date_range(start = \"2011/01/24\", end = \"2015/12/13\")\n",
    "\n",
    "#### Create list of unique companies\n",
    "unique_companies = dat0[\"company_id\"].unique()\n",
    "\n",
    "#### Cross join to get all combinations of dates and companies\n",
    "dat_headcount = pd.MultiIndex.from_product([unique_dates, unique_companies], names = [\"date\", \"company_id\"])\n",
    "dat_headcount = pd.DataFrame(index = dat_headcount).reset_index()\n",
    "\n",
    "#### For each company/day, get how many people quit/got hired on that day\n",
    "dat_join = dat0.groupby([\"join_date\", \"company_id\"]).size().reset_index(name = \"join_count\")\n",
    "dat_join.columns.values[0] = \"date\"\n",
    "dat_quit = dat0.groupby([\"quit_date\", \"company_id\"]).size().reset_index(name = \"quit_count\")\n",
    "dat_quit.columns.values[0] = \"date\"\n",
    "\n",
    "#### Left join the headcount set to dat_join and then dat_quit\n",
    "dat_headcount = pd.merge(dat_headcount, dat_join, on = [\"date\", \"company_id\"], how = \"left\")\n",
    "dat_headcount = pd.merge(dat_headcount, dat_quit, on = [\"date\", \"company_id\"], how = \"left\")\n",
    "\n",
    "#### Replace the NAs with 0\n",
    "dat_headcount.fillna(0, inplace = True)\n",
    "\n",
    "#### Get the cummulative sums of join and quit\n",
    "dat_headcount[\"cumsum_join\"] = dat_headcount.groupby([\"company_id\"])[\"join_count\"].apply(lambda x: x.cumsum())\n",
    "dat_headcount[\"cumsum_quit\"] = dat_headcount.groupby([\"company_id\"])[\"quit_count\"].apply(lambda x: x.cumsum())\n",
    "\n",
    "#### For each company and each date, take join_count - quit_count\n",
    "dat_headcount[\"count\"] = dat_headcount[\"cumsum_join\"] - dat_headcount[\"cumsum_quit\"]\n",
    "dat_headcount_table = dat_headcount[[\"date\", \"company_id\", \"count\"]]\n",
    "\n",
    "#### Check\n",
    "print(dat_headcount_table.query(\"company_id == 1\").head(10))"
   ]
  },
  {
   "cell_type": "markdown",
   "metadata": {},
   "source": [
    "#### (2) What are the main factors that drive employee churn? Do they make sense? Explain your findings."
   ]
  },
  {
   "cell_type": "code",
   "execution_count": 5,
   "metadata": {},
   "outputs": [
    {
     "data": {
      "image/png": "[encoded data removed]",
      "text/plain": [
       "<Figure size 864x576 with 1 Axes>"
      ]
     },
     "metadata": {},
     "output_type": "display_data"
    }
   ],
   "source": [
    "#### Length of employment/days\n",
    "dat0[\"employment_length\"] = (dat0[\"quit_date\"] - dat0[\"join_date\"]).astype(\"timedelta64[D]\")\n",
    "plt.figure(figsize = [12, 8])\n",
    "plt.hist(dat0[\"employment_length\"].dropna(), bins = 100, color = \"steelblue\")\n",
    "plt.title(\"Histogram of Length of Employments (Days)\", fontsize = 16)\n",
    "plt.xlabel(\"Employment Length (Days)\", fontsize = 12)\n",
    "plt.ylabel(\"Frequency\", fontsize = 12)\n",
    "plt.show()"
   ]
  },
  {
   "cell_type": "markdown",
   "metadata": {},
   "source": [
    "#### Build a classifier"
   ]
  },
  {
   "cell_type": "code",
   "execution_count": 6,
   "metadata": {},
   "outputs": [],
   "source": [
    "dat0 = dat0[dat0[\"join_date\"] < datetime.strptime(\"2015/12/13\", \"%Y/%m/%d\") - timedelta(days = (365 + 31))]\n",
    "dat0[\"early_quitter\"] = np.where((dat0[\"employment_length\"] > 396) | (np.isnan(dat0[\"employment_length\"])), 0, 1)"
   ]
  },
  {
   "cell_type": "code",
   "execution_count": 7,
   "metadata": {},
   "outputs": [
    {
     "name": "stdout",
     "output_type": "stream",
     "text": [
      "Checking whether there is an H2O instance running at http://localhost:54321 ..... not found.\n",
      "Attempting to start a local H2O server...\n",
      "  Java Version: java version \"13.0.1\" 2019-10-15; Java(TM) SE Runtime Environment (build 13.0.1+9); Java HotSpot(TM) 64-Bit Server VM (build 13.0.1+9, mixed mode, sharing)\n",
      "  Starting server from /Library/Frameworks/Python.framework/Versions/3.8/lib/python3.8/site-packages/h2o/backend/bin/h2o.jar\n",
      "  Ice root: /var/folders/d3/zs9fr3kx3x18h3l0hq4mc8x00000gn/T/tmpwp_mq9vk\n",
      "  JVM stdout: /var/folders/d3/zs9fr3kx3x18h3l0hq4mc8x00000gn/T/tmpwp_mq9vk/h2o_jinliu_started_from_python.out\n",
      "  JVM stderr: /var/folders/d3/zs9fr3kx3x18h3l0hq4mc8x00000gn/T/tmpwp_mq9vk/h2o_jinliu_started_from_python.err\n",
      "  Server is running at http://127.0.0.1:54321\n",
      "Connecting to H2O server at http://127.0.0.1:54321 ... successful.\n"
     ]
    },
    {
     "data": {
      "text/html": [
       "<div style=\"overflow:auto\"><table style=\"width:50%\"><tr><td>H2O cluster uptime:</td>\n",
       "<td>01 secs</td></tr>\n",
       "<tr><td>H2O cluster timezone:</td>\n",
       "<td>America/New_York</td></tr>\n",
       "<tr><td>H2O data parsing timezone:</td>\n",
       "<td>UTC</td></tr>\n",
       "<tr><td>H2O cluster version:</td>\n",
       "<td>3.28.0.1</td></tr>\n",
       "<tr><td>H2O cluster version age:</td>\n",
       "<td>17 days </td></tr>\n",
       "<tr><td>H2O cluster name:</td>\n",
       "<td>H2O_from_python_jinliu_olk7i8</td></tr>\n",
       "<tr><td>H2O cluster total nodes:</td>\n",
       "<td>1</td></tr>\n",
       "<tr><td>H2O cluster free memory:</td>\n",
       "<td>4 Gb</td></tr>\n",
       "<tr><td>H2O cluster total cores:</td>\n",
       "<td>4</td></tr>\n",
       "<tr><td>H2O cluster allowed cores:</td>\n",
       "<td>4</td></tr>\n",
       "<tr><td>H2O cluster status:</td>\n",
       "<td>accepting new members, healthy</td></tr>\n",
       "<tr><td>H2O connection url:</td>\n",
       "<td>http://127.0.0.1:54321</td></tr>\n",
       "<tr><td>H2O connection proxy:</td>\n",
       "<td>{'http': None, 'https': None}</td></tr>\n",
       "<tr><td>H2O internal security:</td>\n",
       "<td>False</td></tr>\n",
       "<tr><td>H2O API Extensions:</td>\n",
       "<td>Amazon S3, XGBoost, Algos, AutoML, Core V3, TargetEncoder, Core V4</td></tr>\n",
       "<tr><td>Python version:</td>\n",
       "<td>3.8.1 final</td></tr></table></div>"
      ],
      "text/plain": [
       "--------------------------  ------------------------------------------------------------------\n",
       "H2O cluster uptime:         01 secs\n",
       "H2O cluster timezone:       America/New_York\n",
       "H2O data parsing timezone:  UTC\n",
       "H2O cluster version:        3.28.0.1\n",
       "H2O cluster version age:    17 days\n",
       "H2O cluster name:           H2O_from_python_jinliu_olk7i8\n",
       "H2O cluster total nodes:    1\n",
       "H2O cluster free memory:    4 Gb\n",
       "H2O cluster total cores:    4\n",
       "H2O cluster allowed cores:  4\n",
       "H2O cluster status:         accepting new members, healthy\n",
       "H2O connection url:         http://127.0.0.1:54321\n",
       "H2O connection proxy:       {'http': None, 'https': None}\n",
       "H2O internal security:      False\n",
       "H2O API Extensions:         Amazon S3, XGBoost, Algos, AutoML, Core V3, TargetEncoder, Core V4\n",
       "Python version:             3.8.1 final\n",
       "--------------------------  ------------------------------------------------------------------"
      ]
     },
     "metadata": {},
     "output_type": "display_data"
    }
   ],
   "source": [
    "#### Initialize H2O cluster\n",
    "h2o.init()\n",
    "h2o.remove_all()"
   ]
  },
  {
   "cell_type": "code",
   "execution_count": 8,
   "metadata": {},
   "outputs": [
    {
     "name": "stdout",
     "output_type": "stream",
     "text": [
      "Parse progress: |█████████████████████████████████████████████████████████| 100%\n"
     ]
    },
    {
     "data": {
      "text/html": [
       "<table>\n",
       "<thead>\n",
       "<tr><th>       </th><th>employee_id       </th><th>company_id  </th><th>dept            </th><th>seniority        </th><th>salary            </th><th>join_date          </th><th>quit_date          </th><th>employment_length  </th><th>early_quitter  </th></tr>\n",
       "</thead>\n",
       "<tbody>\n",
       "<tr><td>type   </td><td>int               </td><td>enum        </td><td>enum            </td><td>int              </td><td>int               </td><td>time               </td><td>time               </td><td>int                </td><td>enum           </td></tr>\n",
       "<tr><td>mins   </td><td>36.0              </td><td>            </td><td>                </td><td>1.0              </td><td>17000.0           </td><td>1295827200000.0    </td><td>1318464000000.0    </td><td>102.0              </td><td>               </td></tr>\n",
       "<tr><td>mean   </td><td>501213.14359107404</td><td>            </td><td>                </td><td>14.12952776336269</td><td>138422.15879605617</td><td>1355517009901.3992 </td><td>1398411071697.5415 </td><td>617.3488110419303  </td><td>               </td></tr>\n",
       "<tr><td>maxs   </td><td>999969.0          </td><td>            </td><td>                </td><td>99.0             </td><td>408000.0          </td><td>1415664000000.0    </td><td>1449619200000.0    </td><td>1726.0             </td><td>               </td></tr>\n",
       "<tr><td>sigma  </td><td>288838.6418694471 </td><td>            </td><td>                </td><td>8.084787018570132</td><td>76008.09572618981 </td><td>34541479967.144485 </td><td>33141376410.67511  </td><td>329.0985441552288  </td><td>               </td></tr>\n",
       "<tr><td>zeros  </td><td>0                 </td><td>            </td><td>                </td><td>0                </td><td>0                 </td><td>0                  </td><td>0                  </td><td>0                  </td><td>               </td></tr>\n",
       "<tr><td>missing</td><td>0                 </td><td>0           </td><td>0               </td><td>0                </td><td>0                 </td><td>0                  </td><td>5939               </td><td>5939               </td><td>0              </td></tr>\n",
       "<tr><td>0      </td><td>13021.0           </td><td>7           </td><td>customer_service</td><td>28.0             </td><td>89000.0           </td><td>2014-03-24 00:00:00</td><td>2015-10-30 00:00:00</td><td>585.0              </td><td>0              </td></tr>\n",
       "<tr><td>1      </td><td>825355.0          </td><td>7           </td><td>marketing       </td><td>20.0             </td><td>183000.0          </td><td>2013-04-29 00:00:00</td><td>2014-04-04 00:00:00</td><td>340.0              </td><td>1              </td></tr>\n",
       "<tr><td>2      </td><td>927315.0          </td><td>4           </td><td>marketing       </td><td>14.0             </td><td>101000.0          </td><td>2014-10-13 00:00:00</td><td>                   </td><td>nan                </td><td>0              </td></tr>\n",
       "<tr><td>3      </td><td>662910.0          </td><td>7           </td><td>customer_service</td><td>20.0             </td><td>115000.0          </td><td>2012-05-14 00:00:00</td><td>2013-06-07 00:00:00</td><td>389.0              </td><td>1              </td></tr>\n",
       "<tr><td>4      </td><td>256971.0          </td><td>2           </td><td>data_science    </td><td>23.0             </td><td>276000.0          </td><td>2011-10-17 00:00:00</td><td>2014-08-22 00:00:00</td><td>1040.0             </td><td>0              </td></tr>\n",
       "<tr><td>5      </td><td>509529.0          </td><td>4           </td><td>data_science    </td><td>14.0             </td><td>165000.0          </td><td>2012-01-30 00:00:00</td><td>2013-08-30 00:00:00</td><td>578.0              </td><td>0              </td></tr>\n",
       "<tr><td>6      </td><td>88600.0           </td><td>4           </td><td>customer_service</td><td>21.0             </td><td>107000.0          </td><td>2013-10-21 00:00:00</td><td>                   </td><td>nan                </td><td>0              </td></tr>\n",
       "<tr><td>7      </td><td>716309.0          </td><td>2           </td><td>customer_service</td><td>4.0              </td><td>30000.0           </td><td>2014-03-05 00:00:00</td><td>                   </td><td>nan                </td><td>0              </td></tr>\n",
       "<tr><td>8      </td><td>172999.0          </td><td>9           </td><td>engineer        </td><td>7.0              </td><td>160000.0          </td><td>2012-12-10 00:00:00</td><td>2015-10-23 00:00:00</td><td>1047.0             </td><td>0              </td></tr>\n",
       "<tr><td>9      </td><td>504159.0          </td><td>1           </td><td>sales           </td><td>7.0              </td><td>104000.0          </td><td>2012-06-12 00:00:00</td><td>                   </td><td>nan                </td><td>0              </td></tr>\n",
       "</tbody>\n",
       "</table>"
      ]
     },
     "metadata": {},
     "output_type": "display_data"
    }
   ],
   "source": [
    "dat_h2o = H2OFrame(dat0)\n",
    "dat_h2o[\"early_quitter\"] = dat_h2o[\"early_quitter\"].asfactor()\n",
    "dat_h2o[\"dept\"] = dat_h2o[\"dept\"].asfactor()\n",
    "dat_h2o[\"company_id\"] = dat_h2o[\"company_id\"].asfactor()\n",
    "dat_h2o.summary()"
   ]
  },
  {
   "cell_type": "code",
   "execution_count": 9,
   "metadata": {},
   "outputs": [],
   "source": [
    "index = dat_h2o[\"early_quitter\"].stratified_split(test_frac = 0.34, seed = 2019)\n",
    "train_dat = dat_h2o[index == \"train\"]\n",
    "test_dat = dat_h2o[index == \"test\"]\n",
    "X = [\"dept\", \"seniority\", \"salary\", \"company_id\"]\n",
    "Y = \"early_quitter\""
   ]
  },
  {
   "cell_type": "code",
   "execution_count": 10,
   "metadata": {},
   "outputs": [
    {
     "name": "stdout",
     "output_type": "stream",
     "text": [
      "isolationforest Model Build progress: |███████████████████████████████████| 100%\n"
     ]
    }
   ],
   "source": [
    "tree_model = H2OIsolationForestEstimator(sample_rate = 0.1, max_depth = 20, ntrees = 50)\n",
    "tree_model.train(x = X, y = Y, training_frame = train_dat)"
   ]
  },
  {
   "cell_type": "code",
   "execution_count": 11,
   "metadata": {},
   "outputs": [
    {
     "name": "stdout",
     "output_type": "stream",
     "text": [
      "gbm Model Build progress: |███████████████████████████████████████████████| 100%\n"
     ]
    }
   ],
   "source": [
    "GBM = H2OGradientBoostingEstimator(balance_classes = True, ntrees = 1, min_rows = 1, sample_rate = 1,  \n",
    "                                   col_sample_rate = 1, max_depth = 5, seed = 2019)\n",
    "GBM.train(x = X, y = Y, training_frame = train_dat)"
   ]
  },
  {
   "cell_type": "code",
   "execution_count": 12,
   "metadata": {},
   "outputs": [
    {
     "name": "stdout",
     "output_type": "stream",
     "text": [
      "Node ID 0 \n",
      "Left child node ID = 1\n",
      "Right child node ID = 2\n",
      "\n",
      "Splits on column salary\n",
      "Split threshold < 223573.5 to the left node, >= 223573.5 to the right node \n",
      "\n",
      "NA values go to the LEFT\n",
      "Node ID 1 \n",
      "Left child node ID = 3\n",
      "Right child node ID = 4\n",
      "\n",
      "Splits on column salary\n",
      "Split threshold < 62591.5 to the left node, >= 62591.5 to the right node \n",
      "\n",
      "NA values go to the RIGHT\n",
      "Node ID 2 \n",
      "Left child node ID = 5\n",
      "Right child node ID = 6\n",
      "\n",
      "Splits on column salary\n",
      "Split threshold < 274363.5 to the left node, >= 274363.5 to the right node \n",
      "\n",
      "Node ID 3 \n",
      "Left child node ID = 7\n",
      "Right child node ID = 8\n",
      "\n",
      "Splits on column dept\n",
      "  - Categorical levels going to the left node: ['data_science', 'design', 'engineer', 'marketing']\n",
      "  - Categorical levels going to the right node: ['customer_service', 'sales']\n",
      "\n",
      "NA values go to the RIGHT\n",
      "Node ID 6 \n",
      "Left child node ID = 13\n",
      "Right child node ID = 14\n",
      "\n",
      "Splits on column salary\n",
      "Split threshold < 339355.5 to the left node, >= 339355.5 to the right node \n",
      "\n",
      "Node ID 3 \n",
      "Left child node ID = 7\n",
      "Right child node ID = 8\n",
      "\n",
      "Splits on column dept\n",
      "  - Categorical levels going to the left node: ['data_science', 'design', 'engineer', 'marketing']\n",
      "  - Categorical levels going to the right node: ['customer_service', 'sales']\n",
      "\n",
      "NA values go to the RIGHT\n",
      "Node ID 4 \n",
      "Left child node ID = 9\n",
      "Right child node ID = 10\n",
      "\n",
      "Splits on column company_id\n",
      "  - Categorical levels going to the left node: ['1', '2', '4', '5', '7', '9', '12']\n",
      "  - Categorical levels going to the right node: ['3', '6', '8', '10', '11']\n",
      "\n",
      "NA values go to the LEFT\n"
     ]
    }
   ],
   "source": [
    "tree = H2OTree(model = GBM, tree_number = 0, tree_class = None)\n",
    "print(tree.root_node)\n",
    "print(tree.root_node.left_child)\n",
    "print(tree.root_node.right_child)\n",
    "print(tree.root_node.left_child.left_child)\n",
    "print(tree.root_node.right_child.right_child)\n",
    "print(tree.root_node.left_child.left_child)\n",
    "print(tree.root_node.left_child.right_child)"
   ]
  },
  {
   "cell_type": "code",
   "execution_count": null,
   "metadata": {},
   "outputs": [],
   "source": []
  },
  {
   "cell_type": "code",
   "execution_count": null,
   "metadata": {},
   "outputs": [],
   "source": []
  }
 ],
 "metadata": {
  "kernelspec": {
   "display_name": "Python 3",
   "language": "python",
   "name": "python3"
  },
  "language_info": {
   "codemirror_mode": {
    "name": "ipython",
    "version": 3
   },
   "file_extension": ".py",
   "mimetype": "text/x-python",
   "name": "python",
   "nbconvert_exporter": "python",
   "pygments_lexer": "ipython3",
   "version": "3.8.1"
  }
 },
 "nbformat": 4,
 "nbformat_minor": 2
}
