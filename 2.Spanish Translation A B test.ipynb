{
 "cells": [
  {
   "cell_type": "markdown",
   "metadata": {},
   "source": [
    "### Company XYZ is a worldwide e-commerce site with localized versions of the site. A data scientist at XYZ noticed that Spain-based users have a much higher conversion rate than any other Spanish-speaking country. She therefore went and talked to the international team in charge of Spain and LatAm to see if they had any ideas about why that was happening. Spain and LatAm country manager suggested that one reason could be the translation. All Spanish-speaking countries had the same translation of the site which was written by a Spaniard. They agreed to try a test where each country would have its one translation written by a local. That is, Argentinian users would see a translation written by an Argentinian, and Mexican users by a Mexican and so on. Obviously, nothing would change for users from Spain. After they run the test, however, they are really surprised cause the test is negative. I.e., it appears that the non-localized translation was doing better!"
   ]
  },
  {
   "cell_type": "markdown",
   "metadata": {},
   "source": [
    "### You are asked to:\n",
    "#### (1) Confirm that the test is actually negative. That is, it appears that the old version of the site with just one translation across Spain and LatAm performs better\n",
    "\n",
    "#### (2) Explain why that might be happening. Are the localized translations really worse?\n",
    "\n",
    "#### (3) If you identified what was wrong, design an algorithm that would return FALSE if the same problem is happening in the future and TRUE if everything is good and the results can be trusted."
   ]
  },
  {
   "cell_type": "markdown",
   "metadata": {},
   "source": [
    "### Load the package would be used"
   ]
  },
  {
   "cell_type": "code",
   "execution_count": 1,
   "metadata": {},
   "outputs": [],
   "source": [
    "import pandas as pd\n",
    "pd.set_option(\"display.max_columns\", 10)\n",
    "pd.set_option(\"display.width\", 350)\n",
    "\n",
    "from scipy import stats\n",
    "\n",
    "import matplotlib.pyplot as plt\n",
    "from matplotlib import rcParams\n",
    "rcParams.update({\"figure.autolayout\": True})\n",
    "import seaborn as sns\n",
    "sns.set(style = \"white\")\n",
    "sns.set(style = \"whitegrid\", color_codes = True)\n",
    "\n",
    "import h2o\n",
    "from h2o.frame import H2OFrame\n",
    "from h2o.estimators.gbm import H2OGradientBoostingEstimator\n",
    "from h2o.tree import H2OTree"
   ]
  },
  {
   "cell_type": "markdown",
   "metadata": {},
   "source": [
    "### Read in the data set"
   ]
  },
  {
   "cell_type": "code",
   "execution_count": 2,
   "metadata": {},
   "outputs": [
    {
     "name": "stdout",
     "output_type": "stream",
     "text": [
      "(452867, 4)\n",
      "(453321, 9)\n"
     ]
    }
   ],
   "source": [
    "user = pd.read_csv(\"../Datasets/Translation_Test/user_table.csv\")\n",
    "test = pd.read_csv(\"../Datasets/Translation_Test/test_table.csv\")\n",
    "\n",
    "print(user.shape)\n",
    "print(test.shape)"
   ]
  },
  {
   "cell_type": "markdown",
   "metadata": {},
   "source": [
    "### Look into the data set"
   ]
  },
  {
   "cell_type": "code",
   "execution_count": 3,
   "metadata": {},
   "outputs": [
    {
     "name": "stdout",
     "output_type": "stream",
     "text": [
      "True\n",
      "True\n",
      "454\n"
     ]
    }
   ],
   "source": [
    "print(user[\"user_id\"].nunique() == len(user[\"user_id\"]))\n",
    "print(test[\"user_id\"].nunique() == len(test[\"user_id\"]))\n",
    "print(len(test[\"user_id\"]) - len(user[\"user_id\"]))"
   ]
  },
  {
   "cell_type": "markdown",
   "metadata": {},
   "source": [
    "It seems that some user_ids are missing. We need to use inner join (or left join user on test). "
   ]
  },
  {
   "cell_type": "code",
   "execution_count": 4,
   "metadata": {},
   "outputs": [
    {
     "name": "stdout",
     "output_type": "stream",
     "text": [
      "<class 'pandas.core.frame.DataFrame'>\n",
      "Int64Index: 452867 entries, 0 to 452866\n",
      "Data columns (total 12 columns):\n",
      "user_id             452867 non-null int64\n",
      "date                452867 non-null object\n",
      "source              452867 non-null object\n",
      "device              452867 non-null object\n",
      "browser_language    452867 non-null object\n",
      "ads_channel         181693 non-null object\n",
      "browser             452867 non-null object\n",
      "conversion          452867 non-null int64\n",
      "test                452867 non-null int64\n",
      "sex                 452867 non-null object\n",
      "age                 452867 non-null int64\n",
      "country             452867 non-null object\n",
      "dtypes: int64(4), object(8)\n",
      "memory usage: 44.9+ MB\n",
      "None\n",
      "<class 'pandas.core.frame.DataFrame'>\n",
      "Int64Index: 452867 entries, 0 to 452866\n",
      "Data columns (total 12 columns):\n",
      "user_id             452867 non-null int64\n",
      "date                452867 non-null datetime64[ns]\n",
      "source              452867 non-null object\n",
      "device              452867 non-null object\n",
      "browser_language    452867 non-null object\n",
      "ads_channel         181693 non-null object\n",
      "browser             452867 non-null object\n",
      "conversion          452867 non-null int64\n",
      "test                452867 non-null int64\n",
      "sex                 452867 non-null object\n",
      "age                 452867 non-null int64\n",
      "country             452867 non-null object\n",
      "dtypes: datetime64[ns](1), int64(4), object(7)\n",
      "memory usage: 44.9+ MB\n",
      "None\n",
      "              user_id     conversion           test            age\n",
      "count   452867.000000  452867.000000  452867.000000  452867.000000\n",
      "mean    499944.805166       0.049560       0.476462      27.130740\n",
      "std     288676.264784       0.217034       0.499446       6.776678\n",
      "min          1.000000       0.000000       0.000000      18.000000\n",
      "25%     249819.000000       0.000000       0.000000      22.000000\n",
      "50%     500019.000000       0.000000       0.000000      26.000000\n",
      "75%     749543.000000       0.000000       1.000000      31.000000\n",
      "max    1000000.000000       1.000000       1.000000      70.000000\n"
     ]
    },
    {
     "data": {
      "text/html": [
       "<div>\n",
       "<style scoped>\n",
       "    .dataframe tbody tr th:only-of-type {\n",
       "        vertical-align: middle;\n",
       "    }\n",
       "\n",
       "    .dataframe tbody tr th {\n",
       "        vertical-align: top;\n",
       "    }\n",
       "\n",
       "    .dataframe thead th {\n",
       "        text-align: right;\n",
       "    }\n",
       "</style>\n",
       "<table border=\"1\" class=\"dataframe\">\n",
       "  <thead>\n",
       "    <tr style=\"text-align: right;\">\n",
       "      <th></th>\n",
       "      <th>user_id</th>\n",
       "      <th>date</th>\n",
       "      <th>source</th>\n",
       "      <th>device</th>\n",
       "      <th>browser_language</th>\n",
       "      <th>...</th>\n",
       "      <th>conversion</th>\n",
       "      <th>test</th>\n",
       "      <th>sex</th>\n",
       "      <th>age</th>\n",
       "      <th>country</th>\n",
       "    </tr>\n",
       "  </thead>\n",
       "  <tbody>\n",
       "    <tr>\n",
       "      <th>0</th>\n",
       "      <td>315281</td>\n",
       "      <td>2015-12-03</td>\n",
       "      <td>Direct</td>\n",
       "      <td>Web</td>\n",
       "      <td>ES</td>\n",
       "      <td>...</td>\n",
       "      <td>1</td>\n",
       "      <td>0</td>\n",
       "      <td>M</td>\n",
       "      <td>32</td>\n",
       "      <td>Spain</td>\n",
       "    </tr>\n",
       "    <tr>\n",
       "      <th>1</th>\n",
       "      <td>497851</td>\n",
       "      <td>2015-12-04</td>\n",
       "      <td>Ads</td>\n",
       "      <td>Web</td>\n",
       "      <td>ES</td>\n",
       "      <td>...</td>\n",
       "      <td>0</td>\n",
       "      <td>1</td>\n",
       "      <td>M</td>\n",
       "      <td>21</td>\n",
       "      <td>Mexico</td>\n",
       "    </tr>\n",
       "    <tr>\n",
       "      <th>2</th>\n",
       "      <td>848402</td>\n",
       "      <td>2015-12-04</td>\n",
       "      <td>Ads</td>\n",
       "      <td>Web</td>\n",
       "      <td>ES</td>\n",
       "      <td>...</td>\n",
       "      <td>0</td>\n",
       "      <td>0</td>\n",
       "      <td>M</td>\n",
       "      <td>34</td>\n",
       "      <td>Spain</td>\n",
       "    </tr>\n",
       "    <tr>\n",
       "      <th>3</th>\n",
       "      <td>290051</td>\n",
       "      <td>2015-12-03</td>\n",
       "      <td>Ads</td>\n",
       "      <td>Mobile</td>\n",
       "      <td>Other</td>\n",
       "      <td>...</td>\n",
       "      <td>0</td>\n",
       "      <td>1</td>\n",
       "      <td>F</td>\n",
       "      <td>22</td>\n",
       "      <td>Mexico</td>\n",
       "    </tr>\n",
       "    <tr>\n",
       "      <th>4</th>\n",
       "      <td>548435</td>\n",
       "      <td>2015-11-30</td>\n",
       "      <td>Ads</td>\n",
       "      <td>Web</td>\n",
       "      <td>ES</td>\n",
       "      <td>...</td>\n",
       "      <td>0</td>\n",
       "      <td>1</td>\n",
       "      <td>M</td>\n",
       "      <td>19</td>\n",
       "      <td>Mexico</td>\n",
       "    </tr>\n",
       "  </tbody>\n",
       "</table>\n",
       "<p>5 rows × 12 columns</p>\n",
       "</div>"
      ],
      "text/plain": [
       "   user_id       date  source  device browser_language  ... conversion test  sex  age country\n",
       "0   315281 2015-12-03  Direct     Web               ES  ...          1    0    M   32   Spain\n",
       "1   497851 2015-12-04     Ads     Web               ES  ...          0    1    M   21  Mexico\n",
       "2   848402 2015-12-04     Ads     Web               ES  ...          0    0    M   34   Spain\n",
       "3   290051 2015-12-03     Ads  Mobile            Other  ...          0    1    F   22  Mexico\n",
       "4   548435 2015-11-30     Ads     Web               ES  ...          0    1    M   19  Mexico\n",
       "\n",
       "[5 rows x 12 columns]"
      ]
     },
     "execution_count": 4,
     "metadata": {},
     "output_type": "execute_result"
    }
   ],
   "source": [
    "dat0 = test.merge(user, on = [\"user_id\"])\n",
    "print(dat0.info())\n",
    "dat0[\"date\"] = pd.to_datetime(dat0[\"date\"])\n",
    "print(dat0.info())\n",
    "print(dat0.describe())\n",
    "dat0.head()"
   ]
  },
  {
   "cell_type": "markdown",
   "metadata": {},
   "source": [
    "### Check the conversion rate of each country to see if Spain converts much better"
   ]
  },
  {
   "cell_type": "code",
   "execution_count": 5,
   "metadata": {},
   "outputs": [
    {
     "name": "stdout",
     "output_type": "stream",
     "text": [
      "country\n",
      "Spain          0.079719\n",
      "El Salvador    0.053554\n",
      "Nicaragua      0.052647\n",
      "Costa Rica     0.052256\n",
      "Colombia       0.052089\n",
      "Honduras       0.050906\n",
      "Guatemala      0.050643\n",
      "Venezuela      0.050344\n",
      "Peru           0.049914\n",
      "Mexico         0.049495\n",
      "Bolivia        0.049369\n",
      "Ecuador        0.049154\n",
      "Paraguay       0.048493\n",
      "Chile          0.048107\n",
      "Panama         0.046796\n",
      "Argentina      0.015071\n",
      "Uruguay        0.012048\n",
      "Name: conversion, dtype: float64\n"
     ]
    }
   ],
   "source": [
    "country_conversion = dat0.query(\"test == 0\").groupby(\"country\")[\"conversion\"].mean()\n",
    "print(country_conversion.sort_values(ascending = False))"
   ]
  },
  {
   "cell_type": "markdown",
   "metadata": {},
   "source": [
    "It is true that users in Spain converted the highest."
   ]
  },
  {
   "cell_type": "markdown",
   "metadata": {},
   "source": [
    "### Compare the conversion rates of the test group and that of the control group."
   ]
  },
  {
   "cell_type": "code",
   "execution_count": 6,
   "metadata": {},
   "outputs": [
    {
     "name": "stdout",
     "output_type": "stream",
     "text": [
      "test\n",
      "0    0.048292\n",
      "1    0.043411\n",
      "Name: conversion, dtype: float64\n",
      "-7.353895203080277\n",
      "1.9289178577799033e-13\n"
     ]
    }
   ],
   "source": [
    "dat = dat0.query('country != \"Spain\"')\n",
    "\n",
    "test_overall = stats.ttest_ind(dat[dat[\"test\"] == 1][\"conversion\"],\n",
    "                               dat[dat[\"test\"] == 0][\"conversion\"],\n",
    "                               equal_var = False)\n",
    "\n",
    "print(dat.groupby(\"test\")[\"conversion\"].mean())\n",
    "print(test_overall.statistic)\n",
    "print(test_overall.pvalue)"
   ]
  },
  {
   "cell_type": "markdown",
   "metadata": {},
   "source": [
    "Controls users are converting at $4.8\\%$ while test users just at $4.3\\%$. Possible reasons include:\n",
    "\n",
    "- We do not have enough sample size.\n",
    "\n",
    "- Randomization does not work very well."
   ]
  },
  {
   "cell_type": "markdown",
   "metadata": {},
   "source": [
    "### Visualization"
   ]
  },
  {
   "cell_type": "markdown",
   "metadata": {},
   "source": [
    "#### By country"
   ]
  },
  {
   "cell_type": "code",
   "execution_count": 7,
   "metadata": {},
   "outputs": [
    {
     "data": {
      "text/plain": [
       "(array([ 0,  1,  2,  3,  4,  5,  6,  7,  8,  9, 10, 11, 12, 13, 14, 15]),\n",
       " <a list of 16 Text xticklabel objects>)"
      ]
     },
     "execution_count": 7,
     "metadata": {},
     "output_type": "execute_result"
    },
    {
     "name": "stderr",
     "output_type": "stream",
     "text": [
      "/anaconda3/lib/python3.7/site-packages/matplotlib/figure.py:2369: UserWarning: This figure includes Axes that are not compatible with tight_layout, so results might be incorrect.\n",
      "  warnings.warn(\"This figure includes Axes that are not compatible \"\n"
     ]
    },
    {
     "data": {
      "image/png": "[encoded data removed]",
      "text/plain": [
       "<Figure size 432x288 with 1 Axes>"
      ]
     },
     "metadata": {
      "needs_background": "light"
     },
     "output_type": "display_data"
    }
   ],
   "source": [
    "grp_country = dat[[\"test\", \"country\", \"conversion\"]].groupby([\"test\", \"country\"]).mean().reset_index()\n",
    "sns.barplot(x = \"country\", y = \"conversion\", hue = \"test\", data = grp_country, palette = \"PuBuGn\")\n",
    "plt.xticks(rotation = 45)"
   ]
  },
  {
   "cell_type": "markdown",
   "metadata": {},
   "source": [
    "#### By marketing channels"
   ]
  },
  {
   "cell_type": "code",
   "execution_count": 8,
   "metadata": {},
   "outputs": [
    {
     "data": {
      "text/plain": [
       "(array([0, 1, 2]), <a list of 3 Text xticklabel objects>)"
      ]
     },
     "execution_count": 8,
     "metadata": {},
     "output_type": "execute_result"
    },
    {
     "name": "stderr",
     "output_type": "stream",
     "text": [
      "/anaconda3/lib/python3.7/site-packages/matplotlib/figure.py:2369: UserWarning: This figure includes Axes that are not compatible with tight_layout, so results might be incorrect.\n",
      "  warnings.warn(\"This figure includes Axes that are not compatible \"\n"
     ]
    },
    {
     "data": {
      "image/png": "[encoded data removed]",
      "text/plain": [
       "<Figure size 432x288 with 1 Axes>"
      ]
     },
     "metadata": {
      "needs_background": "light"
     },
     "output_type": "display_data"
    }
   ],
   "source": [
    "grp_source = dat[[\"test\", \"source\", \"conversion\"]].groupby([\"test\", \"source\"]).mean().reset_index()\n",
    "sns.barplot(x = \"source\", y = \"conversion\", hue = \"test\", data = grp_source, palette = \"PuBuGn\")\n",
    "plt.xticks(rotation = 45)"
   ]
  },
  {
   "cell_type": "markdown",
   "metadata": {},
   "source": [
    "#### By device type"
   ]
  },
  {
   "cell_type": "code",
   "execution_count": 9,
   "metadata": {},
   "outputs": [
    {
     "data": {
      "text/plain": [
       "(array([0, 1]), <a list of 2 Text xticklabel objects>)"
      ]
     },
     "execution_count": 9,
     "metadata": {},
     "output_type": "execute_result"
    },
    {
     "name": "stderr",
     "output_type": "stream",
     "text": [
      "/anaconda3/lib/python3.7/site-packages/matplotlib/figure.py:2369: UserWarning: This figure includes Axes that are not compatible with tight_layout, so results might be incorrect.\n",
      "  warnings.warn(\"This figure includes Axes that are not compatible \"\n"
     ]
    },
    {
     "data": {
      "image/png": "[encoded data removed]",
      "text/plain": [
       "<Figure size 432x288 with 1 Axes>"
      ]
     },
     "metadata": {
      "needs_background": "light"
     },
     "output_type": "display_data"
    }
   ],
   "source": [
    "grp_device = dat[[\"test\", \"device\", \"conversion\"]].groupby([\"test\", \"device\"]).mean().reset_index()\n",
    "sns.barplot(x = \"device\", y = \"conversion\", hue = \"test\", data = grp_device, palette = \"PuBuGn\")\n",
    "plt.xticks(rotation = 45)"
   ]
  },
  {
   "cell_type": "markdown",
   "metadata": {},
   "source": [
    "#### By browser language"
   ]
  },
  {
   "cell_type": "code",
   "execution_count": 10,
   "metadata": {},
   "outputs": [
    {
     "data": {
      "text/plain": [
       "(array([0, 1, 2]), <a list of 3 Text xticklabel objects>)"
      ]
     },
     "execution_count": 10,
     "metadata": {},
     "output_type": "execute_result"
    },
    {
     "name": "stderr",
     "output_type": "stream",
     "text": [
      "/anaconda3/lib/python3.7/site-packages/matplotlib/figure.py:2369: UserWarning: This figure includes Axes that are not compatible with tight_layout, so results might be incorrect.\n",
      "  warnings.warn(\"This figure includes Axes that are not compatible \"\n"
     ]
    },
    {
     "data": {
      "image/png": "[encoded data removed]",
      "text/plain": [
       "<Figure size 432x288 with 1 Axes>"
      ]
     },
     "metadata": {
      "needs_background": "light"
     },
     "output_type": "display_data"
    }
   ],
   "source": [
    "grp_language = dat[[\"test\", \"browser_language\", \"conversion\"]].groupby([\"test\", \"browser_language\"]).mean().reset_index()\n",
    "sns.barplot(x = \"browser_language\", y = \"conversion\", hue = \"test\", data = grp_language, palette = \"PuBuGn\")\n",
    "plt.xticks(rotation = 45)"
   ]
  },
  {
   "cell_type": "markdown",
   "metadata": {},
   "source": [
    "#### By sex"
   ]
  },
  {
   "cell_type": "code",
   "execution_count": 11,
   "metadata": {},
   "outputs": [
    {
     "data": {
      "text/plain": [
       "(array([0, 1]), <a list of 2 Text xticklabel objects>)"
      ]
     },
     "execution_count": 11,
     "metadata": {},
     "output_type": "execute_result"
    },
    {
     "name": "stderr",
     "output_type": "stream",
     "text": [
      "/anaconda3/lib/python3.7/site-packages/matplotlib/figure.py:2369: UserWarning: This figure includes Axes that are not compatible with tight_layout, so results might be incorrect.\n",
      "  warnings.warn(\"This figure includes Axes that are not compatible \"\n"
     ]
    },
    {
     "data": {
      "image/png": "[encoded data removed]",
      "text/plain": [
       "<Figure size 432x288 with 1 Axes>"
      ]
     },
     "metadata": {
      "needs_background": "light"
     },
     "output_type": "display_data"
    }
   ],
   "source": [
    "grp_sex = dat[[\"test\", \"sex\", \"conversion\"]].groupby([\"test\", \"sex\"]).mean().reset_index()\n",
    "sns.barplot(x = \"sex\", y = \"conversion\", hue = \"test\", data = grp_sex, palette = \"PuBuGn\")\n",
    "plt.xticks(rotation = 45)"
   ]
  },
  {
   "cell_type": "markdown",
   "metadata": {},
   "source": [
    "#### By date"
   ]
  },
  {
   "cell_type": "code",
   "execution_count": 12,
   "metadata": {},
   "outputs": [
    {
     "name": "stderr",
     "output_type": "stream",
     "text": [
      "/anaconda3/lib/python3.7/site-packages/pandas/plotting/_converter.py:129: FutureWarning: Using an implicitly registered datetime converter for a matplotlib plotting method. The converter was registered by pandas on import. Future versions of pandas will require you to explicitly register matplotlib converters.\n",
      "\n",
      "To register the converters:\n",
      "\t>>> from pandas.plotting import register_matplotlib_converters\n",
      "\t>>> register_matplotlib_converters()\n",
      "  warnings.warn(msg, FutureWarning)\n"
     ]
    },
    {
     "data": {
      "text/plain": [
       "(array([735932. , 735932.5, 735933. , 735933.5, 735934. , 735934.5,\n",
       "        735935. , 735935.5, 735936. ]), <a list of 9 Text xticklabel objects>)"
      ]
     },
     "execution_count": 12,
     "metadata": {},
     "output_type": "execute_result"
    },
    {
     "name": "stderr",
     "output_type": "stream",
     "text": [
      "/anaconda3/lib/python3.7/site-packages/matplotlib/figure.py:2369: UserWarning: This figure includes Axes that are not compatible with tight_layout, so results might be incorrect.\n",
      "  warnings.warn(\"This figure includes Axes that are not compatible \"\n"
     ]
    },
    {
     "data": {
      "image/png": "[encoded data removed]",
      "text/plain": [
       "<Figure size 432x288 with 1 Axes>"
      ]
     },
     "metadata": {
      "needs_background": "light"
     },
     "output_type": "display_data"
    }
   ],
   "source": [
    "grp_date = dat[[\"test\", \"date\", \"conversion\"]].groupby([\"test\", \"date\"]).mean().reset_index()\n",
    "sns.lineplot(x = \"date\", y = \"conversion\", hue = \"test\", data = grp_date, palette = \"PuBuGn\")\n",
    "plt.xticks(rotation = 45)"
   ]
  },
  {
   "cell_type": "markdown",
   "metadata": {},
   "source": [
    "#### By age"
   ]
  },
  {
   "cell_type": "code",
   "execution_count": 13,
   "metadata": {},
   "outputs": [
    {
     "data": {
      "text/plain": [
       "(array([10., 20., 30., 40., 50., 60., 70., 80.]),\n",
       " <a list of 8 Text xticklabel objects>)"
      ]
     },
     "execution_count": 13,
     "metadata": {},
     "output_type": "execute_result"
    },
    {
     "name": "stderr",
     "output_type": "stream",
     "text": [
      "/anaconda3/lib/python3.7/site-packages/matplotlib/figure.py:2369: UserWarning: This figure includes Axes that are not compatible with tight_layout, so results might be incorrect.\n",
      "  warnings.warn(\"This figure includes Axes that are not compatible \"\n"
     ]
    },
    {
     "data": {
      "image/png": "[encoded data removed]",
      "text/plain": [
       "<Figure size 432x288 with 1 Axes>"
      ]
     },
     "metadata": {
      "needs_background": "light"
     },
     "output_type": "display_data"
    }
   ],
   "source": [
    "grp_age = dat[[\"test\", \"age\", \"conversion\"]].groupby([\"test\", \"age\"]).mean().reset_index()\n",
    "sns.lineplot(x = \"age\", y = \"conversion\", hue = \"test\", data = grp_age, palette = \"PuBuGn\")\n",
    "plt.xticks(rotation = 45)"
   ]
  },
  {
   "cell_type": "markdown",
   "metadata": {},
   "source": [
    "Based on the above plots, the randomization may not work well for the country variable. Let's do stratified t-test to examine further."
   ]
  },
  {
   "cell_type": "markdown",
   "metadata": {},
   "source": [
    "### Stratified t-test"
   ]
  },
  {
   "cell_type": "markdown",
   "metadata": {},
   "source": [
    "#### By country"
   ]
  },
  {
   "cell_type": "code",
   "execution_count": 14,
   "metadata": {},
   "outputs": [
    {
     "name": "stderr",
     "output_type": "stream",
     "text": [
      "/anaconda3/lib/python3.7/site-packages/ipykernel_launcher.py:4: FutureWarning: using a dict on a Series for aggregation\n",
      "is deprecated and will be removed in a future version\n",
      "  after removing the cwd from sys.path.\n"
     ]
    },
    {
     "name": "stdout",
     "output_type": "stream",
     "text": [
      "              p_value  conversion_test  conversion_control\n",
      "country                                                   \n",
      "Mexico       0.165544         0.051186            0.049495\n",
      "El Salvador  0.248127         0.047947            0.053554\n",
      "Chile        0.302848         0.051295            0.048107\n",
      "Argentina    0.335147         0.013725            0.015071\n",
      "Colombia     0.423719         0.050571            0.052089\n",
      "Honduras     0.471463         0.047540            0.050906\n",
      "Guatemala    0.572107         0.048647            0.050643\n",
      "Venezuela    0.573702         0.048978            0.050344\n",
      "Costa Rica   0.687876         0.054738            0.052256\n",
      "Panama       0.705327         0.049370            0.046796\n",
      "Bolivia      0.718885         0.047901            0.049369\n",
      "Peru         0.771953         0.050604            0.049914\n",
      "Nicaragua    0.780400         0.054177            0.052647\n",
      "Uruguay      0.879764         0.012907            0.012048\n",
      "Paraguay     0.883697         0.049229            0.048493\n",
      "Ecuador      0.961512         0.048988            0.049154\n"
     ]
    }
   ],
   "source": [
    "test_country = dat.groupby(\"country\")[\"conversion\"].agg({\n",
    "    \"p_value\": lambda x: stats.ttest_ind(x[dat[\"test\"] == 1], x[dat[\"test\"] == 0], equal_var=False).pvalue,\n",
    "    \"conversion_test\": lambda x: x[dat[\"test\"] == 1].mean(),\n",
    "    \"conversion_control\": lambda x: x[dat[\"test\"] == 0].mean()\n",
    "}).reindex([\"p_value\", \"conversion_test\", \"conversion_control\"], axis = 1)\n",
    "print(test_country.sort_values(by = [\"p_value\"]))"
   ]
  },
  {
   "cell_type": "markdown",
   "metadata": {},
   "source": [
    "#### By marketing channels"
   ]
  },
  {
   "cell_type": "code",
   "execution_count": 15,
   "metadata": {},
   "outputs": [
    {
     "name": "stderr",
     "output_type": "stream",
     "text": [
      "/anaconda3/lib/python3.7/site-packages/ipykernel_launcher.py:4: FutureWarning: using a dict on a Series for aggregation\n",
      "is deprecated and will be removed in a future version\n",
      "  after removing the cwd from sys.path.\n"
     ]
    },
    {
     "name": "stdout",
     "output_type": "stream",
     "text": [
      "             p_value  conversion_test  conversion_control\n",
      "source                                                   \n",
      "Ads     9.208417e-07         0.043529            0.048687\n",
      "Direct  6.109499e-06         0.042512            0.049224\n",
      "SEO     4.434961e-04         0.043742            0.047422\n"
     ]
    }
   ],
   "source": [
    "test_source = dat.groupby(\"source\")[\"conversion\"].agg({\n",
    "    \"p_value\": lambda x: stats.ttest_ind(x[dat[\"test\"] == 1], x[dat[\"test\"] == 0], equal_var=False).pvalue,\n",
    "    \"conversion_test\": lambda x: x[dat[\"test\"] == 1].mean(),\n",
    "    \"conversion_control\": lambda x: x[dat[\"test\"] == 0].mean()\n",
    "}).reindex([\"p_value\", \"conversion_test\", \"conversion_control\"], axis = 1)\n",
    "print(test_source.sort_values(by = [\"p_value\"]))"
   ]
  },
  {
   "cell_type": "markdown",
   "metadata": {},
   "source": [
    "#### By device type"
   ]
  },
  {
   "cell_type": "code",
   "execution_count": 16,
   "metadata": {},
   "outputs": [
    {
     "name": "stderr",
     "output_type": "stream",
     "text": [
      "/anaconda3/lib/python3.7/site-packages/ipykernel_launcher.py:4: FutureWarning: using a dict on a Series for aggregation\n",
      "is deprecated and will be removed in a future version\n",
      "  after removing the cwd from sys.path.\n"
     ]
    },
    {
     "name": "stdout",
     "output_type": "stream",
     "text": [
      "             p_value  conversion_test  conversion_control\n",
      "device                                                   \n",
      "Web     2.367801e-08         0.042931            0.047882\n",
      "Mobile  1.633659e-06         0.044008            0.048804\n"
     ]
    }
   ],
   "source": [
    "test_device = dat.groupby(\"device\")[\"conversion\"].agg({\n",
    "    \"p_value\": lambda x: stats.ttest_ind(x[dat[\"test\"] == 1], x[dat[\"test\"] == 0], equal_var=False).pvalue,\n",
    "    \"conversion_test\": lambda x: x[dat[\"test\"] == 1].mean(),\n",
    "    \"conversion_control\": lambda x: x[dat[\"test\"] == 0].mean()\n",
    "}).reindex([\"p_value\", \"conversion_test\", \"conversion_control\"], axis = 1)\n",
    "print(test_device.sort_values(by = [\"p_value\"]))"
   ]
  },
  {
   "cell_type": "markdown",
   "metadata": {},
   "source": [
    "#### By browser language"
   ]
  },
  {
   "cell_type": "code",
   "execution_count": 17,
   "metadata": {},
   "outputs": [
    {
     "name": "stderr",
     "output_type": "stream",
     "text": [
      "/anaconda3/lib/python3.7/site-packages/ipykernel_launcher.py:4: FutureWarning: using a dict on a Series for aggregation\n",
      "is deprecated and will be removed in a future version\n",
      "  after removing the cwd from sys.path.\n"
     ]
    },
    {
     "name": "stdout",
     "output_type": "stream",
     "text": [
      "                       p_value  conversion_test  conversion_control\n",
      "browser_language                                                   \n",
      "ES                2.565235e-12         0.043519            0.048622\n",
      "EN                1.660422e-02         0.042616            0.046825\n",
      "Other             6.899849e-01         0.044152            0.045721\n"
     ]
    }
   ],
   "source": [
    "test_language = dat.groupby(\"browser_language\")[\"conversion\"].agg({\n",
    "    \"p_value\": lambda x: stats.ttest_ind(x[dat[\"test\"] == 1], x[dat[\"test\"] == 0], equal_var=False).pvalue,\n",
    "    \"conversion_test\": lambda x: x[dat[\"test\"] == 1].mean(),\n",
    "    \"conversion_control\": lambda x: x[dat[\"test\"] == 0].mean()\n",
    "}).reindex([\"p_value\", \"conversion_test\", \"conversion_control\"], axis = 1)\n",
    "print(test_language.sort_values(by = [\"p_value\"]))"
   ]
  },
  {
   "cell_type": "markdown",
   "metadata": {},
   "source": [
    "#### By date"
   ]
  },
  {
   "cell_type": "code",
   "execution_count": 18,
   "metadata": {},
   "outputs": [
    {
     "name": "stderr",
     "output_type": "stream",
     "text": [
      "/anaconda3/lib/python3.7/site-packages/ipykernel_launcher.py:4: FutureWarning: using a dict on a Series for aggregation\n",
      "is deprecated and will be removed in a future version\n",
      "  after removing the cwd from sys.path.\n"
     ]
    },
    {
     "name": "stdout",
     "output_type": "stream",
     "text": [
      "             p_value  conversion_test  conversion_control\n",
      "date                                                     \n",
      "2015-11-30  0.000018         0.043878            0.051204\n",
      "2015-12-03  0.000174         0.043898            0.049255\n",
      "2015-12-04  0.002149         0.043459            0.047085\n",
      "2015-12-01  0.002956         0.041371            0.046249\n",
      "2015-12-02  0.011801         0.044216            0.048472\n"
     ]
    }
   ],
   "source": [
    "test_date = dat.groupby(\"date\")[\"conversion\"].agg({\n",
    "    \"p_value\": lambda x: stats.ttest_ind(x[dat[\"test\"] == 1], x[dat[\"test\"] == 0], equal_var=False).pvalue,\n",
    "    \"conversion_test\": lambda x: x[dat[\"test\"] == 1].mean(),\n",
    "    \"conversion_control\": lambda x: x[dat[\"test\"] == 0].mean()\n",
    "}).reindex([\"p_value\", \"conversion_test\", \"conversion_control\"], axis = 1)\n",
    "print(test_date.sort_values(by = [\"p_value\"]))"
   ]
  },
  {
   "cell_type": "markdown",
   "metadata": {},
   "source": [
    "With adjustment of country, the test appears non-significant. "
   ]
  },
  {
   "cell_type": "markdown",
   "metadata": {},
   "source": [
    "### Machine Learning Model"
   ]
  },
  {
   "cell_type": "code",
   "execution_count": 19,
   "metadata": {},
   "outputs": [
    {
     "name": "stdout",
     "output_type": "stream",
     "text": [
      "Checking whether there is an H2O instance running at http://localhost:54321 . connected.\n"
     ]
    },
    {
     "data": {
      "text/html": [
       "<div style=\"overflow:auto\"><table style=\"width:50%\"><tr><td>H2O cluster uptime:</td>\n",
       "<td>1 min 21 secs</td></tr>\n",
       "<tr><td>H2O cluster timezone:</td>\n",
       "<td>America/New_York</td></tr>\n",
       "<tr><td>H2O data parsing timezone:</td>\n",
       "<td>UTC</td></tr>\n",
       "<tr><td>H2O cluster version:</td>\n",
       "<td>3.26.0.1</td></tr>\n",
       "<tr><td>H2O cluster version age:</td>\n",
       "<td>11 hours and 1 minute </td></tr>\n",
       "<tr><td>H2O cluster name:</td>\n",
       "<td>H2O_from_python_veronica_85cm3z</td></tr>\n",
       "<tr><td>H2O cluster total nodes:</td>\n",
       "<td>1</td></tr>\n",
       "<tr><td>H2O cluster free memory:</td>\n",
       "<td>3.928 Gb</td></tr>\n",
       "<tr><td>H2O cluster total cores:</td>\n",
       "<td>4</td></tr>\n",
       "<tr><td>H2O cluster allowed cores:</td>\n",
       "<td>4</td></tr>\n",
       "<tr><td>H2O cluster status:</td>\n",
       "<td>locked, healthy</td></tr>\n",
       "<tr><td>H2O connection url:</td>\n",
       "<td>http://localhost:54321</td></tr>\n",
       "<tr><td>H2O connection proxy:</td>\n",
       "<td>None</td></tr>\n",
       "<tr><td>H2O internal security:</td>\n",
       "<td>False</td></tr>\n",
       "<tr><td>H2O API Extensions:</td>\n",
       "<td>Amazon S3, XGBoost, Algos, AutoML, Core V3, Core V4</td></tr>\n",
       "<tr><td>Python version:</td>\n",
       "<td>3.7.3 final</td></tr></table></div>"
      ],
      "text/plain": [
       "--------------------------  ---------------------------------------------------\n",
       "H2O cluster uptime:         1 min 21 secs\n",
       "H2O cluster timezone:       America/New_York\n",
       "H2O data parsing timezone:  UTC\n",
       "H2O cluster version:        3.26.0.1\n",
       "H2O cluster version age:    11 hours and 1 minute\n",
       "H2O cluster name:           H2O_from_python_veronica_85cm3z\n",
       "H2O cluster total nodes:    1\n",
       "H2O cluster free memory:    3.928 Gb\n",
       "H2O cluster total cores:    4\n",
       "H2O cluster allowed cores:  4\n",
       "H2O cluster status:         locked, healthy\n",
       "H2O connection url:         http://localhost:54321\n",
       "H2O connection proxy:\n",
       "H2O internal security:      False\n",
       "H2O API Extensions:         Amazon S3, XGBoost, Algos, AutoML, Core V3, Core V4\n",
       "Python version:             3.7.3 final\n",
       "--------------------------  ---------------------------------------------------"
      ]
     },
     "metadata": {},
     "output_type": "display_data"
    }
   ],
   "source": [
    "#### Initialize H2O cluster\n",
    "h2o.init()\n",
    "h2o.remove_all()"
   ]
  },
  {
   "cell_type": "markdown",
   "metadata": {},
   "source": [
    "#### Convert data set to h2o format"
   ]
  },
  {
   "cell_type": "code",
   "execution_count": 20,
   "metadata": {},
   "outputs": [
    {
     "name": "stdout",
     "output_type": "stream",
     "text": [
      "Parse progress: |█████████████████████████████████████████████████████████| 100%\n"
     ]
    },
    {
     "data": {
      "text/html": [
       "<table>\n",
       "<thead>\n",
       "<tr><th>       </th><th>user_id          </th><th>date               </th><th>source  </th><th>device  </th><th>browser_language  </th><th>ads_channel  </th><th>browser    </th><th>conversion  </th><th>test               </th><th>sex  </th><th>age              </th><th>country    </th></tr>\n",
       "</thead>\n",
       "<tbody>\n",
       "<tr><td>type   </td><td>int              </td><td>time               </td><td>enum    </td><td>enum    </td><td>enum              </td><td>enum         </td><td>enum       </td><td>enum        </td><td>int                </td><td>enum </td><td>int              </td><td>enum       </td></tr>\n",
       "<tr><td>mins   </td><td>1.0              </td><td>1448841600000.0    </td><td>        </td><td>        </td><td>                  </td><td>             </td><td>           </td><td>            </td><td>0.0                </td><td>     </td><td>18.0             </td><td>           </td></tr>\n",
       "<tr><td>mean   </td><td>499897.254965906 </td><td>1449046585472.9    </td><td>        </td><td>        </td><td>                  </td><td>             </td><td>           </td><td>            </td><td>0.5379757408030716 </td><td>     </td><td>27.12814989341405</td><td>           </td></tr>\n",
       "<tr><td>maxs   </td><td>1000000.0        </td><td>1449187200000.0    </td><td>        </td><td>        </td><td>                  </td><td>             </td><td>           </td><td>            </td><td>1.0                </td><td>     </td><td>70.0             </td><td>           </td></tr>\n",
       "<tr><td>sigma  </td><td>288720.8669441521</td><td>125494322.60752755 </td><td>        </td><td>        </td><td>                  </td><td>             </td><td>           </td><td>            </td><td>0.49855637878342063</td><td>     </td><td>6.774760413689508</td><td>           </td></tr>\n",
       "<tr><td>zeros  </td><td>0                </td><td>0                  </td><td>        </td><td>        </td><td>                  </td><td>             </td><td>           </td><td>            </td><td>185311             </td><td>     </td><td>0                </td><td>           </td></tr>\n",
       "<tr><td>missing</td><td>0                </td><td>0                  </td><td>0       </td><td>0       </td><td>0                 </td><td>0            </td><td>0          </td><td>0           </td><td>0                  </td><td>0    </td><td>0                </td><td>0          </td></tr>\n",
       "<tr><td>0      </td><td>497851.0         </td><td>2015-12-04 00:00:00</td><td>Ads     </td><td>Web     </td><td>ES                </td><td>Google       </td><td>IE         </td><td>0           </td><td>1.0                </td><td>M    </td><td>21.0             </td><td>Mexico     </td></tr>\n",
       "<tr><td>1      </td><td>290051.0         </td><td>2015-12-03 00:00:00</td><td>Ads     </td><td>Mobile  </td><td>Other             </td><td>Facebook     </td><td>Android_App</td><td>0           </td><td>1.0                </td><td>F    </td><td>22.0             </td><td>Mexico     </td></tr>\n",
       "<tr><td>2      </td><td>548435.0         </td><td>2015-11-30 00:00:00</td><td>Ads     </td><td>Web     </td><td>ES                </td><td>Google       </td><td>FireFox    </td><td>0           </td><td>1.0                </td><td>M    </td><td>19.0             </td><td>Mexico     </td></tr>\n",
       "<tr><td>3      </td><td>540675.0         </td><td>2015-12-03 00:00:00</td><td>Direct  </td><td>Mobile  </td><td>ES                </td><td>nan          </td><td>Android_App</td><td>0           </td><td>1.0                </td><td>F    </td><td>22.0             </td><td>Venezuela  </td></tr>\n",
       "<tr><td>4      </td><td>863394.0         </td><td>2015-12-04 00:00:00</td><td>SEO     </td><td>Mobile  </td><td>Other             </td><td>nan          </td><td>Android_App</td><td>0           </td><td>0.0                </td><td>M    </td><td>35.0             </td><td>Mexico     </td></tr>\n",
       "<tr><td>5      </td><td>261625.0         </td><td>2015-12-04 00:00:00</td><td>Direct  </td><td>Mobile  </td><td>ES                </td><td>nan          </td><td>Android_App</td><td>0           </td><td>1.0                </td><td>M    </td><td>31.0             </td><td>Bolivia    </td></tr>\n",
       "<tr><td>6      </td><td>10427.0          </td><td>2015-12-04 00:00:00</td><td>Ads     </td><td>Mobile  </td><td>ES                </td><td>Facebook     </td><td>Android_App</td><td>0           </td><td>0.0                </td><td>F    </td><td>33.0             </td><td>Mexico     </td></tr>\n",
       "<tr><td>7      </td><td>8343.0           </td><td>2015-11-30 00:00:00</td><td>Ads     </td><td>Mobile  </td><td>ES                </td><td>Bing         </td><td>Android_App</td><td>1           </td><td>0.0                </td><td>M    </td><td>37.0             </td><td>Colombia   </td></tr>\n",
       "<tr><td>8      </td><td>73335.0          </td><td>2015-12-03 00:00:00</td><td>SEO     </td><td>Web     </td><td>ES                </td><td>nan          </td><td>IE         </td><td>0           </td><td>1.0                </td><td>F    </td><td>29.0             </td><td>Uruguay    </td></tr>\n",
       "<tr><td>9      </td><td>234023.0         </td><td>2015-12-03 00:00:00</td><td>SEO     </td><td>Web     </td><td>ES                </td><td>nan          </td><td>Chrome     </td><td>0           </td><td>0.0                </td><td>F    </td><td>19.0             </td><td>El Salvador</td></tr>\n",
       "</tbody>\n",
       "</table>"
      ]
     },
     "metadata": {},
     "output_type": "display_data"
    }
   ],
   "source": [
    "dat_h2o = H2OFrame(dat)\n",
    "dat_h2o[\"conversion\"] = dat_h2o[\"conversion\"].asfactor()\n",
    "dat_h2o[\"country\"] = dat_h2o[\"country\"].asfactor()\n",
    "dat_h2o[\"source\"] = dat_h2o[\"source\"].asfactor()\n",
    "dat_h2o[\"device\"] = dat_h2o[\"device\"].asfactor()\n",
    "dat_h2o[\"browser_language\"] = dat_h2o[\"browser_language\"].asfactor()\n",
    "dat_h2o[\"ads_channel\"] = dat_h2o[\"ads_channel\"].asfactor()\n",
    "dat_h2o[\"sex\"] = dat_h2o[\"sex\"].asfactor()\n",
    "dat_h2o[\"browser\"] = dat_h2o[\"browser\"].asfactor()\n",
    "dat_h2o.summary()"
   ]
  },
  {
   "cell_type": "markdown",
   "metadata": {},
   "source": [
    "#### Split data set to training set and testing set"
   ]
  },
  {
   "cell_type": "code",
   "execution_count": 21,
   "metadata": {},
   "outputs": [],
   "source": [
    "index = dat_h2o[\"conversion\"].stratified_split(test_frac = 0.34, seed = 2019)\n",
    "train_dat = dat_h2o[index == \"train\"]\n",
    "test_dat = dat_h2o[index == \"test\"]\n",
    "X = [\"country\", \"source\", \"sex\", \"device\", \"browser_language\", \"ads_channel\", \"browser\"]\n",
    "Y = \"conversion\""
   ]
  },
  {
   "cell_type": "markdown",
   "metadata": {},
   "source": [
    "#### Build a boosting tree"
   ]
  },
  {
   "cell_type": "code",
   "execution_count": 22,
   "metadata": {},
   "outputs": [
    {
     "name": "stdout",
     "output_type": "stream",
     "text": [
      "gbm Model Build progress: |███████████████████████████████████████████████| 100%\n"
     ]
    }
   ],
   "source": [
    "GBM = H2OGradientBoostingEstimator(balance_classes = True, ntrees = 1, min_rows = 1, sample_rate = 1,  \n",
    "                                   col_sample_rate = 1, max_depth = 5, seed = 2019)\n",
    "GBM.train(x = X, y = Y, training_frame = train_dat)"
   ]
  },
  {
   "cell_type": "code",
   "execution_count": 23,
   "metadata": {},
   "outputs": [
    {
     "name": "stdout",
     "output_type": "stream",
     "text": [
      "Node ID 0 \n",
      "Left child node ID = 1\n",
      "Right child node ID = 2\n",
      "\n",
      "Splits on column country\n",
      "  - Categorical levels going to the left node: ['Argentina', 'Uruguay']\n",
      "  - Categorical levels going to the right node: ['Bolivia', 'Chile', 'Colombia', 'Costa Rica', 'Ecuador', 'El Salvador', 'Guatemala', 'Honduras', 'Mexico', 'Nicaragua', 'Panama', 'Paraguay', 'Peru', 'Venezuela']\n",
      "\n",
      "NA values go to the RIGHT\n"
     ]
    }
   ],
   "source": [
    "tree = H2OTree(model = GBM, tree_number = 0, tree_class = None)\n",
    "print(tree.root_node)"
   ]
  },
  {
   "cell_type": "markdown",
   "metadata": {},
   "source": [
    "It is clearly that the tree splits at the country, indicating that the ramdomization may not work well for that variable."
   ]
  }
 ],
 "metadata": {
  "kernelspec": {
   "display_name": "Python 3",
   "language": "python",
   "name": "python3"
  },
  "language_info": {
   "codemirror_mode": {
    "name": "ipython",
    "version": 3
   },
   "file_extension": ".py",
   "mimetype": "text/x-python",
   "name": "python",
   "nbconvert_exporter": "python",
   "pygments_lexer": "ipython3",
   "version": "3.7.3"
  }
 },
 "nbformat": 4,
 "nbformat_minor": 2
}
