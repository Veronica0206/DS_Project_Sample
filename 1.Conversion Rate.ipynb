{
 "cells": [
  {
   "cell_type": "markdown",
   "metadata": {},
   "source": [
    "### We have data about users who hit our site: whether they converted or not as well as some of their characteristics such as their country, the marketing channel, their age, whether they are repeated usersand the number of pages wisited during that session (as a proxy for site activity/time spent on site).\n",
    "### Your project is to:\n",
    "#### (1) Predict conversion rate\n",
    "#### (2) Come up with recommendations for the product team and the marketing team to improve conversion rate."
   ]
  },
  {
   "cell_type": "markdown",
   "metadata": {},
   "source": [
    "### Load the package would be used"
   ]
  },
  {
   "cell_type": "code",
   "execution_count": 1,
   "metadata": {},
   "outputs": [],
   "source": [
    "import pandas as pd\n",
    "pd.set_option(\"display.max_columns\", 10)\n",
    "pd.set_option(\"display.width\", 350)\n",
    "\n",
    "import matplotlib.pyplot as plt\n",
    "from matplotlib import rcParams\n",
    "rcParams.update({\"figure.autolayout\": True})\n",
    "import seaborn as sns\n",
    "sns.set(style = \"white\")\n",
    "sns.set(style = \"whitegrid\", color_codes = True)\n",
    "\n",
    "import numpy as np\n",
    "\n",
    "from sklearn.metrics import confusion_matrix, auc, roc_curve, classification_report\n",
    "import h2o\n",
    "from h2o.frame import H2OFrame\n",
    "from h2o.estimators.random_forest import H2ORandomForestEstimator\n",
    "from h2o.grid.grid_search import H2OGridSearch"
   ]
  },
  {
   "cell_type": "markdown",
   "metadata": {},
   "source": [
    "### Read in the data set"
   ]
  },
  {
   "cell_type": "code",
   "execution_count": 2,
   "metadata": {},
   "outputs": [
    {
     "name": "stdout",
     "output_type": "stream",
     "text": [
      "  country  age  new_user source  total_pages_visited  converted\n",
      "0      UK   25         1    Ads                    1          0\n",
      "1      US   23         1    Seo                    5          0\n",
      "2      US   28         1    Seo                    4          0\n",
      "3   China   39         1    Seo                    5          0\n",
      "4      US   30         1    Seo                    6          0\n"
     ]
    }
   ],
   "source": [
    "#### Read file\n",
    "dat0 = pd.read_csv(\"../Datasets/conversion_data.csv\")\n",
    "print(dat0.head())"
   ]
  },
  {
   "cell_type": "markdown",
   "metadata": {},
   "source": [
    "### Look into data set"
   ]
  },
  {
   "cell_type": "markdown",
   "metadata": {},
   "source": [
    "#### Inspect the data to look for weird behavior/wrong data"
   ]
  },
  {
   "cell_type": "code",
   "execution_count": 3,
   "metadata": {},
   "outputs": [
    {
     "name": "stdout",
     "output_type": "stream",
     "text": [
      "                 age       new_user  total_pages_visited      converted\n",
      "count  316200.000000  316200.000000        316200.000000  316200.000000\n",
      "mean       30.569858       0.685465             4.872966       0.032258\n",
      "std         8.271802       0.464331             3.341104       0.176685\n",
      "min        17.000000       0.000000             1.000000       0.000000\n",
      "25%        24.000000       0.000000             2.000000       0.000000\n",
      "50%        30.000000       1.000000             4.000000       0.000000\n",
      "75%        36.000000       1.000000             7.000000       0.000000\n",
      "max       123.000000       1.000000            29.000000       1.000000\n",
      "country\n",
      "China       76602\n",
      "Germany     13056\n",
      "UK          48450\n",
      "US         178092\n",
      "dtype: int64\n",
      "source\n",
      "Ads        88740\n",
      "Direct     72420\n",
      "Seo       155040\n",
      "dtype: int64\n"
     ]
    }
   ],
   "source": [
    "print(dat0.describe())\n",
    "print(dat0.groupby([\"country\"]).size())\n",
    "print(dat0.groupby([\"source\"]).size())"
   ]
  },
  {
   "cell_type": "markdown",
   "metadata": {},
   "source": [
    "Everything seems to be reasonable except for the max age $123$ years old."
   ]
  },
  {
   "cell_type": "code",
   "execution_count": 4,
   "metadata": {},
   "outputs": [
    {
     "name": "stdout",
     "output_type": "stream",
     "text": [
      "[123, 111, 79, 77, 73, 72, 70, 69, 68, 67, 66, 65, 64, 63, 62, 61, 60, 59, 58, 57, 56, 55, 54, 53, 52, 51, 50, 49, 48, 47, 46, 45, 44, 43, 42, 41, 40, 39, 38, 37, 36, 35, 34, 33, 32, 31, 30, 29, 28, 27, 26, 25, 24, 23, 22, 21, 20, 19, 18, 17]\n"
     ]
    }
   ],
   "source": [
    "print(sorted(dat0[\"age\"].unique(), reverse = True))"
   ]
  },
  {
   "cell_type": "markdown",
   "metadata": {},
   "source": [
    "Those $123$ and $111$ values seem unrealistic."
   ]
  },
  {
   "cell_type": "code",
   "execution_count": 5,
   "metadata": {},
   "outputs": [
    {
     "name": "stdout",
     "output_type": "stream",
     "text": [
      "        country  age  new_user source  total_pages_visited  converted\n",
      "90928   Germany  123         0    Seo                   15          1\n",
      "295581       UK  111         0    Ads                   10          1\n"
     ]
    }
   ],
   "source": [
    "print(dat0[dat0[\"age\"] > 80])"
   ]
  },
  {
   "cell_type": "markdown",
   "metadata": {},
   "source": [
    "It is just $2$ users. We may remove them directly."
   ]
  },
  {
   "cell_type": "code",
   "execution_count": 6,
   "metadata": {},
   "outputs": [],
   "source": [
    "dat = dat0[dat0[\"age\"] < 110]"
   ]
  },
  {
   "cell_type": "markdown",
   "metadata": {},
   "source": [
    "### Visualization"
   ]
  },
  {
   "cell_type": "markdown",
   "metadata": {},
   "source": [
    "#### By country"
   ]
  },
  {
   "cell_type": "code",
   "execution_count": 7,
   "metadata": {},
   "outputs": [
    {
     "data": {
      "text/plain": [
       "<matplotlib.axes._subplots.AxesSubplot at 0x1a18b8e668>"
      ]
     },
     "execution_count": 7,
     "metadata": {},
     "output_type": "execute_result"
    },
    {
     "name": "stderr",
     "output_type": "stream",
     "text": [
      "/anaconda3/lib/python3.7/site-packages/matplotlib/figure.py:2369: UserWarning: This figure includes Axes that are not compatible with tight_layout, so results might be incorrect.\n",
      "  warnings.warn(\"This figure includes Axes that are not compatible \"\n"
     ]
    },
    {
     "data": {
      "image/png": "[encoded data removed]",
      "text/plain": [
       "<Figure size 432x288 with 1 Axes>"
      ]
     },
     "metadata": {
      "needs_background": "light"
     },
     "output_type": "display_data"
    }
   ],
   "source": [
    "grp_country = dat[[\"country\", \"converted\"]].groupby(\"country\").mean().reset_index()\n",
    "sns.barplot(x = \"country\", y = \"converted\", data = grp_country, palette = \"PuBuGn\")"
   ]
  },
  {
   "cell_type": "markdown",
   "metadata": {},
   "source": [
    "It Looks like Chinese convert at a much lower rate than other countries."
   ]
  },
  {
   "cell_type": "markdown",
   "metadata": {},
   "source": [
    "#### By marketing channels"
   ]
  },
  {
   "cell_type": "code",
   "execution_count": 8,
   "metadata": {},
   "outputs": [
    {
     "data": {
      "text/plain": [
       "<matplotlib.axes._subplots.AxesSubplot at 0x1a1c7380b8>"
      ]
     },
     "execution_count": 8,
     "metadata": {},
     "output_type": "execute_result"
    },
    {
     "name": "stderr",
     "output_type": "stream",
     "text": [
      "/anaconda3/lib/python3.7/site-packages/matplotlib/figure.py:2369: UserWarning: This figure includes Axes that are not compatible with tight_layout, so results might be incorrect.\n",
      "  warnings.warn(\"This figure includes Axes that are not compatible \"\n"
     ]
    },
    {
     "data": {
      "image/png": "[encoded data removed]",
      "text/plain": [
       "<Figure size 432x288 with 1 Axes>"
      ]
     },
     "metadata": {
      "needs_background": "light"
     },
     "output_type": "display_data"
    }
   ],
   "source": [
    "grp_source = dat[[\"source\", \"converted\"]].groupby(\"source\").mean().reset_index()\n",
    "sns.barplot(x = \"source\", y = \"converted\", data = grp_source, palette = \"PuBuGn\")"
   ]
  },
  {
   "cell_type": "markdown",
   "metadata": {},
   "source": [
    "#### By if new users"
   ]
  },
  {
   "cell_type": "code",
   "execution_count": 9,
   "metadata": {},
   "outputs": [
    {
     "data": {
      "text/plain": [
       "<matplotlib.axes._subplots.AxesSubplot at 0x104babd30>"
      ]
     },
     "execution_count": 9,
     "metadata": {},
     "output_type": "execute_result"
    },
    {
     "name": "stderr",
     "output_type": "stream",
     "text": [
      "/anaconda3/lib/python3.7/site-packages/matplotlib/figure.py:2369: UserWarning: This figure includes Axes that are not compatible with tight_layout, so results might be incorrect.\n",
      "  warnings.warn(\"This figure includes Axes that are not compatible \"\n"
     ]
    },
    {
     "data": {
      "image/png": "[encoded data removed]",
      "text/plain": [
       "<Figure size 432x288 with 1 Axes>"
      ]
     },
     "metadata": {
      "needs_background": "light"
     },
     "output_type": "display_data"
    }
   ],
   "source": [
    "grp_newuser = dat[[\"new_user\", \"converted\"]].groupby(\"new_user\").mean().reset_index()\n",
    "sns.barplot(x = \"new_user\", y = \"converted\", data = grp_newuser, palette = \"PuBuGn\")"
   ]
  },
  {
   "cell_type": "code",
   "execution_count": 10,
   "metadata": {},
   "outputs": [
    {
     "name": "stderr",
     "output_type": "stream",
     "text": [
      "/anaconda3/lib/python3.7/site-packages/matplotlib/figure.py:2369: UserWarning: This figure includes Axes that are not compatible with tight_layout, so results might be incorrect.\n",
      "  warnings.warn(\"This figure includes Axes that are not compatible \"\n"
     ]
    },
    {
     "data": {
      "image/png": "[encoded data removed]",
      "text/plain": [
       "<Figure size 432x288 with 1 Axes>"
      ]
     },
     "metadata": {
      "needs_background": "light"
     },
     "output_type": "display_data"
    }
   ],
   "source": [
    "dat.groupby([\"total_pages_visited\"])[\"converted\"].mean().plot()\n",
    "plt.show()"
   ]
  },
  {
   "cell_type": "markdown",
   "metadata": {},
   "source": [
    "#### By total pages visited"
   ]
  },
  {
   "cell_type": "code",
   "execution_count": 11,
   "metadata": {},
   "outputs": [
    {
     "data": {
      "text/plain": [
       "<matplotlib.axes._subplots.AxesSubplot at 0x1a18ca9940>"
      ]
     },
     "execution_count": 11,
     "metadata": {},
     "output_type": "execute_result"
    },
    {
     "name": "stderr",
     "output_type": "stream",
     "text": [
      "/anaconda3/lib/python3.7/site-packages/matplotlib/figure.py:2369: UserWarning: This figure includes Axes that are not compatible with tight_layout, so results might be incorrect.\n",
      "  warnings.warn(\"This figure includes Axes that are not compatible \"\n"
     ]
    },
    {
     "data": {
      "image/png": "[encoded data removed]",
      "text/plain": [
       "<Figure size 432x288 with 1 Axes>"
      ]
     },
     "metadata": {
      "needs_background": "light"
     },
     "output_type": "display_data"
    }
   ],
   "source": [
    "grp_page = dat[[\"total_pages_visited\", \"converted\"]].groupby(\"total_pages_visited\").mean().reset_index()\n",
    "sns.lineplot(x = \"total_pages_visited\", y = \"converted\", data = grp_page, palette = \"PuBuGn\")"
   ]
  },
  {
   "cell_type": "markdown",
   "metadata": {},
   "source": [
    "#### By age"
   ]
  },
  {
   "cell_type": "code",
   "execution_count": 12,
   "metadata": {},
   "outputs": [
    {
     "data": {
      "text/plain": [
       "<matplotlib.axes._subplots.AxesSubplot at 0x1a1a0b5588>"
      ]
     },
     "execution_count": 12,
     "metadata": {},
     "output_type": "execute_result"
    },
    {
     "name": "stderr",
     "output_type": "stream",
     "text": [
      "/anaconda3/lib/python3.7/site-packages/matplotlib/figure.py:2369: UserWarning: This figure includes Axes that are not compatible with tight_layout, so results might be incorrect.\n",
      "  warnings.warn(\"This figure includes Axes that are not compatible \"\n"
     ]
    },
    {
     "data": {
      "image/png": "[encoded data removed]",
      "text/plain": [
       "<Figure size 432x288 with 1 Axes>"
      ]
     },
     "metadata": {
      "needs_background": "light"
     },
     "output_type": "display_data"
    }
   ],
   "source": [
    "grp_age = dat[[\"age\", \"converted\"]].groupby(\"age\").mean().reset_index()\n",
    "sns.lineplot(x = \"age\", y = \"converted\", data = grp_age, palette = \"PuBuGn\")"
   ]
  },
  {
   "cell_type": "markdown",
   "metadata": {},
   "source": [
    "### Machine Learning Model"
   ]
  },
  {
   "cell_type": "code",
   "execution_count": 13,
   "metadata": {},
   "outputs": [
    {
     "name": "stdout",
     "output_type": "stream",
     "text": [
      "Checking whether there is an H2O instance running at http://localhost:54321 . connected.\n"
     ]
    },
    {
     "data": {
      "text/html": [
       "<div style=\"overflow:auto\"><table style=\"width:50%\"><tr><td>H2O cluster uptime:</td>\n",
       "<td>39 mins 46 secs</td></tr>\n",
       "<tr><td>H2O cluster timezone:</td>\n",
       "<td>America/New_York</td></tr>\n",
       "<tr><td>H2O data parsing timezone:</td>\n",
       "<td>UTC</td></tr>\n",
       "<tr><td>H2O cluster version:</td>\n",
       "<td>3.26.0.1</td></tr>\n",
       "<tr><td>H2O cluster version age:</td>\n",
       "<td>44 minutes </td></tr>\n",
       "<tr><td>H2O cluster name:</td>\n",
       "<td>H2O_from_python_veronica_ojsale</td></tr>\n",
       "<tr><td>H2O cluster total nodes:</td>\n",
       "<td>1</td></tr>\n",
       "<tr><td>H2O cluster free memory:</td>\n",
       "<td>3.881 Gb</td></tr>\n",
       "<tr><td>H2O cluster total cores:</td>\n",
       "<td>4</td></tr>\n",
       "<tr><td>H2O cluster allowed cores:</td>\n",
       "<td>4</td></tr>\n",
       "<tr><td>H2O cluster status:</td>\n",
       "<td>locked, healthy</td></tr>\n",
       "<tr><td>H2O connection url:</td>\n",
       "<td>http://localhost:54321</td></tr>\n",
       "<tr><td>H2O connection proxy:</td>\n",
       "<td>None</td></tr>\n",
       "<tr><td>H2O internal security:</td>\n",
       "<td>False</td></tr>\n",
       "<tr><td>H2O API Extensions:</td>\n",
       "<td>Amazon S3, XGBoost, Algos, AutoML, Core V3, Core V4</td></tr>\n",
       "<tr><td>Python version:</td>\n",
       "<td>3.7.3 final</td></tr></table></div>"
      ],
      "text/plain": [
       "--------------------------  ---------------------------------------------------\n",
       "H2O cluster uptime:         39 mins 46 secs\n",
       "H2O cluster timezone:       America/New_York\n",
       "H2O data parsing timezone:  UTC\n",
       "H2O cluster version:        3.26.0.1\n",
       "H2O cluster version age:    44 minutes\n",
       "H2O cluster name:           H2O_from_python_veronica_ojsale\n",
       "H2O cluster total nodes:    1\n",
       "H2O cluster free memory:    3.881 Gb\n",
       "H2O cluster total cores:    4\n",
       "H2O cluster allowed cores:  4\n",
       "H2O cluster status:         locked, healthy\n",
       "H2O connection url:         http://localhost:54321\n",
       "H2O connection proxy:\n",
       "H2O internal security:      False\n",
       "H2O API Extensions:         Amazon S3, XGBoost, Algos, AutoML, Core V3, Core V4\n",
       "Python version:             3.7.3 final\n",
       "--------------------------  ---------------------------------------------------"
      ]
     },
     "metadata": {},
     "output_type": "display_data"
    }
   ],
   "source": [
    "#### Initialize H2O cluster\n",
    "h2o.init()\n",
    "h2o.remove_all()"
   ]
  },
  {
   "cell_type": "markdown",
   "metadata": {},
   "source": [
    "#### Convert the data set to the h2o frame and convert all categorical variables to factors"
   ]
  },
  {
   "cell_type": "code",
   "execution_count": 14,
   "metadata": {},
   "outputs": [
    {
     "name": "stdout",
     "output_type": "stream",
     "text": [
      "Parse progress: |█████████████████████████████████████████████████████████| 100%\n"
     ]
    },
    {
     "data": {
      "text/html": [
       "<table>\n",
       "<thead>\n",
       "<tr><th>       </th><th>country  </th><th>age              </th><th>new_user  </th><th>source  </th><th>total_pages_visited  </th><th>converted  </th></tr>\n",
       "</thead>\n",
       "<tbody>\n",
       "<tr><td>type   </td><td>enum     </td><td>int              </td><td>enum      </td><td>enum    </td><td>int                  </td><td>enum       </td></tr>\n",
       "<tr><td>mins   </td><td>         </td><td>17.0             </td><td>          </td><td>        </td><td>1.0                  </td><td>           </td></tr>\n",
       "<tr><td>mean   </td><td>         </td><td>30.56931100133461</td><td>          </td><td>        </td><td>4.872918234777001    </td><td>           </td></tr>\n",
       "<tr><td>maxs   </td><td>         </td><td>79.0             </td><td>          </td><td>        </td><td>29.0                 </td><td>           </td></tr>\n",
       "<tr><td>sigma  </td><td>         </td><td>8.268957596421435</td><td>          </td><td>        </td><td>3.3410533442156285   </td><td>           </td></tr>\n",
       "<tr><td>zeros  </td><td>         </td><td>0                </td><td>          </td><td>        </td><td>0                    </td><td>           </td></tr>\n",
       "<tr><td>missing</td><td>0        </td><td>0                </td><td>0         </td><td>0       </td><td>0                    </td><td>0          </td></tr>\n",
       "<tr><td>0      </td><td>UK       </td><td>25.0             </td><td>1         </td><td>Ads     </td><td>1.0                  </td><td>0          </td></tr>\n",
       "<tr><td>1      </td><td>US       </td><td>23.0             </td><td>1         </td><td>Seo     </td><td>5.0                  </td><td>0          </td></tr>\n",
       "<tr><td>2      </td><td>US       </td><td>28.0             </td><td>1         </td><td>Seo     </td><td>4.0                  </td><td>0          </td></tr>\n",
       "<tr><td>3      </td><td>China    </td><td>39.0             </td><td>1         </td><td>Seo     </td><td>5.0                  </td><td>0          </td></tr>\n",
       "<tr><td>4      </td><td>US       </td><td>30.0             </td><td>1         </td><td>Seo     </td><td>6.0                  </td><td>0          </td></tr>\n",
       "<tr><td>5      </td><td>US       </td><td>31.0             </td><td>0         </td><td>Seo     </td><td>1.0                  </td><td>0          </td></tr>\n",
       "<tr><td>6      </td><td>China    </td><td>27.0             </td><td>1         </td><td>Seo     </td><td>4.0                  </td><td>0          </td></tr>\n",
       "<tr><td>7      </td><td>US       </td><td>23.0             </td><td>0         </td><td>Ads     </td><td>4.0                  </td><td>0          </td></tr>\n",
       "<tr><td>8      </td><td>UK       </td><td>29.0             </td><td>0         </td><td>Direct  </td><td>4.0                  </td><td>0          </td></tr>\n",
       "<tr><td>9      </td><td>US       </td><td>25.0             </td><td>0         </td><td>Ads     </td><td>2.0                  </td><td>0          </td></tr>\n",
       "</tbody>\n",
       "</table>"
      ]
     },
     "metadata": {},
     "output_type": "display_data"
    }
   ],
   "source": [
    "dat_h2o = H2OFrame(dat)\n",
    "dat_h2o[\"converted\"] = dat_h2o[\"converted\"].asfactor()\n",
    "dat_h2o[\"country\"] = dat_h2o[\"country\"].asfactor()\n",
    "dat_h2o[\"source\"] = dat_h2o[\"source\"].asfactor()\n",
    "dat_h2o[\"new_user\"] = dat_h2o[\"new_user\"].asfactor()\n",
    "dat_h2o.summary()"
   ]
  },
  {
   "cell_type": "markdown",
   "metadata": {},
   "source": [
    "#### Split data set to the training set and testing set"
   ]
  },
  {
   "cell_type": "code",
   "execution_count": 15,
   "metadata": {},
   "outputs": [],
   "source": [
    "index = dat_h2o[\"converted\"].stratified_split(test_frac = 0.34, seed = 2019)\n",
    "train_dat = dat_h2o[index == \"train\"]\n",
    "test_dat = dat_h2o[index == \"test\"]\n",
    "X0 = [\"country\", \"source\", \"new_user\", \"age\", \"total_pages_visited\"]\n",
    "Y = \"converted\""
   ]
  },
  {
   "cell_type": "markdown",
   "metadata": {},
   "source": [
    "#### Build a random forest model"
   ]
  },
  {
   "cell_type": "code",
   "execution_count": 16,
   "metadata": {},
   "outputs": [
    {
     "name": "stdout",
     "output_type": "stream",
     "text": [
      "drf Model Build progress: |███████████████████████████████████████████████| 100%\n"
     ]
    }
   ],
   "source": [
    "RF0 = H2ORandomForestEstimator(balance_classes = False, ntrees = 100, max_depth = 20, \n",
    "                               mtries = -1, seed = 2019, score_each_iteration = True)\n",
    "RF0.train(x = X0, y = Y, training_frame = train_dat)"
   ]
  },
  {
   "cell_type": "markdown",
   "metadata": {},
   "source": [
    "#### Examine if overfitting (though it's unlikely for a random forest)"
   ]
  },
  {
   "cell_type": "code",
   "execution_count": 17,
   "metadata": {},
   "outputs": [
    {
     "name": "stdout",
     "output_type": "stream",
     "text": [
      "drf prediction progress: |████████████████████████████████████████████████| 100%\n",
      "drf prediction progress: |████████████████████████████████████████████████| 100%\n",
      "[[0.99641513 0.10756203]\n",
      " [0.00828877 0.75129996]]\n",
      "[[0.99455978 0.16325353]\n",
      " [0.01035179 0.68935679]]\n"
     ]
    }
   ],
   "source": [
    "train_true = train_dat.as_data_frame()[\"converted\"].values\n",
    "test_true = test_dat.as_data_frame()[\"converted\"].values\n",
    "train_pred = RF0.predict(train_dat).as_data_frame()[\"predict\"].values\n",
    "test_pred = RF0.predict(test_dat).as_data_frame()[\"predict\"].values\n",
    "\n",
    "train_confusion = confusion_matrix(train_true, train_pred)\n",
    "print (train_confusion/train_confusion.astype(np.float).sum(axis = 1))\n",
    "\n",
    "test_confusion = confusion_matrix(test_true, test_pred)\n",
    "print (test_confusion/test_confusion.astype(np.float).sum(axis = 1))"
   ]
  },
  {
   "cell_type": "code",
   "execution_count": 18,
   "metadata": {},
   "outputs": [
    {
     "name": "stdout",
     "output_type": "stream",
     "text": [
      "              precision    recall  f1-score   support\n",
      "\n",
      "           0       0.99      0.99      0.99    104040\n",
      "           1       0.81      0.69      0.74      3467\n",
      "\n",
      "   micro avg       0.98      0.98      0.98    107507\n",
      "   macro avg       0.90      0.84      0.87    107507\n",
      "weighted avg       0.98      0.98      0.98    107507\n",
      "\n"
     ]
    }
   ],
   "source": [
    "train_fpr, train_tpr, _ = roc_curve(train_true, train_pred)\n",
    "test_fpr, test_tpr, _ = roc_curve(test_true, test_pred)\n",
    "train_auc = np.round(auc(train_fpr, train_tpr), 3)\n",
    "test_auc = np.round(auc(test_fpr, test_tpr), 3)\n",
    "print(classification_report(y_true=test_true, y_pred = (test_pred > 0.5).astype(int)))"
   ]
  },
  {
   "cell_type": "markdown",
   "metadata": {},
   "source": [
    "#### Variable importance"
   ]
  },
  {
   "cell_type": "code",
   "execution_count": 19,
   "metadata": {},
   "outputs": [
    {
     "name": "stderr",
     "output_type": "stream",
     "text": [
      "/anaconda3/lib/python3.7/site-packages/matplotlib/figure.py:2369: UserWarning: This figure includes Axes that are not compatible with tight_layout, so results might be incorrect.\n",
      "  warnings.warn(\"This figure includes Axes that are not compatible \"\n"
     ]
    },
    {
     "data": {
      "image/png": "[encoded data removed]",
      "text/plain": [
       "<Figure size 1008x720 with 1 Axes>"
      ]
     },
     "metadata": {
      "needs_background": "light"
     },
     "output_type": "display_data"
    }
   ],
   "source": [
    "RF0.varimp_plot()"
   ]
  },
  {
   "cell_type": "markdown",
   "metadata": {},
   "source": [
    "From the above plot, the most important feature is the total page visits, which makes sense. Generally, users who reviewed more pages have higher willingness to pay for the product/service. But it's not very useful since we basically can do nothing for that feature. Let's remove the feature and redo the random forest."
   ]
  },
  {
   "cell_type": "markdown",
   "metadata": {},
   "source": [
    "#### Remove the total_pages_visited variable and redo the analysis"
   ]
  },
  {
   "cell_type": "code",
   "execution_count": 20,
   "metadata": {},
   "outputs": [
    {
     "name": "stdout",
     "output_type": "stream",
     "text": [
      "drf Model Build progress: |███████████████████████████████████████████████| 100%\n",
      "drf prediction progress: |████████████████████████████████████████████████| 100%\n",
      "drf prediction progress: |████████████████████████████████████████████████| 100%\n",
      "[[0.91319568 2.60451642]\n",
      " [0.01850366 0.44480761]]\n",
      "[[0.91103422 2.66974329]\n",
      " [0.01921376 0.42342082]]\n",
      "              precision    recall  f1-score   support\n",
      "\n",
      "           0       0.98      0.91      0.94    104040\n",
      "           1       0.14      0.42      0.21      3467\n",
      "\n",
      "   micro avg       0.90      0.90      0.90    107507\n",
      "   macro avg       0.56      0.67      0.58    107507\n",
      "weighted avg       0.95      0.90      0.92    107507\n",
      "\n"
     ]
    }
   ],
   "source": [
    "X = [\"country\", \"source\", \"new_user\", \"age\"]\n",
    "Y = \"converted\"\n",
    "RF = H2ORandomForestEstimator(balance_classes = False, ntrees = 100, max_depth = 20, \n",
    "                              mtries = -1, seed = 2019, score_each_iteration = True)\n",
    "RF.train(x = X, y = Y, training_frame = train_dat)\n",
    "train_true = train_dat.as_data_frame()[\"converted\"].values\n",
    "test_true = test_dat.as_data_frame()[\"converted\"].values\n",
    "train_pred = RF.predict(train_dat).as_data_frame()[\"predict\"].values\n",
    "test_pred = RF.predict(test_dat).as_data_frame()[\"predict\"].values\n",
    "\n",
    "train_confusion = confusion_matrix(train_true, train_pred)\n",
    "print (train_confusion/train_confusion.astype(np.float).sum(axis = 1))\n",
    "\n",
    "test_confusion = confusion_matrix(test_true, test_pred)\n",
    "print (test_confusion/test_confusion.astype(np.float).sum(axis = 1))\n",
    "\n",
    "train_fpr, train_tpr, _ = roc_curve(train_true, train_pred)\n",
    "test_fpr, test_tpr, _ = roc_curve(test_true, test_pred)\n",
    "train_auc = np.round(auc(train_fpr, train_tpr), 3)\n",
    "test_auc = np.round(auc(test_fpr, test_tpr), 3)\n",
    "print (classification_report(y_true=test_true, y_pred = (test_pred > 0.5).astype(int)))"
   ]
  },
  {
   "cell_type": "code",
   "execution_count": 21,
   "metadata": {},
   "outputs": [
    {
     "name": "stderr",
     "output_type": "stream",
     "text": [
      "/anaconda3/lib/python3.7/site-packages/matplotlib/figure.py:2369: UserWarning: This figure includes Axes that are not compatible with tight_layout, so results might be incorrect.\n",
      "  warnings.warn(\"This figure includes Axes that are not compatible \"\n"
     ]
    },
    {
     "data": {
      "image/png": "[encoded data removed]",
      "text/plain": [
       "<Figure size 1008x720 with 1 Axes>"
      ]
     },
     "metadata": {
      "needs_background": "light"
     },
     "output_type": "display_data"
    }
   ],
   "source": [
    "RF.varimp_plot()"
   ]
  },
  {
   "cell_type": "code",
   "execution_count": 22,
   "metadata": {},
   "outputs": [
    {
     "name": "stdout",
     "output_type": "stream",
     "text": [
      "PartialDependencePlot progress: |█████████████████████████████████████████| 100%\n",
      "PartialDependence: Partial Dependence Plot of model DRF_model_python_1563242708389_607 on column 'new_user'\n",
      "\n"
     ]
    },
    {
     "data": {
      "text/html": [
       "<div style=\"overflow:auto\"><table style=\"width:50%\"><tr><td><b>new_user</b></td>\n",
       "<td><b>mean_response</b></td>\n",
       "<td><b>stddev_response</b></td>\n",
       "<td><b>std_error_mean_response</b></td></tr>\n",
       "<tr><td>0</td>\n",
       "<td>0.0707956</td>\n",
       "<td>0.0558543</td>\n",
       "<td>0.0001223</td></tr>\n",
       "<tr><td>1</td>\n",
       "<td>0.0140058</td>\n",
       "<td>0.0111670</td>\n",
       "<td>0.0000244</td></tr></table></div>"
      ],
      "text/plain": [
       "new_user    mean_response    stddev_response    std_error_mean_response\n",
       "----------  ---------------  -----------------  -------------------------\n",
       "0           0.0707956        0.0558543          0.000122266\n",
       "1           0.0140058        0.011167           2.44446e-05"
      ]
     },
     "metadata": {},
     "output_type": "display_data"
    },
    {
     "name": "stdout",
     "output_type": "stream",
     "text": [
      "PartialDependence: Partial Dependence Plot of model DRF_model_python_1563242708389_607 on column 'country'\n",
      "\n"
     ]
    },
    {
     "data": {
      "text/html": [
       "<div style=\"overflow:auto\"><table style=\"width:50%\"><tr><td><b>country</b></td>\n",
       "<td><b>mean_response</b></td>\n",
       "<td><b>stddev_response</b></td>\n",
       "<td><b>std_error_mean_response</b></td></tr>\n",
       "<tr><td>China</td>\n",
       "<td>0.0019011</td>\n",
       "<td>0.0019031</td>\n",
       "<td>0.0000042</td></tr>\n",
       "<tr><td>Germany</td>\n",
       "<td>0.0605202</td>\n",
       "<td>0.0695444</td>\n",
       "<td>0.0001522</td></tr>\n",
       "<tr><td>UK</td>\n",
       "<td>0.0512989</td>\n",
       "<td>0.0534191</td>\n",
       "<td>0.0001169</td></tr>\n",
       "<tr><td>US</td>\n",
       "<td>0.0374420</td>\n",
       "<td>0.0379603</td>\n",
       "<td>0.0000831</td></tr></table></div>"
      ],
      "text/plain": [
       "country    mean_response    stddev_response    std_error_mean_response\n",
       "---------  ---------------  -----------------  -------------------------\n",
       "China      0.00190106       0.00190311         4.16594e-06\n",
       "Germany    0.0605202        0.0695444          0.000152234\n",
       "UK         0.0512989        0.0534191          0.000116935\n",
       "US         0.037442         0.0379603          8.30956e-05"
      ]
     },
     "metadata": {},
     "output_type": "display_data"
    },
    {
     "name": "stdout",
     "output_type": "stream",
     "text": [
      "PartialDependence: Partial Dependence Plot of model DRF_model_python_1563242708389_607 on column 'age'\n",
      "\n"
     ]
    },
    {
     "data": {
      "text/html": [
       "<div style=\"overflow:auto\"><table style=\"width:50%\"><tr><td><b>age</b></td>\n",
       "<td><b>mean_response</b></td>\n",
       "<td><b>stddev_response</b></td>\n",
       "<td><b>std_error_mean_response</b></td></tr>\n",
       "<tr><td>17.0</td>\n",
       "<td>0.0621456</td>\n",
       "<td>0.0693831</td>\n",
       "<td>0.0001519</td></tr>\n",
       "<tr><td>20.2631579</td>\n",
       "<td>0.0515195</td>\n",
       "<td>0.0601739</td>\n",
       "<td>0.0001317</td></tr>\n",
       "<tr><td>23.5263158</td>\n",
       "<td>0.0448680</td>\n",
       "<td>0.0509761</td>\n",
       "<td>0.0001116</td></tr>\n",
       "<tr><td>26.7894737</td>\n",
       "<td>0.0324544</td>\n",
       "<td>0.0361288</td>\n",
       "<td>0.0000791</td></tr>\n",
       "<tr><td>30.0526316</td>\n",
       "<td>0.0293999</td>\n",
       "<td>0.0315953</td>\n",
       "<td>0.0000692</td></tr>\n",
       "<tr><td>33.3157895</td>\n",
       "<td>0.0250740</td>\n",
       "<td>0.0286573</td>\n",
       "<td>0.0000627</td></tr>\n",
       "<tr><td>36.5789474</td>\n",
       "<td>0.0206491</td>\n",
       "<td>0.0221456</td>\n",
       "<td>0.0000485</td></tr>\n",
       "<tr><td>39.8421053</td>\n",
       "<td>0.0175417</td>\n",
       "<td>0.0205225</td>\n",
       "<td>0.0000449</td></tr>\n",
       "<tr><td>43.1052632</td>\n",
       "<td>0.0143884</td>\n",
       "<td>0.0131076</td>\n",
       "<td>0.0000287</td></tr>\n",
       "<tr><td>46.3684211</td>\n",
       "<td>0.0159066</td>\n",
       "<td>0.0177444</td>\n",
       "<td>0.0000388</td></tr>\n",
       "<tr><td>49.6315789</td>\n",
       "<td>0.0107193</td>\n",
       "<td>0.0118845</td>\n",
       "<td>0.0000260</td></tr>\n",
       "<tr><td>52.8947368</td>\n",
       "<td>0.0083971</td>\n",
       "<td>0.0138728</td>\n",
       "<td>0.0000304</td></tr>\n",
       "<tr><td>56.1578947</td>\n",
       "<td>0.0067087</td>\n",
       "<td>0.0065488</td>\n",
       "<td>0.0000143</td></tr>\n",
       "<tr><td>59.4210526</td>\n",
       "<td>0.0070478</td>\n",
       "<td>0.0064475</td>\n",
       "<td>0.0000141</td></tr>\n",
       "<tr><td>62.6842105</td>\n",
       "<td>0.0068589</td>\n",
       "<td>0.0068234</td>\n",
       "<td>0.0000149</td></tr>\n",
       "<tr><td>65.9473684</td>\n",
       "<td>0.0068589</td>\n",
       "<td>0.0068234</td>\n",
       "<td>0.0000149</td></tr>\n",
       "<tr><td>69.2105263</td>\n",
       "<td>0.0068589</td>\n",
       "<td>0.0068234</td>\n",
       "<td>0.0000149</td></tr>\n",
       "<tr><td>72.4736842</td>\n",
       "<td>0.0068589</td>\n",
       "<td>0.0068234</td>\n",
       "<td>0.0000149</td></tr>\n",
       "<tr><td>75.7368421</td>\n",
       "<td>0.0068589</td>\n",
       "<td>0.0068234</td>\n",
       "<td>0.0000149</td></tr>\n",
       "<tr><td>79.0</td>\n",
       "<td>0.0068589</td>\n",
       "<td>0.0068234</td>\n",
       "<td>0.0000149</td></tr></table></div>"
      ],
      "text/plain": [
       "age      mean_response    stddev_response    std_error_mean_response\n",
       "-------  ---------------  -----------------  -------------------------\n",
       "17       0.0621456        0.0693831          0.00015188\n",
       "20.2632  0.0515195        0.0601739          0.000131721\n",
       "23.5263  0.044868         0.0509761          0.000111587\n",
       "26.7895  0.0324544        0.0361288          7.90864e-05\n",
       "30.0526  0.0293999        0.0315953          6.91625e-05\n",
       "33.3158  0.025074         0.0286573          6.27312e-05\n",
       "36.5789  0.0206491        0.0221456          4.84769e-05\n",
       "39.8421  0.0175417        0.0205225          4.49239e-05\n",
       "43.1053  0.0143884        0.0131076          2.86926e-05\n",
       "46.3684  0.0159066        0.0177444          3.88427e-05\n",
       "49.6316  0.0107193        0.0118845          2.60153e-05\n",
       "52.8947  0.00839713       0.0138728          3.03677e-05\n",
       "56.1579  0.0067087        0.00654877         1.43353e-05\n",
       "59.4211  0.00704781       0.00644753         1.41137e-05\n",
       "62.6842  0.00685885       0.0068234          1.49365e-05\n",
       "65.9474  0.00685885       0.0068234          1.49365e-05\n",
       "69.2105  0.00685885       0.0068234          1.49365e-05\n",
       "72.4737  0.00685885       0.0068234          1.49365e-05\n",
       "75.7368  0.00685885       0.0068234          1.49365e-05\n",
       "79       0.00685885       0.0068234          1.49365e-05"
      ]
     },
     "metadata": {},
     "output_type": "display_data"
    },
    {
     "name": "stdout",
     "output_type": "stream",
     "text": [
      "PartialDependence: Partial Dependence Plot of model DRF_model_python_1563242708389_607 on column 'source'\n",
      "\n"
     ]
    },
    {
     "data": {
      "text/html": [
       "<div style=\"overflow:auto\"><table style=\"width:50%\"><tr><td><b>source</b></td>\n",
       "<td><b>mean_response</b></td>\n",
       "<td><b>stddev_response</b></td>\n",
       "<td><b>std_error_mean_response</b></td></tr>\n",
       "<tr><td>Ads</td>\n",
       "<td>0.0348075</td>\n",
       "<td>0.0462891</td>\n",
       "<td>0.0001013</td></tr>\n",
       "<tr><td>Direct</td>\n",
       "<td>0.0288015</td>\n",
       "<td>0.0373920</td>\n",
       "<td>0.0000819</td></tr>\n",
       "<tr><td>Seo</td>\n",
       "<td>0.0324170</td>\n",
       "<td>0.0427111</td>\n",
       "<td>0.0000935</td></tr></table></div>"
      ],
      "text/plain": [
       "source    mean_response    stddev_response    std_error_mean_response\n",
       "--------  ---------------  -----------------  -------------------------\n",
       "Ads       0.0348075        0.0462891          0.000101327\n",
       "Direct    0.0288015        0.037392           8.18515e-05\n",
       "Seo       0.032417         0.0427111          9.34951e-05"
      ]
     },
     "metadata": {},
     "output_type": "display_data"
    },
    {
     "data": {
      "text/plain": [
       "[, , , ]"
      ]
     },
     "execution_count": 22,
     "metadata": {},
     "output_type": "execute_result"
    },
    {
     "name": "stderr",
     "output_type": "stream",
     "text": [
      "/anaconda3/lib/python3.7/site-packages/matplotlib/figure.py:2369: UserWarning: This figure includes Axes that are not compatible with tight_layout, so results might be incorrect.\n",
      "  warnings.warn(\"This figure includes Axes that are not compatible \"\n"
     ]
    },
    {
     "data": {
      "image/png": "[encoded data removed]",
      "text/plain": [
       "<Figure size 504x720 with 4 Axes>"
      ]
     },
     "metadata": {
      "needs_background": "light"
     },
     "output_type": "display_data"
    }
   ],
   "source": [
    "RF.partial_plot(data = train_dat, cols = [\"new_user\", \"country\", \"age\", \"source\"], plot = True)"
   ]
  },
  {
   "cell_type": "markdown",
   "metadata": {},
   "source": [
    "In terms of model performance, the new model is worse than the previous one, but from the new model, we can get valuable insight: the conversion rate among returned users was pretty high."
   ]
  },
  {
   "cell_type": "markdown",
   "metadata": {},
   "source": [
    "The project is asking for insights in terms of how to improve the conversion rate, so the model performance is less important (the accuracy of the refitted model was even worse than a random guess, though we never evaluate a classifier using the accuracy in the data with an unbalanced outcome variable)."
   ]
  },
  {
   "cell_type": "markdown",
   "metadata": {},
   "source": [
    "For how to compare classifier and decide a cut-off, please see my solution using R."
   ]
  },
  {
   "cell_type": "code",
   "execution_count": null,
   "metadata": {},
   "outputs": [],
   "source": []
  }
 ],
 "metadata": {
  "kernelspec": {
   "display_name": "Python 3",
   "language": "python",
   "name": "python3"
  },
  "language_info": {
   "codemirror_mode": {
    "name": "ipython",
    "version": 3
   },
   "file_extension": ".py",
   "mimetype": "text/x-python",
   "name": "python",
   "nbconvert_exporter": "python",
   "pygments_lexer": "ipython3",
   "version": "3.7.3"
  }
 },
 "nbformat": 4,
 "nbformat_minor": 2
}
