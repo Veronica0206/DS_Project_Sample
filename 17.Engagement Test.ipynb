{
 "cells": [
  {
   "cell_type": "markdown",
   "metadata": {},
   "source": [
    "### The company of this exercise is a social network. They decided to add a feature called: Recommended Friends, i.e. they suggest people you may know.\n",
    "### A data scientist has built a model to suggest 5 people to each user. These potential friends will be shown on the user newsfeed. At first, the model is tested just on a random subset of users to see how it performs compared to the newsfeed without the new feature.\n",
    "### The test has been running for some time and your boss asks you to check the results. You are asked to check, for each user, the number of pages visited during their first session since the test started. If this number increased, the test is a success. Specifically, your boss wants to know:\n",
    "#### (1) Is the test winning? That is, should 100\\% of the users see the Recommended Friends feature?\n",
    "#### (2) Is the test performing similarly for all user segments or are there differences among different segments?\n",
    "#### (3) If you identified segments that responded differently to the test, can you guess the reason? Would this change your point 1 conclusions?"
   ]
  },
  {
   "cell_type": "markdown",
   "metadata": {},
   "source": [
    "### Load the package would be used"
   ]
  },
  {
   "cell_type": "code",
   "execution_count": 1,
   "metadata": {},
   "outputs": [],
   "source": [
    "import pandas as pd\n",
    "pd.set_option(\"display.max_columns\", 10)\n",
    "pd.set_option(\"display.width\", 350)\n",
    "\n",
    "from scipy import stats\n",
    "\n",
    "import matplotlib.pyplot as plt\n",
    "from matplotlib import rcParams\n",
    "rcParams.update({\"figure.autolayout\": True})\n",
    "import seaborn as sns\n",
    "sns.set(style = \"white\")\n",
    "sns.set(style = \"whitegrid\", color_codes = True)"
   ]
  },
  {
   "cell_type": "code",
   "execution_count": 2,
   "metadata": {},
   "outputs": [],
   "source": [
    "user = pd.read_csv(\"../Datasets/Engagement_Test/user_table.csv\")\n",
    "test = pd.read_csv(\"../Datasets/Engagement_Test/test_table.csv\")"
   ]
  },
  {
   "cell_type": "markdown",
   "metadata": {},
   "source": [
    "### Look into data"
   ]
  },
  {
   "cell_type": "code",
   "execution_count": null,
   "metadata": {},
   "outputs": [],
   "source": [
    "print(user.shape)\n",
    "print(test.shape)\n",
    "\n",
    "print(user.head)\n",
    "print(test.head)\n",
    "\n",
    "print(user.info)\n",
    "print(test.info)\n",
    "\n",
    "print(len(user[\"user_id\"]) == len(pd.unique(user[\"user_id\"])))\n",
    "print(len(test[\"user_id\"]) == len(pd.unique(test[\"user_id\"])))"
   ]
  },
  {
   "cell_type": "markdown",
   "metadata": {},
   "source": [
    "### Data processing"
   ]
  },
  {
   "cell_type": "code",
   "execution_count": null,
   "metadata": {},
   "outputs": [],
   "source": [
    "dat = user.merge(test, on = \"user_id\", how = \"inner\")\n",
    "dat[\"signup_date\"] = pd.to_datetime(dat[\"signup_date\"])\n",
    "dat[\"date\"] = pd.to_datetime(dat[\"date\"])\n",
    "dat.head()"
   ]
  },
  {
   "cell_type": "markdown",
   "metadata": {},
   "source": [
    "#### (1) Is the test winning? That is, should 100% of the users see the Recommended Friends feature?\n",
    "\n",
    "#### Overall\n",
    "\n",
    "##### Define the function"
   ]
  },
  {
   "cell_type": "code",
   "execution_count": null,
   "metadata": {},
   "outputs": [],
   "source": [
    "def overall_ttest_mean(dat, variable, test):\n",
    "    overall = stats.ttest_ind(dat[dat[test] == 1][variable], dat[dat[test] == 0][variable], equal_var = False)\n",
    "    test_group = dat[dat[test] == 1][variable].mean()\n",
    "    control_group = dat[dat[test] == 0][variable].mean()\n",
    "    pvalue = overall.pvalue\n",
    "    overall_result = {\"test_group\": test_group, \"control_group\": control_group, \"pvalue\": pvalue}\n",
    "    return overall_result"
   ]
  },
  {
   "cell_type": "code",
   "execution_count": null,
   "metadata": {},
   "outputs": [],
   "source": [
    "overall_ttest_mean(dat = dat, variable = \"pages_visited\", test = \"test\")"
   ]
  },
  {
   "cell_type": "markdown",
   "metadata": {},
   "source": [
    "#### (2) Is the test performing similarly for all user segments or are there differences among different segments?\n",
    "\n",
    "#### Stratified test\n",
    "\n",
    "##### Define the function"
   ]
  },
  {
   "cell_type": "code",
   "execution_count": null,
   "metadata": {},
   "outputs": [],
   "source": [
    "def stratified_ttest_mean(dat, stratified, variable, test):\n",
    "    stratified_result = dat.groupby(stratified)[variable].agg({\n",
    "        \"test_group\": lambda x: x[dat[test] == 1].mean(),\n",
    "        \"control_group\": lambda x: x[dat[test] == 0].mean(),\n",
    "        \"p_value\": lambda x: stats.ttest_ind(x[dat[test] == 1], x[dat[test] == 0], equal_var = False).pvalue\n",
    "    }).reindex([\"test_group\", \"control_group\", \"p_value\"], axis = 1)\n",
    "    return stratified_result.sort_values(by = \"p_value\")"
   ]
  },
  {
   "cell_type": "markdown",
   "metadata": {},
   "source": [
    "##### Stratified by browser"
   ]
  },
  {
   "cell_type": "code",
   "execution_count": null,
   "metadata": {},
   "outputs": [],
   "source": [
    "stratified_ttest_mean(dat = dat, stratified = \"browser\", variable = \"pages_visited\", test = \"test\").reset_index()"
   ]
  },
  {
   "cell_type": "markdown",
   "metadata": {},
   "source": [
    "##### Stratified by date"
   ]
  },
  {
   "cell_type": "code",
   "execution_count": null,
   "metadata": {},
   "outputs": [],
   "source": [
    "stratified_ttest_mean(dat = dat, stratified = \"date\", variable = \"pages_visited\", test = \"test\").reset_index().sort_values(by = \"date\")"
   ]
  },
  {
   "cell_type": "markdown",
   "metadata": {},
   "source": [
    "#### (3) If you identified segments that responded differently to the test, can you guess the reason? Would this change your point 1 conclusions?"
   ]
  },
  {
   "cell_type": "code",
   "execution_count": null,
   "metadata": {},
   "outputs": [],
   "source": [
    "overall_ttest_mean(dat = dat[dat[\"browser\"] != \"Opera\"], variable = \"pages_visited\", test = \"test\")"
   ]
  },
  {
   "cell_type": "markdown",
   "metadata": {},
   "source": [
    "Still rush to make the decision to change. Need to consider the novel effect."
   ]
  }
 ],
 "metadata": {
  "kernelspec": {
   "display_name": "Python 3",
   "language": "python",
   "name": "python3"
  },
  "language_info": {
   "codemirror_mode": {
    "name": "ipython",
    "version": 3
   },
   "file_extension": ".py",
   "mimetype": "text/x-python",
   "name": "python",
   "nbconvert_exporter": "python",
   "pygments_lexer": "ipython3",
   "version": "3.8.1"
  }
 },
 "nbformat": 4,
 "nbformat_minor": 4
}
