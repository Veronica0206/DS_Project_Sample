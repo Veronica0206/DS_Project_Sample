{
 "cells": [
  {
   "cell_type": "markdown",
   "metadata": {},
   "source": [
    "### Company XYZ is an Online Travel Agent, such as Expedia, Booking.com, etc. They store their data in JSON files. Each row in the json shows all different cities which have been searched for by a user within the same session (as well as some other info about the user). That is, if I go to company XYZ site and look for hotels in NY and SF within the same session, the corresponding JSON row will show my user id, some basic info about me and the two cities.\n",
    "### You are given the following tasks:\n",
    "#### (1) There was a bug in the code and one country didn't get logged. It just shows up as an empty field (\"\"). Can you guess which country was that? How?\n",
    "#### (2) For each city, find the most likely city to be also searched for within the same session.\n",
    "#### (3) Travel sites are browsed by two kinds of users. Users who are actually planning a trip and users who just dream about a vacation. The first ones have obviously a much higher purchasing intent. Users planning a trip often search for cities close to each other, while users who search for cities far away from each other are often just dreaming about a vacation. That is, a user searching for LA, SF and Las Vegas in the same session is much more likely to book a hotel than a user searching for NY, Paris, Kuala Lumpur (makes sense, right?). Based on this idea, come up with an algorithm that clusters sessions into two groups: high intent and low intent. Explain all assumptions you make along the way."
   ]
  },
  {
   "cell_type": "markdown",
   "metadata": {},
   "source": [
    "### Load the package would be used"
   ]
  },
  {
   "cell_type": "code",
   "execution_count": 1,
   "metadata": {},
   "outputs": [
    {
     "name": "stderr",
     "output_type": "stream",
     "text": [
      "/Library/Frameworks/Python.framework/Versions/3.8/lib/python3.8/site-packages/sklearn/utils/deprecation.py:144: FutureWarning: The sklearn.datasets.samples_generator module is  deprecated in version 0.22 and will be removed in version 0.24. The corresponding classes / functions should instead be imported from sklearn.datasets. Anything that cannot be imported from sklearn.datasets is now part of the private API.\n",
      "  warnings.warn(message, FutureWarning)\n"
     ]
    }
   ],
   "source": [
    "import numpy as np\n",
    "import pandas as pd\n",
    "pd.set_option(\"display.max_columns\", 10)\n",
    "pd.set_option(\"display.width\", 350)\n",
    "import json\n",
    "import seaborn as sns\n",
    "import matplotlib.pyplot as plt\n",
    "\n",
    "from sklearn.datasets.samples_generator import make_blobs\n",
    "from sklearn.cluster import KMeans"
   ]
  },
  {
   "cell_type": "markdown",
   "metadata": {},
   "source": [
    "### Read in the data set"
   ]
  },
  {
   "cell_type": "markdown",
   "metadata": {},
   "source": [
    "#### Define a function"
   ]
  },
  {
   "cell_type": "code",
   "execution_count": 2,
   "metadata": {},
   "outputs": [],
   "source": [
    "def json_parse(dat):\n",
    "    \"\"\"Defina a function to parse json data\"\"\"\n",
    "    session_id = []\n",
    "    unix_timestamp = []\n",
    "    cities = []\n",
    "    user_id = [] \n",
    "    joining_date = []\n",
    "    country = []\n",
    "    \n",
    "    for i in dat:\n",
    "        session_id.append(i[\"session_id\"][0])\n",
    "        unix_timestamp.append(i[\"unix_timestamp\"][0])\n",
    "        cities.append(i[\"cities\"][0])\n",
    "        user_id.append(i[\"user\"][0][0][\"user_id\"])\n",
    "        joining_date.append(i[\"user\"][0][0][\"joining_date\"])\n",
    "        country.append(i[\"user\"][0][0][\"country\"])\n",
    "        \n",
    "    ##### Create pandas dataframe\n",
    "    pd_dat = pd.DataFrame(data = {\"session_id\": session_id, \"timestamp\": unix_timestamp, \"cities\": cities, \n",
    "                                  \"user_id\": user_id, \"joining_date\": joining_date, \"country\": country},\n",
    "                          columns = [\"session_id\", \"timestamp\", \"cities\", \"user_id\", \"joining_date\", \"country\"])\n",
    "    return pd_dat"
   ]
  },
  {
   "cell_type": "markdown",
   "metadata": {},
   "source": [
    "#### Load dataset"
   ]
  },
  {
   "cell_type": "code",
   "execution_count": 3,
   "metadata": {},
   "outputs": [],
   "source": [
    "with open(\"../Datasets/city_search.json\", \"r\") as f:\n",
    "    json_dat = json.load(f)\n",
    "\n",
    "dat = json_parse(dat = json_dat)\n",
    "dat[\"timestamp\"] = pd.to_datetime(dat[\"timestamp\"], unit = \"s\")\n",
    "dat[\"joining_date\"] = pd.to_datetime(dat[\"joining_date\"], format = \"%Y-%m-%d\")"
   ]
  },
  {
   "cell_type": "markdown",
   "metadata": {},
   "source": [
    "### Look into dataset"
   ]
  },
  {
   "cell_type": "code",
   "execution_count": 4,
   "metadata": {},
   "outputs": [
    {
     "name": "stdout",
     "output_type": "stream",
     "text": [
      "(20022, 6)\n",
      "<bound method DataFrame.info of           session_id           timestamp                                        cities  user_id joining_date country\n",
      "0      X061RFWB06K9V 2015-09-17 15:28:28                        New York NY, Newark NJ     2024   2015-03-22      UK\n",
      "1      5AZ2X2A9BHH5U 2015-09-04 08:06:31  New York NY, Jersey City NJ, Philadelphia PA     2853   2015-03-28      DE\n",
      "2      SHTB4IYAX4PX6 2015-08-29 10:18:10                                San Antonio TX    10958   2015-03-06      UK\n",
      "3      JBRB8MZGTX3M4 2015-03-25 07:21:03                                   Edmonton AB     7693   2015-03-12      IT\n",
      "4      YJCMPURC2FL9C 2015-05-02 09:31:07                        Phoenix AZ, Houston TX     7506   2015-02-28      UK\n",
      "...              ...                 ...                                           ...      ...          ...     ...\n",
      "20017  17WJGZOEFEI4W 2015-05-02 05:40:04                       Chicago IL, Montreal QC     4360   2015-03-21        \n",
      "20018  9HCZDQMGU5Z2G 2015-06-16 08:46:00                                    Chicago IL     2057   2015-03-22      IT\n",
      "20019  73ZWORX75Y9A0 2015-08-03 06:47:50                                    Chicago IL     1203   2015-02-28      IT\n",
      "20020  DMWGV9HY74G9T 2015-06-25 12:31:31                       Calgary AB, New York NY     3699   2015-03-24      ES\n",
      "20021  TVJS9Z6EZDPEA 2015-05-07 09:03:13                                   San Jose CA     2375   2015-03-29      DE\n",
      "\n",
      "[20022 rows x 6 columns]>\n",
      "['session_id', 'timestamp', 'cities', 'user_id', 'joining_date', 'country']\n",
      "True\n"
     ]
    },
    {
     "data": {
      "text/html": [
       "<div>\n",
       "<style scoped>\n",
       "    .dataframe tbody tr th:only-of-type {\n",
       "        vertical-align: middle;\n",
       "    }\n",
       "\n",
       "    .dataframe tbody tr th {\n",
       "        vertical-align: top;\n",
       "    }\n",
       "\n",
       "    .dataframe thead th {\n",
       "        text-align: right;\n",
       "    }\n",
       "</style>\n",
       "<table border=\"1\" class=\"dataframe\">\n",
       "  <thead>\n",
       "    <tr style=\"text-align: right;\">\n",
       "      <th></th>\n",
       "      <th>session_id</th>\n",
       "      <th>timestamp</th>\n",
       "      <th>cities</th>\n",
       "      <th>user_id</th>\n",
       "      <th>joining_date</th>\n",
       "      <th>country</th>\n",
       "    </tr>\n",
       "  </thead>\n",
       "  <tbody>\n",
       "    <tr>\n",
       "      <th>0</th>\n",
       "      <td>X061RFWB06K9V</td>\n",
       "      <td>2015-09-17 15:28:28</td>\n",
       "      <td>New York NY, Newark NJ</td>\n",
       "      <td>2024</td>\n",
       "      <td>2015-03-22</td>\n",
       "      <td>UK</td>\n",
       "    </tr>\n",
       "    <tr>\n",
       "      <th>1</th>\n",
       "      <td>5AZ2X2A9BHH5U</td>\n",
       "      <td>2015-09-04 08:06:31</td>\n",
       "      <td>New York NY, Jersey City NJ, Philadelphia PA</td>\n",
       "      <td>2853</td>\n",
       "      <td>2015-03-28</td>\n",
       "      <td>DE</td>\n",
       "    </tr>\n",
       "    <tr>\n",
       "      <th>2</th>\n",
       "      <td>SHTB4IYAX4PX6</td>\n",
       "      <td>2015-08-29 10:18:10</td>\n",
       "      <td>San Antonio TX</td>\n",
       "      <td>10958</td>\n",
       "      <td>2015-03-06</td>\n",
       "      <td>UK</td>\n",
       "    </tr>\n",
       "    <tr>\n",
       "      <th>3</th>\n",
       "      <td>JBRB8MZGTX3M4</td>\n",
       "      <td>2015-03-25 07:21:03</td>\n",
       "      <td>Edmonton AB</td>\n",
       "      <td>7693</td>\n",
       "      <td>2015-03-12</td>\n",
       "      <td>IT</td>\n",
       "    </tr>\n",
       "    <tr>\n",
       "      <th>4</th>\n",
       "      <td>YJCMPURC2FL9C</td>\n",
       "      <td>2015-05-02 09:31:07</td>\n",
       "      <td>Phoenix AZ, Houston TX</td>\n",
       "      <td>7506</td>\n",
       "      <td>2015-02-28</td>\n",
       "      <td>UK</td>\n",
       "    </tr>\n",
       "  </tbody>\n",
       "</table>\n",
       "</div>"
      ],
      "text/plain": [
       "      session_id           timestamp                                        cities  user_id joining_date country\n",
       "0  X061RFWB06K9V 2015-09-17 15:28:28                        New York NY, Newark NJ     2024   2015-03-22      UK\n",
       "1  5AZ2X2A9BHH5U 2015-09-04 08:06:31  New York NY, Jersey City NJ, Philadelphia PA     2853   2015-03-28      DE\n",
       "2  SHTB4IYAX4PX6 2015-08-29 10:18:10                                San Antonio TX    10958   2015-03-06      UK\n",
       "3  JBRB8MZGTX3M4 2015-03-25 07:21:03                                   Edmonton AB     7693   2015-03-12      IT\n",
       "4  YJCMPURC2FL9C 2015-05-02 09:31:07                        Phoenix AZ, Houston TX     7506   2015-02-28      UK"
      ]
     },
     "execution_count": 4,
     "metadata": {},
     "output_type": "execute_result"
    }
   ],
   "source": [
    "print(dat.shape)\n",
    "print(dat.info)\n",
    "print(list(dat.columns))\n",
    "print(len(dat[\"session_id\"]) == len(pd.unique(dat[\"session_id\"])))\n",
    "dat.head()"
   ]
  },
  {
   "cell_type": "markdown",
   "metadata": {},
   "source": [
    "#### (1) There was a bug in the code and one country didn't get logged. It just shows up as an empty field (\"\"). Can you guess which country was that? How?"
   ]
  },
  {
   "cell_type": "code",
   "execution_count": 5,
   "metadata": {},
   "outputs": [
    {
     "data": {
      "text/html": [
       "<div>\n",
       "<style scoped>\n",
       "    .dataframe tbody tr th:only-of-type {\n",
       "        vertical-align: middle;\n",
       "    }\n",
       "\n",
       "    .dataframe tbody tr th {\n",
       "        vertical-align: top;\n",
       "    }\n",
       "\n",
       "    .dataframe thead th {\n",
       "        text-align: right;\n",
       "    }\n",
       "</style>\n",
       "<table border=\"1\" class=\"dataframe\">\n",
       "  <thead>\n",
       "    <tr style=\"text-align: right;\">\n",
       "      <th></th>\n",
       "      <th>country</th>\n",
       "      <th>count</th>\n",
       "    </tr>\n",
       "  </thead>\n",
       "  <tbody>\n",
       "    <tr>\n",
       "      <th>0</th>\n",
       "      <td></td>\n",
       "      <td>2820</td>\n",
       "    </tr>\n",
       "    <tr>\n",
       "      <th>1</th>\n",
       "      <td>DE</td>\n",
       "      <td>3638</td>\n",
       "    </tr>\n",
       "    <tr>\n",
       "      <th>2</th>\n",
       "      <td>ES</td>\n",
       "      <td>1953</td>\n",
       "    </tr>\n",
       "    <tr>\n",
       "      <th>3</th>\n",
       "      <td>FR</td>\n",
       "      <td>2298</td>\n",
       "    </tr>\n",
       "    <tr>\n",
       "      <th>4</th>\n",
       "      <td>IT</td>\n",
       "      <td>1882</td>\n",
       "    </tr>\n",
       "    <tr>\n",
       "      <th>5</th>\n",
       "      <td>UK</td>\n",
       "      <td>3555</td>\n",
       "    </tr>\n",
       "    <tr>\n",
       "      <th>6</th>\n",
       "      <td>US</td>\n",
       "      <td>3876</td>\n",
       "    </tr>\n",
       "  </tbody>\n",
       "</table>\n",
       "</div>"
      ],
      "text/plain": [
       "  country  count\n",
       "0           2820\n",
       "1      DE   3638\n",
       "2      ES   1953\n",
       "3      FR   2298\n",
       "4      IT   1882\n",
       "5      UK   3555\n",
       "6      US   3876"
      ]
     },
     "execution_count": 5,
     "metadata": {},
     "output_type": "execute_result"
    }
   ],
   "source": [
    "dat[\"hour\"] = dat[\"timestamp\"].apply(lambda x: x.hour)\n",
    "grp_country = dat[[\"country\", \"timestamp\"]].groupby(\"country\").count().reset_index().rename(columns = {\"timestamp\": \"count\"})\n",
    "grp_country"
   ]
  },
  {
   "cell_type": "code",
   "execution_count": 6,
   "metadata": {},
   "outputs": [
    {
     "data": {
      "image/png": "[encoded data removed]",
      "text/plain": [
       "<Figure size 2304x2016 with 7 Axes>"
      ]
     },
     "metadata": {},
     "output_type": "display_data"
    }
   ],
   "source": [
    "sns.set(font_scale = 2)\n",
    "time_by_country = sns.FacetGrid(dat[[\"country\", \"hour\"]], row = \"country\", hue = \"country\", palette = \"PuBuGn\",\n",
    "                                height = 4, aspect = 8).map(plt.hist, \"hour\", bins = np.arange(0, 23, 1)).set(xticks = [0, 6, 12, 18, 24], yticks = [0, 200, 400, 600])"
   ]
  },
  {
   "cell_type": "markdown",
   "metadata": {},
   "source": [
    "Missing should be some countries in Asia."
   ]
  },
  {
   "cell_type": "markdown",
   "metadata": {},
   "source": [
    "#### (2) For each city, find the most likely city to be also searched for within the same session.\n",
    "\n",
    "##### Step 1: Create the similarity matrix (Here, we define the similarity as the occasions of search together)"
   ]
  },
  {
   "cell_type": "code",
   "execution_count": 7,
   "metadata": {},
   "outputs": [
    {
     "data": {
      "text/html": [
       "<div>\n",
       "<style scoped>\n",
       "    .dataframe tbody tr th:only-of-type {\n",
       "        vertical-align: middle;\n",
       "    }\n",
       "\n",
       "    .dataframe tbody tr th {\n",
       "        vertical-align: top;\n",
       "    }\n",
       "\n",
       "    .dataframe thead th {\n",
       "        text-align: right;\n",
       "    }\n",
       "</style>\n",
       "<table border=\"1\" class=\"dataframe\">\n",
       "  <thead>\n",
       "    <tr style=\"text-align: right;\">\n",
       "      <th></th>\n",
       "      <th>0</th>\n",
       "      <th>1</th>\n",
       "      <th>2</th>\n",
       "      <th>3</th>\n",
       "      <th>4</th>\n",
       "      <th>...</th>\n",
       "      <th>7</th>\n",
       "      <th>8</th>\n",
       "      <th>9</th>\n",
       "      <th>10</th>\n",
       "      <th>session_id</th>\n",
       "    </tr>\n",
       "  </thead>\n",
       "  <tbody>\n",
       "    <tr>\n",
       "      <th>0</th>\n",
       "      <td>New York NY</td>\n",
       "      <td>Newark NJ</td>\n",
       "      <td>None</td>\n",
       "      <td>None</td>\n",
       "      <td>None</td>\n",
       "      <td>...</td>\n",
       "      <td>None</td>\n",
       "      <td>None</td>\n",
       "      <td>None</td>\n",
       "      <td>None</td>\n",
       "      <td>X061RFWB06K9V</td>\n",
       "    </tr>\n",
       "    <tr>\n",
       "      <th>1</th>\n",
       "      <td>New York NY</td>\n",
       "      <td>Jersey City NJ</td>\n",
       "      <td>Philadelphia PA</td>\n",
       "      <td>None</td>\n",
       "      <td>None</td>\n",
       "      <td>...</td>\n",
       "      <td>None</td>\n",
       "      <td>None</td>\n",
       "      <td>None</td>\n",
       "      <td>None</td>\n",
       "      <td>5AZ2X2A9BHH5U</td>\n",
       "    </tr>\n",
       "    <tr>\n",
       "      <th>2</th>\n",
       "      <td>San Antonio TX</td>\n",
       "      <td>None</td>\n",
       "      <td>None</td>\n",
       "      <td>None</td>\n",
       "      <td>None</td>\n",
       "      <td>...</td>\n",
       "      <td>None</td>\n",
       "      <td>None</td>\n",
       "      <td>None</td>\n",
       "      <td>None</td>\n",
       "      <td>SHTB4IYAX4PX6</td>\n",
       "    </tr>\n",
       "    <tr>\n",
       "      <th>3</th>\n",
       "      <td>Edmonton AB</td>\n",
       "      <td>None</td>\n",
       "      <td>None</td>\n",
       "      <td>None</td>\n",
       "      <td>None</td>\n",
       "      <td>...</td>\n",
       "      <td>None</td>\n",
       "      <td>None</td>\n",
       "      <td>None</td>\n",
       "      <td>None</td>\n",
       "      <td>JBRB8MZGTX3M4</td>\n",
       "    </tr>\n",
       "    <tr>\n",
       "      <th>4</th>\n",
       "      <td>Phoenix AZ</td>\n",
       "      <td>Houston TX</td>\n",
       "      <td>None</td>\n",
       "      <td>None</td>\n",
       "      <td>None</td>\n",
       "      <td>...</td>\n",
       "      <td>None</td>\n",
       "      <td>None</td>\n",
       "      <td>None</td>\n",
       "      <td>None</td>\n",
       "      <td>YJCMPURC2FL9C</td>\n",
       "    </tr>\n",
       "  </tbody>\n",
       "</table>\n",
       "<p>5 rows × 12 columns</p>\n",
       "</div>"
      ],
      "text/plain": [
       "                0               1                2     3     4  ...     7     8     9    10     session_id\n",
       "0     New York NY       Newark NJ             None  None  None  ...  None  None  None  None  X061RFWB06K9V\n",
       "1     New York NY  Jersey City NJ  Philadelphia PA  None  None  ...  None  None  None  None  5AZ2X2A9BHH5U\n",
       "2  San Antonio TX            None             None  None  None  ...  None  None  None  None  SHTB4IYAX4PX6\n",
       "3     Edmonton AB            None             None  None  None  ...  None  None  None  None  JBRB8MZGTX3M4\n",
       "4      Phoenix AZ      Houston TX             None  None  None  ...  None  None  None  None  YJCMPURC2FL9C\n",
       "\n",
       "[5 rows x 12 columns]"
      ]
     },
     "execution_count": 7,
     "metadata": {},
     "output_type": "execute_result"
    }
   ],
   "source": [
    "city_split = dat[\"cities\"].str.split(\", \", n = 10, expand = True)\n",
    "city_split[\"session_id\"] = dat[\"session_id\"]\n",
    "city_split.head()"
   ]
  },
  {
   "cell_type": "code",
   "execution_count": 8,
   "metadata": {},
   "outputs": [
    {
     "data": {
      "text/html": [
       "<div>\n",
       "<style scoped>\n",
       "    .dataframe tbody tr th:only-of-type {\n",
       "        vertical-align: middle;\n",
       "    }\n",
       "\n",
       "    .dataframe tbody tr th {\n",
       "        vertical-align: top;\n",
       "    }\n",
       "\n",
       "    .dataframe thead th {\n",
       "        text-align: right;\n",
       "    }\n",
       "</style>\n",
       "<table border=\"1\" class=\"dataframe\">\n",
       "  <thead>\n",
       "    <tr style=\"text-align: right;\">\n",
       "      <th></th>\n",
       "      <th>session_id</th>\n",
       "      <th>variable</th>\n",
       "      <th>value</th>\n",
       "    </tr>\n",
       "  </thead>\n",
       "  <tbody>\n",
       "    <tr>\n",
       "      <th>0</th>\n",
       "      <td>X061RFWB06K9V</td>\n",
       "      <td>0</td>\n",
       "      <td>New York NY</td>\n",
       "    </tr>\n",
       "    <tr>\n",
       "      <th>20022</th>\n",
       "      <td>X061RFWB06K9V</td>\n",
       "      <td>1</td>\n",
       "      <td>Newark NJ</td>\n",
       "    </tr>\n",
       "  </tbody>\n",
       "</table>\n",
       "</div>"
      ],
      "text/plain": [
       "          session_id variable        value\n",
       "0      X061RFWB06K9V        0  New York NY\n",
       "20022  X061RFWB06K9V        1    Newark NJ"
      ]
     },
     "execution_count": 8,
     "metadata": {},
     "output_type": "execute_result"
    }
   ],
   "source": [
    "city_long = pd.melt(city_split, id_vars = [\"session_id\"], value_vars = city_split.columns[0:11])\n",
    "city_long = city_long.dropna()\n",
    "city_long.head()\n",
    "city_long[city_long[\"session_id\"] == \"X061RFWB06K9V\"]"
   ]
  },
  {
   "cell_type": "code",
   "execution_count": 9,
   "metadata": {},
   "outputs": [
    {
     "data": {
      "text/html": [
       "<div>\n",
       "<style scoped>\n",
       "    .dataframe tbody tr th:only-of-type {\n",
       "        vertical-align: middle;\n",
       "    }\n",
       "\n",
       "    .dataframe tbody tr th {\n",
       "        vertical-align: top;\n",
       "    }\n",
       "\n",
       "    .dataframe thead th {\n",
       "        text-align: right;\n",
       "    }\n",
       "</style>\n",
       "<table border=\"1\" class=\"dataframe\">\n",
       "  <thead>\n",
       "    <tr style=\"text-align: right;\">\n",
       "      <th>value</th>\n",
       "      <th>session_id</th>\n",
       "      <th>Anaheim CA</th>\n",
       "      <th>Arlington TX</th>\n",
       "      <th>Atlanta GA</th>\n",
       "      <th>Austin TX</th>\n",
       "      <th>...</th>\n",
       "      <th>Victoria BC</th>\n",
       "      <th>Virginia Beach VA</th>\n",
       "      <th>WASHINGTON DC</th>\n",
       "      <th>Wichita KS</th>\n",
       "      <th>Windsor ON</th>\n",
       "    </tr>\n",
       "  </thead>\n",
       "  <tbody>\n",
       "    <tr>\n",
       "      <th>0</th>\n",
       "      <td>0004TZ56GY6S7</td>\n",
       "      <td>0</td>\n",
       "      <td>0</td>\n",
       "      <td>0</td>\n",
       "      <td>0</td>\n",
       "      <td>...</td>\n",
       "      <td>0</td>\n",
       "      <td>0</td>\n",
       "      <td>0</td>\n",
       "      <td>0</td>\n",
       "      <td>0</td>\n",
       "    </tr>\n",
       "    <tr>\n",
       "      <th>1</th>\n",
       "      <td>004M08GLQ7ZXH</td>\n",
       "      <td>0</td>\n",
       "      <td>0</td>\n",
       "      <td>0</td>\n",
       "      <td>0</td>\n",
       "      <td>...</td>\n",
       "      <td>0</td>\n",
       "      <td>0</td>\n",
       "      <td>0</td>\n",
       "      <td>0</td>\n",
       "      <td>0</td>\n",
       "    </tr>\n",
       "    <tr>\n",
       "      <th>2</th>\n",
       "      <td>007O320DQ7AXT</td>\n",
       "      <td>0</td>\n",
       "      <td>0</td>\n",
       "      <td>0</td>\n",
       "      <td>0</td>\n",
       "      <td>...</td>\n",
       "      <td>0</td>\n",
       "      <td>0</td>\n",
       "      <td>0</td>\n",
       "      <td>0</td>\n",
       "      <td>0</td>\n",
       "    </tr>\n",
       "    <tr>\n",
       "      <th>3</th>\n",
       "      <td>007UIISVZJOW5</td>\n",
       "      <td>0</td>\n",
       "      <td>0</td>\n",
       "      <td>0</td>\n",
       "      <td>0</td>\n",
       "      <td>...</td>\n",
       "      <td>0</td>\n",
       "      <td>0</td>\n",
       "      <td>0</td>\n",
       "      <td>0</td>\n",
       "      <td>0</td>\n",
       "    </tr>\n",
       "    <tr>\n",
       "      <th>4</th>\n",
       "      <td>008ZL2D1PLC4O</td>\n",
       "      <td>0</td>\n",
       "      <td>0</td>\n",
       "      <td>0</td>\n",
       "      <td>0</td>\n",
       "      <td>...</td>\n",
       "      <td>0</td>\n",
       "      <td>0</td>\n",
       "      <td>0</td>\n",
       "      <td>0</td>\n",
       "      <td>0</td>\n",
       "    </tr>\n",
       "  </tbody>\n",
       "</table>\n",
       "<p>5 rows × 90 columns</p>\n",
       "</div>"
      ],
      "text/plain": [
       "value     session_id  Anaheim CA  Arlington TX  Atlanta GA  Austin TX  ...  Victoria BC  Virginia Beach VA  WASHINGTON DC  Wichita KS  Windsor ON\n",
       "0      0004TZ56GY6S7           0             0           0          0  ...            0                  0              0           0           0\n",
       "1      004M08GLQ7ZXH           0             0           0          0  ...            0                  0              0           0           0\n",
       "2      007O320DQ7AXT           0             0           0          0  ...            0                  0              0           0           0\n",
       "3      007UIISVZJOW5           0             0           0          0  ...            0                  0              0           0           0\n",
       "4      008ZL2D1PLC4O           0             0           0          0  ...            0                  0              0           0           0\n",
       "\n",
       "[5 rows x 90 columns]"
      ]
     },
     "execution_count": 9,
     "metadata": {},
     "output_type": "execute_result"
    }
   ],
   "source": [
    "city_wide = pd.crosstab(city_long.session_id, city_long.value, margins = False).reset_index()\n",
    "city_wide.head()"
   ]
  },
  {
   "cell_type": "code",
   "execution_count": 10,
   "metadata": {},
   "outputs": [
    {
     "data": {
      "text/plain": [
       "89"
      ]
     },
     "execution_count": 10,
     "metadata": {},
     "output_type": "execute_result"
    }
   ],
   "source": [
    "cities = pd.Series(city_wide.columns)[1:]\n",
    "len(cities)"
   ]
  },
  {
   "cell_type": "code",
   "execution_count": 11,
   "metadata": {},
   "outputs": [],
   "source": [
    "city_matrix = city_wide.drop(columns = \"session_id\")"
   ]
  },
  {
   "cell_type": "code",
   "execution_count": 12,
   "metadata": {},
   "outputs": [],
   "source": [
    "city_pair = np.zeros((len(cities), len(cities)))\n",
    "\n",
    "for i in range(len(city_matrix)):\n",
    "    search = city_matrix.iloc[i][city_matrix.iloc[i] != 0]\n",
    "    if len(search) == 1:\n",
    "        continue\n",
    "    for j in range(len(search)):\n",
    "        index1 = cities[cities == search.index[j]].index - 1\n",
    "        for k in range(j + 1, len(search)):\n",
    "            index2 = cities[cities == search.index[k]].index - 1\n",
    "            city_pair[index1, index2] += 1\n",
    "            city_pair[index2, index1] += 1"
   ]
  },
  {
   "cell_type": "code",
   "execution_count": 13,
   "metadata": {},
   "outputs": [
    {
     "data": {
      "text/html": [
       "<div>\n",
       "<style scoped>\n",
       "    .dataframe tbody tr th:only-of-type {\n",
       "        vertical-align: middle;\n",
       "    }\n",
       "\n",
       "    .dataframe tbody tr th {\n",
       "        vertical-align: top;\n",
       "    }\n",
       "\n",
       "    .dataframe thead th {\n",
       "        text-align: right;\n",
       "    }\n",
       "</style>\n",
       "<table border=\"1\" class=\"dataframe\">\n",
       "  <thead>\n",
       "    <tr style=\"text-align: right;\">\n",
       "      <th>value</th>\n",
       "      <th>Anaheim CA</th>\n",
       "      <th>Arlington TX</th>\n",
       "      <th>Atlanta GA</th>\n",
       "      <th>Austin TX</th>\n",
       "      <th>Bakersfield CA</th>\n",
       "      <th>...</th>\n",
       "      <th>Victoria BC</th>\n",
       "      <th>Virginia Beach VA</th>\n",
       "      <th>WASHINGTON DC</th>\n",
       "      <th>Wichita KS</th>\n",
       "      <th>Windsor ON</th>\n",
       "    </tr>\n",
       "    <tr>\n",
       "      <th>value</th>\n",
       "      <th></th>\n",
       "      <th></th>\n",
       "      <th></th>\n",
       "      <th></th>\n",
       "      <th></th>\n",
       "      <th></th>\n",
       "      <th></th>\n",
       "      <th></th>\n",
       "      <th></th>\n",
       "      <th></th>\n",
       "      <th></th>\n",
       "    </tr>\n",
       "  </thead>\n",
       "  <tbody>\n",
       "    <tr>\n",
       "      <th>Anaheim CA</th>\n",
       "      <td>0.0</td>\n",
       "      <td>0.0</td>\n",
       "      <td>0.0</td>\n",
       "      <td>0.0</td>\n",
       "      <td>2.0</td>\n",
       "      <td>...</td>\n",
       "      <td>0.0</td>\n",
       "      <td>0.0</td>\n",
       "      <td>0.0</td>\n",
       "      <td>0.0</td>\n",
       "      <td>0.0</td>\n",
       "    </tr>\n",
       "    <tr>\n",
       "      <th>Arlington TX</th>\n",
       "      <td>0.0</td>\n",
       "      <td>0.0</td>\n",
       "      <td>0.0</td>\n",
       "      <td>34.0</td>\n",
       "      <td>0.0</td>\n",
       "      <td>...</td>\n",
       "      <td>0.0</td>\n",
       "      <td>0.0</td>\n",
       "      <td>0.0</td>\n",
       "      <td>0.0</td>\n",
       "      <td>0.0</td>\n",
       "    </tr>\n",
       "    <tr>\n",
       "      <th>Atlanta GA</th>\n",
       "      <td>0.0</td>\n",
       "      <td>0.0</td>\n",
       "      <td>0.0</td>\n",
       "      <td>0.0</td>\n",
       "      <td>0.0</td>\n",
       "      <td>...</td>\n",
       "      <td>0.0</td>\n",
       "      <td>0.0</td>\n",
       "      <td>0.0</td>\n",
       "      <td>0.0</td>\n",
       "      <td>0.0</td>\n",
       "    </tr>\n",
       "    <tr>\n",
       "      <th>Austin TX</th>\n",
       "      <td>0.0</td>\n",
       "      <td>34.0</td>\n",
       "      <td>0.0</td>\n",
       "      <td>0.0</td>\n",
       "      <td>0.0</td>\n",
       "      <td>...</td>\n",
       "      <td>0.0</td>\n",
       "      <td>0.0</td>\n",
       "      <td>0.0</td>\n",
       "      <td>0.0</td>\n",
       "      <td>0.0</td>\n",
       "    </tr>\n",
       "    <tr>\n",
       "      <th>Bakersfield CA</th>\n",
       "      <td>2.0</td>\n",
       "      <td>0.0</td>\n",
       "      <td>0.0</td>\n",
       "      <td>0.0</td>\n",
       "      <td>0.0</td>\n",
       "      <td>...</td>\n",
       "      <td>0.0</td>\n",
       "      <td>0.0</td>\n",
       "      <td>0.0</td>\n",
       "      <td>0.0</td>\n",
       "      <td>0.0</td>\n",
       "    </tr>\n",
       "  </tbody>\n",
       "</table>\n",
       "<p>5 rows × 89 columns</p>\n",
       "</div>"
      ],
      "text/plain": [
       "value           Anaheim CA  Arlington TX  Atlanta GA  Austin TX  Bakersfield CA  ...  Victoria BC  Virginia Beach VA  WASHINGTON DC  Wichita KS  Windsor ON\n",
       "value                                                                            ...                                                                       \n",
       "Anaheim CA             0.0           0.0         0.0        0.0             2.0  ...          0.0                0.0            0.0         0.0         0.0\n",
       "Arlington TX           0.0           0.0         0.0       34.0             0.0  ...          0.0                0.0            0.0         0.0         0.0\n",
       "Atlanta GA             0.0           0.0         0.0        0.0             0.0  ...          0.0                0.0            0.0         0.0         0.0\n",
       "Austin TX              0.0          34.0         0.0        0.0             0.0  ...          0.0                0.0            0.0         0.0         0.0\n",
       "Bakersfield CA         2.0           0.0         0.0        0.0             0.0  ...          0.0                0.0            0.0         0.0         0.0\n",
       "\n",
       "[5 rows x 89 columns]"
      ]
     },
     "execution_count": 13,
     "metadata": {},
     "output_type": "execute_result"
    }
   ],
   "source": [
    "df_similarity = pd.DataFrame(city_pair, index = cities, columns = cities)\n",
    "df_similarity.head()"
   ]
  },
  {
   "cell_type": "code",
   "execution_count": 14,
   "metadata": {},
   "outputs": [
    {
     "data": {
      "text/plain": [
       "<matplotlib.axes._subplots.AxesSubplot at 0x11a871580>"
      ]
     },
     "execution_count": 14,
     "metadata": {},
     "output_type": "execute_result"
    },
    {
     "data": {
      "image/png": "[encoded data removed]",
      "text/plain": [
       "<Figure size 864x864 with 2 Axes>"
      ]
     },
     "metadata": {},
     "output_type": "display_data"
    }
   ],
   "source": [
    "# visualization\n",
    "sns.set(font_scale = 0.5)\n",
    "plt.figure(figsize = [12, 12])\n",
    "sns.heatmap(df_similarity, cmap = \"YlGnBu\")"
   ]
  },
  {
   "cell_type": "code",
   "execution_count": 15,
   "metadata": {},
   "outputs": [
    {
     "name": "stderr",
     "output_type": "stream",
     "text": [
      "/Library/Frameworks/Python.framework/Versions/3.8/lib/python3.8/site-packages/numpy/core/fromnumeric.py:61: FutureWarning: \n",
      "The current behaviour of 'Series.argmax' is deprecated, use 'idxmax'\n",
      "instead.\n",
      "The behavior of 'argmax' will be corrected to return the positional\n",
      "maximum in the future. For now, use 'series.values.argmax' or\n",
      "'np.argmax(np.array(values))' to get the position of the maximum\n",
      "row.\n",
      "  return bound(*args, **kwds)\n"
     ]
    },
    {
     "data": {
      "text/html": [
       "<div>\n",
       "<style scoped>\n",
       "    .dataframe tbody tr th:only-of-type {\n",
       "        vertical-align: middle;\n",
       "    }\n",
       "\n",
       "    .dataframe tbody tr th {\n",
       "        vertical-align: top;\n",
       "    }\n",
       "\n",
       "    .dataframe thead th {\n",
       "        text-align: right;\n",
       "    }\n",
       "</style>\n",
       "<table border=\"1\" class=\"dataframe\">\n",
       "  <thead>\n",
       "    <tr style=\"text-align: right;\">\n",
       "      <th></th>\n",
       "      <th>value</th>\n",
       "      <th>most similar</th>\n",
       "    </tr>\n",
       "  </thead>\n",
       "  <tbody>\n",
       "    <tr>\n",
       "      <th>0</th>\n",
       "      <td>Anaheim CA</td>\n",
       "      <td>Los Angeles CA</td>\n",
       "    </tr>\n",
       "    <tr>\n",
       "      <th>1</th>\n",
       "      <td>Arlington TX</td>\n",
       "      <td>Dallas TX</td>\n",
       "    </tr>\n",
       "    <tr>\n",
       "      <th>2</th>\n",
       "      <td>Atlanta GA</td>\n",
       "      <td>Jacksonville FL</td>\n",
       "    </tr>\n",
       "    <tr>\n",
       "      <th>3</th>\n",
       "      <td>Austin TX</td>\n",
       "      <td>Houston TX</td>\n",
       "    </tr>\n",
       "    <tr>\n",
       "      <th>4</th>\n",
       "      <td>Bakersfield CA</td>\n",
       "      <td>Los Angeles CA</td>\n",
       "    </tr>\n",
       "    <tr>\n",
       "      <th>...</th>\n",
       "      <td>...</td>\n",
       "      <td>...</td>\n",
       "    </tr>\n",
       "    <tr>\n",
       "      <th>84</th>\n",
       "      <td>Victoria BC</td>\n",
       "      <td>Vancouver BC</td>\n",
       "    </tr>\n",
       "    <tr>\n",
       "      <th>85</th>\n",
       "      <td>Virginia Beach VA</td>\n",
       "      <td>New York NY</td>\n",
       "    </tr>\n",
       "    <tr>\n",
       "      <th>86</th>\n",
       "      <td>WASHINGTON DC</td>\n",
       "      <td>New York NY</td>\n",
       "    </tr>\n",
       "    <tr>\n",
       "      <th>87</th>\n",
       "      <td>Wichita KS</td>\n",
       "      <td>Oklahoma City OK</td>\n",
       "    </tr>\n",
       "    <tr>\n",
       "      <th>88</th>\n",
       "      <td>Windsor ON</td>\n",
       "      <td>Detroit MI</td>\n",
       "    </tr>\n",
       "  </tbody>\n",
       "</table>\n",
       "<p>89 rows × 2 columns</p>\n",
       "</div>"
      ],
      "text/plain": [
       "                value      most similar\n",
       "0          Anaheim CA    Los Angeles CA\n",
       "1        Arlington TX         Dallas TX\n",
       "2          Atlanta GA   Jacksonville FL\n",
       "3           Austin TX        Houston TX\n",
       "4      Bakersfield CA    Los Angeles CA\n",
       "..                ...               ...\n",
       "84        Victoria BC      Vancouver BC\n",
       "85  Virginia Beach VA       New York NY\n",
       "86      WASHINGTON DC       New York NY\n",
       "87         Wichita KS  Oklahoma City OK\n",
       "88         Windsor ON        Detroit MI\n",
       "\n",
       "[89 rows x 2 columns]"
      ]
     },
     "execution_count": 15,
     "metadata": {},
     "output_type": "execute_result"
    }
   ],
   "source": [
    "similar_city = df_similarity.apply(np.argmax, axis = 0).reset_index()\n",
    "similar_city = similar_city.rename(columns = {\"index\": \"city\", 0: 'most similar'})\n",
    "similar_city"
   ]
  },
  {
   "cell_type": "code",
   "execution_count": 16,
   "metadata": {},
   "outputs": [
    {
     "data": {
      "text/html": [
       "<div>\n",
       "<style scoped>\n",
       "    .dataframe tbody tr th:only-of-type {\n",
       "        vertical-align: middle;\n",
       "    }\n",
       "\n",
       "    .dataframe tbody tr th {\n",
       "        vertical-align: top;\n",
       "    }\n",
       "\n",
       "    .dataframe thead th {\n",
       "        text-align: right;\n",
       "    }\n",
       "</style>\n",
       "<table border=\"1\" class=\"dataframe\">\n",
       "  <thead>\n",
       "    <tr style=\"text-align: right;\">\n",
       "      <th>value</th>\n",
       "      <th>Anaheim CA</th>\n",
       "      <th>Arlington TX</th>\n",
       "      <th>Atlanta GA</th>\n",
       "      <th>Austin TX</th>\n",
       "      <th>Bakersfield CA</th>\n",
       "      <th>...</th>\n",
       "      <th>Victoria BC</th>\n",
       "      <th>Virginia Beach VA</th>\n",
       "      <th>WASHINGTON DC</th>\n",
       "      <th>Wichita KS</th>\n",
       "      <th>Windsor ON</th>\n",
       "    </tr>\n",
       "  </thead>\n",
       "  <tbody>\n",
       "    <tr>\n",
       "      <th>0</th>\n",
       "      <td>0</td>\n",
       "      <td>0</td>\n",
       "      <td>0</td>\n",
       "      <td>0</td>\n",
       "      <td>0</td>\n",
       "      <td>...</td>\n",
       "      <td>0</td>\n",
       "      <td>0</td>\n",
       "      <td>0</td>\n",
       "      <td>0</td>\n",
       "      <td>0</td>\n",
       "    </tr>\n",
       "    <tr>\n",
       "      <th>1</th>\n",
       "      <td>0</td>\n",
       "      <td>0</td>\n",
       "      <td>0</td>\n",
       "      <td>0</td>\n",
       "      <td>0</td>\n",
       "      <td>...</td>\n",
       "      <td>0</td>\n",
       "      <td>0</td>\n",
       "      <td>0</td>\n",
       "      <td>0</td>\n",
       "      <td>0</td>\n",
       "    </tr>\n",
       "    <tr>\n",
       "      <th>2</th>\n",
       "      <td>0</td>\n",
       "      <td>0</td>\n",
       "      <td>0</td>\n",
       "      <td>0</td>\n",
       "      <td>0</td>\n",
       "      <td>...</td>\n",
       "      <td>0</td>\n",
       "      <td>0</td>\n",
       "      <td>0</td>\n",
       "      <td>0</td>\n",
       "      <td>0</td>\n",
       "    </tr>\n",
       "    <tr>\n",
       "      <th>3</th>\n",
       "      <td>0</td>\n",
       "      <td>0</td>\n",
       "      <td>0</td>\n",
       "      <td>0</td>\n",
       "      <td>0</td>\n",
       "      <td>...</td>\n",
       "      <td>0</td>\n",
       "      <td>0</td>\n",
       "      <td>0</td>\n",
       "      <td>0</td>\n",
       "      <td>0</td>\n",
       "    </tr>\n",
       "    <tr>\n",
       "      <th>4</th>\n",
       "      <td>0</td>\n",
       "      <td>0</td>\n",
       "      <td>0</td>\n",
       "      <td>0</td>\n",
       "      <td>0</td>\n",
       "      <td>...</td>\n",
       "      <td>0</td>\n",
       "      <td>0</td>\n",
       "      <td>0</td>\n",
       "      <td>0</td>\n",
       "      <td>0</td>\n",
       "    </tr>\n",
       "  </tbody>\n",
       "</table>\n",
       "<p>5 rows × 89 columns</p>\n",
       "</div>"
      ],
      "text/plain": [
       "value  Anaheim CA  Arlington TX  Atlanta GA  Austin TX  Bakersfield CA  ...  Victoria BC  Virginia Beach VA  WASHINGTON DC  Wichita KS  Windsor ON\n",
       "0               0             0           0          0               0  ...            0                  0              0           0           0\n",
       "1               0             0           0          0               0  ...            0                  0              0           0           0\n",
       "2               0             0           0          0               0  ...            0                  0              0           0           0\n",
       "3               0             0           0          0               0  ...            0                  0              0           0           0\n",
       "4               0             0           0          0               0  ...            0                  0              0           0           0\n",
       "\n",
       "[5 rows x 89 columns]"
      ]
     },
     "execution_count": 16,
     "metadata": {},
     "output_type": "execute_result"
    }
   ],
   "source": [
    "city_matrix.head()"
   ]
  },
  {
   "cell_type": "markdown",
   "metadata": {},
   "source": [
    "#### (3) Travel sites are browsed by two kinds of users. Users who are actually planning a trip and users who just dream about a vacation. The first ones have obviously a much higher purchasing intent. Users planning a trip often search for cities close to each other, while users who search for cities far away from each other are often just dreaming about a vacation. That is, a user searching for LA, SF and Las Vegas in the same session is much more likely to book a hotel than a user searching for NY, Paris, Kuala Lumpur (makes sense, right?). Based on this idea, come up with an algorithm that clusters sessions into two groups: high intent and low intent. Explain all assumptions you make along the way."
   ]
  },
  {
   "cell_type": "code",
   "execution_count": 17,
   "metadata": {},
   "outputs": [],
   "source": [
    "intension = np.zeros(len(city_matrix))\n",
    "scores = 0\n",
    "\n",
    "for i in range(len(city_matrix)):\n",
    "    search = city_matrix.iloc[i][city_matrix.iloc[i] != 0]\n",
    "    if len(search) == 1:\n",
    "        continue\n",
    "    else:\n",
    "        for j in range(len(search)):\n",
    "            index1 = cities[cities == search.index[j]].index - 1\n",
    "            for k in range(j + 1, len(search)):\n",
    "                index2 = cities[cities == search.index[k]].index - 1\n",
    "                scores += df_similarity.iloc[index1.values, index2.values].values\n",
    "    intension[i] = scores\n",
    "    scores = 0"
   ]
  },
  {
   "cell_type": "code",
   "execution_count": 18,
   "metadata": {},
   "outputs": [
    {
     "name": "stdout",
     "output_type": "stream",
     "text": [
      "value     intension        length\n",
      "count  20022.000000  20022.000000\n",
      "mean     135.706173      1.648986\n",
      "std      272.342103      0.874272\n",
      "min        0.000000      1.000000\n",
      "25%        0.000000      1.000000\n",
      "50%        0.000000      1.000000\n",
      "75%      174.000000      2.000000\n",
      "max     3069.000000     11.000000\n"
     ]
    },
    {
     "data": {
      "text/html": [
       "<div>\n",
       "<style scoped>\n",
       "    .dataframe tbody tr th:only-of-type {\n",
       "        vertical-align: middle;\n",
       "    }\n",
       "\n",
       "    .dataframe tbody tr th {\n",
       "        vertical-align: top;\n",
       "    }\n",
       "\n",
       "    .dataframe thead th {\n",
       "        text-align: right;\n",
       "    }\n",
       "</style>\n",
       "<table border=\"1\" class=\"dataframe\">\n",
       "  <thead>\n",
       "    <tr style=\"text-align: right;\">\n",
       "      <th>value</th>\n",
       "      <th>intension</th>\n",
       "      <th>length</th>\n",
       "    </tr>\n",
       "  </thead>\n",
       "  <tbody>\n",
       "    <tr>\n",
       "      <th>0</th>\n",
       "      <td>60.0</td>\n",
       "      <td>2</td>\n",
       "    </tr>\n",
       "    <tr>\n",
       "      <th>1</th>\n",
       "      <td>0.0</td>\n",
       "      <td>1</td>\n",
       "    </tr>\n",
       "    <tr>\n",
       "      <th>2</th>\n",
       "      <td>0.0</td>\n",
       "      <td>1</td>\n",
       "    </tr>\n",
       "    <tr>\n",
       "      <th>3</th>\n",
       "      <td>0.0</td>\n",
       "      <td>1</td>\n",
       "    </tr>\n",
       "    <tr>\n",
       "      <th>4</th>\n",
       "      <td>270.0</td>\n",
       "      <td>2</td>\n",
       "    </tr>\n",
       "  </tbody>\n",
       "</table>\n",
       "</div>"
      ],
      "text/plain": [
       "value  intension  length\n",
       "0           60.0       2\n",
       "1            0.0       1\n",
       "2            0.0       1\n",
       "3            0.0       1\n",
       "4          270.0       2"
      ]
     },
     "execution_count": 18,
     "metadata": {},
     "output_type": "execute_result"
    }
   ],
   "source": [
    "city_wide[\"intension\"] = intension\n",
    "city_wide[\"length\"] = city_matrix.sum(axis = 1)\n",
    "city_cluster = city_wide[[\"intension\", \"length\"]]\n",
    "print(city_cluster.describe())\n",
    "city_cluster.head()"
   ]
  },
  {
   "cell_type": "code",
   "execution_count": 19,
   "metadata": {},
   "outputs": [
    {
     "data": {
      "image/png": "[encoded data removed]",
      "text/plain": [
       "<Figure size 432x288 with 1 Axes>"
      ]
     },
     "metadata": {},
     "output_type": "display_data"
    }
   ],
   "source": [
    "wcss = []\n",
    "for i in range(1, 11):\n",
    "    kmeans = KMeans(n_clusters = i, init = \"k-means++\", max_iter = 300, n_init = 10, random_state = 0)\n",
    "    kmeans.fit(city_cluster.dropna())\n",
    "    wcss.append(kmeans.inertia_)\n",
    "plt.plot(range(1, 11), wcss)\n",
    "plt.title(\"Elbow Method\")\n",
    "plt.xlabel(\"Number of clusters\")\n",
    "plt.ylabel(\"WCSS\")\n",
    "plt.show()"
   ]
  },
  {
   "cell_type": "code",
   "execution_count": 20,
   "metadata": {},
   "outputs": [
    {
     "data": {
      "text/plain": [
       "array([[903.67446809,   3.42695035],\n",
       "       [ 77.52675693,   1.51429185]])"
      ]
     },
     "execution_count": 20,
     "metadata": {},
     "output_type": "execute_result"
    }
   ],
   "source": [
    "##### # of clusters as requested\n",
    "kmeans2 = KMeans(n_clusters = 2, random_state = 0).fit(city_cluster.dropna())       \n",
    "kmeans2.cluster_centers_"
   ]
  },
  {
   "cell_type": "code",
   "execution_count": 21,
   "metadata": {},
   "outputs": [
    {
     "data": {
      "text/plain": [
       "array([[1.35955882e+03, 3.93566176e+00],\n",
       "       [3.04692166e+01, 1.35853612e+00],\n",
       "       [4.00629580e+02, 2.53891415e+00]])"
      ]
     },
     "execution_count": 21,
     "metadata": {},
     "output_type": "execute_result"
    }
   ],
   "source": [
    "##### # of clusters from the statistical perspective\n",
    "kmeans3 = KMeans(n_clusters = 3, random_state = 0).fit(city_cluster.dropna())       \n",
    "kmeans3.cluster_centers_"
   ]
  },
  {
   "cell_type": "code",
   "execution_count": null,
   "metadata": {},
   "outputs": [],
   "source": []
  },
  {
   "cell_type": "code",
   "execution_count": null,
   "metadata": {},
   "outputs": [],
   "source": []
  },
  {
   "cell_type": "code",
   "execution_count": null,
   "metadata": {},
   "outputs": [],
   "source": []
  },
  {
   "cell_type": "code",
   "execution_count": null,
   "metadata": {},
   "outputs": [],
   "source": []
  },
  {
   "cell_type": "code",
   "execution_count": null,
   "metadata": {},
   "outputs": [],
   "source": []
  },
  {
   "cell_type": "code",
   "execution_count": null,
   "metadata": {},
   "outputs": [],
   "source": []
  }
 ],
 "metadata": {
  "kernelspec": {
   "display_name": "Python 3",
   "language": "python",
   "name": "python3"
  },
  "language_info": {
   "codemirror_mode": {
    "name": "ipython",
    "version": 3
   },
   "file_extension": ".py",
   "mimetype": "text/x-python",
   "name": "python",
   "nbconvert_exporter": "python",
   "pygments_lexer": "ipython3",
   "version": "3.8.1"
  }
 },
 "nbformat": 4,
 "nbformat_minor": 4
}
