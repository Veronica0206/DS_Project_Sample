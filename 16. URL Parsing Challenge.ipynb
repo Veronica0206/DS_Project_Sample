{
 "cells": [
  {
   "cell_type": "markdown",
   "metadata": {},
   "source": [
    "### Company XYZ is an Online Travel Agent site, such as Expedia, Booking.com, etc. They haven't invested in data science yet and all the data they have about user searches are simply stored in the URLs generated when users search for a hotel. If you are not familiar with URLs, you can run a search on any OTA site and see how all search parameters are present in the URL.\n",
    "### You are asked to:\n",
    "#### (1) Create a clean data set where each column is a field in the URL, each row is a given search and the cells are the corresponding URL values.\n",
    "#### (2) For each search query, how many amenities were selected?\n",
    "#### (3) Often, to measure the quality of a search algorithm, data scientists use some metric based on how often users click on the second page, third page, and so on. The idea here is that a great search algorithm should return all interesting results on the first page and never force users to visit the other pages (how often do you click on the second page results when you search on Google? Almost never, right?). Create a metric based on the above idea and find the city with the worst search algorithm."
   ]
  },
  {
   "cell_type": "code",
   "execution_count": 1,
   "metadata": {},
   "outputs": [],
   "source": [
    "import numpy as np\n",
    "import pandas as pd\n",
    "pd.set_option(\"display.max_columns\", 10)\n",
    "pd.set_option(\"display.width\", 350)\n",
    "\n",
    "from urllib.parse import urlparse\n",
    "\n",
    "import seaborn as sns\n",
    "import matplotlib.pyplot as plt\n",
    "\n",
    "import h2o\n",
    "from h2o.frame import H2OFrame\n",
    "from h2o.estimators.random_forest import H2ORandomForestEstimator\n",
    "from h2o.grid.grid_search import H2OGridSearch"
   ]
  },
  {
   "cell_type": "markdown",
   "metadata": {},
   "source": [
    "### Read in the data set"
   ]
  },
  {
   "cell_type": "code",
   "execution_count": 2,
   "metadata": {},
   "outputs": [
    {
     "name": "stdout",
     "output_type": "stream",
     "text": [
      "(77677, 1)\n"
     ]
    },
    {
     "data": {
      "text/html": [
       "<div>\n",
       "<style scoped>\n",
       "    .dataframe tbody tr th:only-of-type {\n",
       "        vertical-align: middle;\n",
       "    }\n",
       "\n",
       "    .dataframe tbody tr th {\n",
       "        vertical-align: top;\n",
       "    }\n",
       "\n",
       "    .dataframe thead th {\n",
       "        text-align: right;\n",
       "    }\n",
       "</style>\n",
       "<table border=\"1\" class=\"dataframe\">\n",
       "  <thead>\n",
       "    <tr style=\"text-align: right;\">\n",
       "      <th></th>\n",
       "      <th>0</th>\n",
       "    </tr>\n",
       "  </thead>\n",
       "  <tbody>\n",
       "    <tr>\n",
       "      <th>0</th>\n",
       "      <td>http://www.mysearchforhotels.com/shop/hotelsea...</td>\n",
       "    </tr>\n",
       "    <tr>\n",
       "      <th>1</th>\n",
       "      <td>http://www.mysearchforhotels.com/shop/hotelsea...</td>\n",
       "    </tr>\n",
       "    <tr>\n",
       "      <th>2</th>\n",
       "      <td>http://www.mysearchforhotels.com/shop/hotelsea...</td>\n",
       "    </tr>\n",
       "    <tr>\n",
       "      <th>3</th>\n",
       "      <td>http://www.mysearchforhotels.com/shop/hotelsea...</td>\n",
       "    </tr>\n",
       "    <tr>\n",
       "      <th>4</th>\n",
       "      <td>http://www.mysearchforhotels.com/shop/hotelsea...</td>\n",
       "    </tr>\n",
       "  </tbody>\n",
       "</table>\n",
       "</div>"
      ],
      "text/plain": [
       "                                                   0\n",
       "0  http://www.mysearchforhotels.com/shop/hotelsea...\n",
       "1  http://www.mysearchforhotels.com/shop/hotelsea...\n",
       "2  http://www.mysearchforhotels.com/shop/hotelsea...\n",
       "3  http://www.mysearchforhotels.com/shop/hotelsea...\n",
       "4  http://www.mysearchforhotels.com/shop/hotelsea..."
      ]
     },
     "execution_count": 2,
     "metadata": {},
     "output_type": "execute_result"
    }
   ],
   "source": [
    "url = pd.read_csv(\"../Datasets/url_list.txt\", sep = \" \", header = None)\n",
    "print(url.shape)\n",
    "url.head()"
   ]
  },
  {
   "cell_type": "markdown",
   "metadata": {},
   "source": [
    "### Data processing"
   ]
  },
  {
   "cell_type": "code",
   "execution_count": 3,
   "metadata": {},
   "outputs": [],
   "source": [
    "def search_parse(dat):\n",
    "    \"\"\" function to parse users\" search history \"\"\"\n",
    "    n = len(dat)\n",
    "    col_names = [\"checkin\", \"checkout\", \"customMinimumPriceFilter\", \"customMaximumPriceFilter\", \"freeCancellation\",\n",
    "                 \"stars_5\", \"stars_4\", \"stars_3\", \"stars_2\", \"stars_1\", \"max_score\", \"min_score\", \"couponCode\",\n",
    "                 \"adults\", \"city\", \"children\", \"amenities\", \"search_page\"]\n",
    "    \n",
    "    search_maps = {}\n",
    "    for name in col_names:\n",
    "        search_maps[name] = [np.nan] * n\n",
    "          \n",
    "    for i in range(n):\n",
    "        search_conditions = urlparse(dat.iloc[i][0])[4]\n",
    "        items = search_conditions.split(\"&\")\n",
    "        conditions = set()\n",
    "        \n",
    "        for item in items:\n",
    "            key, value = item.split(\"=\")\n",
    "            key = key.split(\".\")[1]\n",
    "            if key == \"city\":\n",
    "                value = value.strip().replace(\"+\", \" \")\n",
    "            if key not in conditions:\n",
    "                search_maps[key][i] = value\n",
    "                conditions.add(key)\n",
    "            else:\n",
    "                search_maps[key][i] = search_maps[key][i] + \", \" + value\n",
    "            \n",
    "    search_dat = pd.DataFrame(search_maps, columns = col_names)\n",
    "    search_dat[\"checkin\"] = pd.to_datetime(search_dat[\"checkin\"])\n",
    "    search_dat[\"checkout\"] = pd.to_datetime(search_dat[\"checkout\"])\n",
    "    search_dat = search_dat.rename(columns = {\"customMinimumPriceFilter\": \"minPrice\",\n",
    "                                              \"customMaximumPriceFilter\": \"maxPrice\"})\n",
    "    return search_dat"
   ]
  },
  {
   "cell_type": "code",
   "execution_count": 4,
   "metadata": {},
   "outputs": [],
   "source": [
    "search_dat = search_parse(dat = url)"
   ]
  },
  {
   "cell_type": "markdown",
   "metadata": {},
   "source": [
    "#### (1) Create a clean data set where each column is a field in the URL, each row is a given search and the cells are the corresponding URL values."
   ]
  },
  {
   "cell_type": "code",
   "execution_count": 5,
   "metadata": {},
   "outputs": [
    {
     "data": {
      "text/html": [
       "<div>\n",
       "<style scoped>\n",
       "    .dataframe tbody tr th:only-of-type {\n",
       "        vertical-align: middle;\n",
       "    }\n",
       "\n",
       "    .dataframe tbody tr th {\n",
       "        vertical-align: top;\n",
       "    }\n",
       "\n",
       "    .dataframe thead th {\n",
       "        text-align: right;\n",
       "    }\n",
       "</style>\n",
       "<table border=\"1\" class=\"dataframe\">\n",
       "  <thead>\n",
       "    <tr style=\"text-align: right;\">\n",
       "      <th></th>\n",
       "      <th>checkin</th>\n",
       "      <th>checkout</th>\n",
       "      <th>minPrice</th>\n",
       "      <th>maxPrice</th>\n",
       "      <th>freeCancellation</th>\n",
       "      <th>...</th>\n",
       "      <th>adults</th>\n",
       "      <th>city</th>\n",
       "      <th>children</th>\n",
       "      <th>amenities</th>\n",
       "      <th>search_page</th>\n",
       "    </tr>\n",
       "  </thead>\n",
       "  <tbody>\n",
       "    <tr>\n",
       "      <th>0</th>\n",
       "      <td>2015-09-19</td>\n",
       "      <td>2015-09-20</td>\n",
       "      <td>NaN</td>\n",
       "      <td>NaN</td>\n",
       "      <td>NaN</td>\n",
       "      <td>...</td>\n",
       "      <td>3</td>\n",
       "      <td>New York, NY, United States</td>\n",
       "      <td>NaN</td>\n",
       "      <td>NaN</td>\n",
       "      <td>1</td>\n",
       "    </tr>\n",
       "    <tr>\n",
       "      <th>1</th>\n",
       "      <td>2015-09-14</td>\n",
       "      <td>2015-09-15</td>\n",
       "      <td>NaN</td>\n",
       "      <td>NaN</td>\n",
       "      <td>NaN</td>\n",
       "      <td>...</td>\n",
       "      <td>3</td>\n",
       "      <td>London, United Kingdom</td>\n",
       "      <td>NaN</td>\n",
       "      <td>NaN</td>\n",
       "      <td>1</td>\n",
       "    </tr>\n",
       "    <tr>\n",
       "      <th>2</th>\n",
       "      <td>2015-09-26</td>\n",
       "      <td>2015-09-27</td>\n",
       "      <td>NaN</td>\n",
       "      <td>175</td>\n",
       "      <td>NaN</td>\n",
       "      <td>...</td>\n",
       "      <td>2</td>\n",
       "      <td>New York, NY, United States</td>\n",
       "      <td>NaN</td>\n",
       "      <td>NaN</td>\n",
       "      <td>1</td>\n",
       "    </tr>\n",
       "    <tr>\n",
       "      <th>3</th>\n",
       "      <td>2015-09-02</td>\n",
       "      <td>2015-09-03</td>\n",
       "      <td>NaN</td>\n",
       "      <td>NaN</td>\n",
       "      <td>NaN</td>\n",
       "      <td>...</td>\n",
       "      <td>1</td>\n",
       "      <td>Hong Kong, Hong Kong</td>\n",
       "      <td>NaN</td>\n",
       "      <td>NaN</td>\n",
       "      <td>1</td>\n",
       "    </tr>\n",
       "    <tr>\n",
       "      <th>4</th>\n",
       "      <td>2015-09-20</td>\n",
       "      <td>2015-09-29</td>\n",
       "      <td>NaN</td>\n",
       "      <td>275</td>\n",
       "      <td>NaN</td>\n",
       "      <td>...</td>\n",
       "      <td>3</td>\n",
       "      <td>London, United Kingdom</td>\n",
       "      <td>NaN</td>\n",
       "      <td>NaN</td>\n",
       "      <td>1</td>\n",
       "    </tr>\n",
       "  </tbody>\n",
       "</table>\n",
       "<p>5 rows × 18 columns</p>\n",
       "</div>"
      ],
      "text/plain": [
       "     checkin   checkout minPrice maxPrice freeCancellation  ... adults                         city children amenities search_page\n",
       "0 2015-09-19 2015-09-20      NaN      NaN              NaN  ...      3  New York, NY, United States      NaN       NaN           1\n",
       "1 2015-09-14 2015-09-15      NaN      NaN              NaN  ...      3       London, United Kingdom      NaN       NaN           1\n",
       "2 2015-09-26 2015-09-27      NaN      175              NaN  ...      2  New York, NY, United States      NaN       NaN           1\n",
       "3 2015-09-02 2015-09-03      NaN      NaN              NaN  ...      1         Hong Kong, Hong Kong      NaN       NaN           1\n",
       "4 2015-09-20 2015-09-29      NaN      275              NaN  ...      3       London, United Kingdom      NaN       NaN           1\n",
       "\n",
       "[5 rows x 18 columns]"
      ]
     },
     "execution_count": 5,
     "metadata": {},
     "output_type": "execute_result"
    }
   ],
   "source": [
    "search_dat.head()"
   ]
  },
  {
   "cell_type": "markdown",
   "metadata": {},
   "source": [
    "#### (2) For each search query, how many amenities were selected?"
   ]
  },
  {
   "cell_type": "code",
   "execution_count": 6,
   "metadata": {},
   "outputs": [
    {
     "data": {
      "text/plain": [
       "internet                272\n",
       "yes_smoking             170\n",
       "shuttle                 111\n",
       "yes_pet                  85\n",
       "breakfast                39\n",
       "lounge                   22\n",
       "yes_smoking, yes_pet      4\n",
       "breakfast, yes_pet        1\n",
       "Name: amenities, dtype: int64"
      ]
     },
     "execution_count": 6,
     "metadata": {},
     "output_type": "execute_result"
    }
   ],
   "source": [
    "search_dat[\"amenities\"].value_counts()"
   ]
  },
  {
   "cell_type": "code",
   "execution_count": 7,
   "metadata": {},
   "outputs": [
    {
     "data": {
      "text/plain": [
       "0    76973\n",
       "1      699\n",
       "2        5\n",
       "Name: amenities_count, dtype: int64"
      ]
     },
     "execution_count": 7,
     "metadata": {},
     "output_type": "execute_result"
    }
   ],
   "source": [
    "search_dat[\"amenities_count\"] = search_dat[\"amenities\"].apply(lambda x: 0 if pd.isnull(x) else len(x.split(\", \")))\n",
    "search_dat[\"amenities_count\"].value_counts()"
   ]
  },
  {
   "cell_type": "markdown",
   "metadata": {},
   "source": [
    "#### (3) Often, to measure the quality of a search algorithm, data scientists use some metric based on how often users click on the second page, third page, and so on. The idea here is that a great search algorithm should return all interesting results on the first page and never force users to visit the other pages (how often do you click on the second page results when you search on Google? Almost never, right?). Create a metric based on the above idea and find the city with the worst search algorithm."
   ]
  },
  {
   "cell_type": "code",
   "execution_count": 8,
   "metadata": {},
   "outputs": [
    {
     "data": {
      "text/html": [
       "<div>\n",
       "<style scoped>\n",
       "    .dataframe tbody tr th:only-of-type {\n",
       "        vertical-align: middle;\n",
       "    }\n",
       "\n",
       "    .dataframe tbody tr th {\n",
       "        vertical-align: top;\n",
       "    }\n",
       "\n",
       "    .dataframe thead th {\n",
       "        text-align: right;\n",
       "    }\n",
       "</style>\n",
       "<table border=\"1\" class=\"dataframe\">\n",
       "  <thead>\n",
       "    <tr style=\"text-align: right;\">\n",
       "      <th></th>\n",
       "      <th>checkin</th>\n",
       "      <th>checkout</th>\n",
       "      <th>minPrice</th>\n",
       "      <th>maxPrice</th>\n",
       "      <th>freeCancellation</th>\n",
       "      <th>...</th>\n",
       "      <th>children</th>\n",
       "      <th>amenities</th>\n",
       "      <th>search_page</th>\n",
       "      <th>amenities_count</th>\n",
       "      <th>first_page_flag</th>\n",
       "    </tr>\n",
       "  </thead>\n",
       "  <tbody>\n",
       "    <tr>\n",
       "      <th>0</th>\n",
       "      <td>2015-09-19</td>\n",
       "      <td>2015-09-20</td>\n",
       "      <td>NaN</td>\n",
       "      <td>NaN</td>\n",
       "      <td>NaN</td>\n",
       "      <td>...</td>\n",
       "      <td>NaN</td>\n",
       "      <td>NaN</td>\n",
       "      <td>1</td>\n",
       "      <td>0</td>\n",
       "      <td>1.0</td>\n",
       "    </tr>\n",
       "    <tr>\n",
       "      <th>1</th>\n",
       "      <td>2015-09-14</td>\n",
       "      <td>2015-09-15</td>\n",
       "      <td>NaN</td>\n",
       "      <td>NaN</td>\n",
       "      <td>NaN</td>\n",
       "      <td>...</td>\n",
       "      <td>NaN</td>\n",
       "      <td>NaN</td>\n",
       "      <td>1</td>\n",
       "      <td>0</td>\n",
       "      <td>1.0</td>\n",
       "    </tr>\n",
       "    <tr>\n",
       "      <th>2</th>\n",
       "      <td>2015-09-26</td>\n",
       "      <td>2015-09-27</td>\n",
       "      <td>NaN</td>\n",
       "      <td>175</td>\n",
       "      <td>NaN</td>\n",
       "      <td>...</td>\n",
       "      <td>NaN</td>\n",
       "      <td>NaN</td>\n",
       "      <td>1</td>\n",
       "      <td>0</td>\n",
       "      <td>1.0</td>\n",
       "    </tr>\n",
       "    <tr>\n",
       "      <th>3</th>\n",
       "      <td>2015-09-02</td>\n",
       "      <td>2015-09-03</td>\n",
       "      <td>NaN</td>\n",
       "      <td>NaN</td>\n",
       "      <td>NaN</td>\n",
       "      <td>...</td>\n",
       "      <td>NaN</td>\n",
       "      <td>NaN</td>\n",
       "      <td>1</td>\n",
       "      <td>0</td>\n",
       "      <td>1.0</td>\n",
       "    </tr>\n",
       "    <tr>\n",
       "      <th>4</th>\n",
       "      <td>2015-09-20</td>\n",
       "      <td>2015-09-29</td>\n",
       "      <td>NaN</td>\n",
       "      <td>275</td>\n",
       "      <td>NaN</td>\n",
       "      <td>...</td>\n",
       "      <td>NaN</td>\n",
       "      <td>NaN</td>\n",
       "      <td>1</td>\n",
       "      <td>0</td>\n",
       "      <td>1.0</td>\n",
       "    </tr>\n",
       "  </tbody>\n",
       "</table>\n",
       "<p>5 rows × 20 columns</p>\n",
       "</div>"
      ],
      "text/plain": [
       "     checkin   checkout minPrice maxPrice freeCancellation  ... children amenities search_page amenities_count first_page_flag\n",
       "0 2015-09-19 2015-09-20      NaN      NaN              NaN  ...      NaN       NaN           1               0             1.0\n",
       "1 2015-09-14 2015-09-15      NaN      NaN              NaN  ...      NaN       NaN           1               0             1.0\n",
       "2 2015-09-26 2015-09-27      NaN      175              NaN  ...      NaN       NaN           1               0             1.0\n",
       "3 2015-09-02 2015-09-03      NaN      NaN              NaN  ...      NaN       NaN           1               0             1.0\n",
       "4 2015-09-20 2015-09-29      NaN      275              NaN  ...      NaN       NaN           1               0             1.0\n",
       "\n",
       "[5 rows x 20 columns]"
      ]
     },
     "execution_count": 8,
     "metadata": {},
     "output_type": "execute_result"
    }
   ],
   "source": [
    "search_dat[\"first_page_flag\"] = search_dat[\"search_page\"].apply(lambda x: 1.0 if x == \"1\" else 0.0)\n",
    "search_dat.head()"
   ]
  },
  {
   "cell_type": "code",
   "execution_count": 9,
   "metadata": {},
   "outputs": [
    {
     "data": {
      "text/plain": [
       "['checkin',\n",
       " 'checkout',\n",
       " 'minPrice',\n",
       " 'maxPrice',\n",
       " 'freeCancellation',\n",
       " 'stars_5',\n",
       " 'stars_4',\n",
       " 'stars_3',\n",
       " 'stars_2',\n",
       " 'stars_1',\n",
       " 'max_score',\n",
       " 'min_score',\n",
       " 'couponCode',\n",
       " 'adults',\n",
       " 'city',\n",
       " 'children',\n",
       " 'amenities',\n",
       " 'search_page',\n",
       " 'amenities_count',\n",
       " 'first_page_flag']"
      ]
     },
     "execution_count": 9,
     "metadata": {},
     "output_type": "execute_result"
    }
   ],
   "source": [
    "list(search_dat.columns)"
   ]
  },
  {
   "cell_type": "code",
   "execution_count": 10,
   "metadata": {},
   "outputs": [
    {
     "name": "stdout",
     "output_type": "stream",
     "text": [
      "                                       city  first_page_flag\n",
      "1                    London, United Kingdom         0.526588\n",
      "2               New York, NY, United States         0.557616\n",
      "0                      Hong Kong, Hong Kong         0.910826\n",
      "3  San Francisco, California, United States         0.959285\n"
     ]
    },
    {
     "data": {
      "text/plain": [
       "Text(0, 0.5, 'First Page Rate ')"
      ]
     },
     "execution_count": 10,
     "metadata": {},
     "output_type": "execute_result"
    },
    {
     "data": {
      "image/png": "[encoded data removed]",
      "text/plain": [
       "<Figure size 864x432 with 1 Axes>"
      ]
     },
     "metadata": {
      "needs_background": "light"
     },
     "output_type": "display_data"
    }
   ],
   "source": [
    "grp_city = search_dat[[\"city\", \"first_page_flag\"]].groupby(\"city\").mean().reset_index().sort_values(by = \"first_page_flag\")\n",
    "print(grp_city)\n",
    "plt.figure(figsize = [12, 6])\n",
    "sns.barplot(x = \"city\", y = \"first_page_flag\", data = grp_city, palette = \"PuBuGn\")\n",
    "plt.title(\"First Page Rate by City\", fontsize = 16)\n",
    "plt.xlabel(\"City\", fontsize = 12)\n",
    "plt.ylabel(\"First Page Rate \", fontsize = 12)"
   ]
  },
  {
   "cell_type": "markdown",
   "metadata": {},
   "source": [
    "London and New York city have the worst search algorithm."
   ]
  },
  {
   "cell_type": "code",
   "execution_count": null,
   "metadata": {},
   "outputs": [],
   "source": []
  }
 ],
 "metadata": {
  "kernelspec": {
   "display_name": "Python 3",
   "language": "python",
   "name": "python3"
  },
  "language_info": {
   "codemirror_mode": {
    "name": "ipython",
    "version": 3
   },
   "file_extension": ".py",
   "mimetype": "text/x-python",
   "name": "python",
   "nbconvert_exporter": "python",
   "pygments_lexer": "ipython3",
   "version": "3.8.1"
  }
 },
 "nbformat": 4,
 "nbformat_minor": 4
}
